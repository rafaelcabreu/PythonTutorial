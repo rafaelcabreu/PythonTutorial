{
 "cells": [
  {
   "cell_type": "markdown",
   "metadata": {},
   "source": [
    "# NumPy\n",
    "\n",
    "NumPy é o pacote fundamental para computação científica em Python. Contém entre outras coisas:\n",
    "\n",
    "* Um poderoso objeto de matrizes N-dimensionais\n",
    "* Ferramentas para integrar com C/C++ e Fortran\n",
    "* Capacidade para cálculos em álgebra linear, transformação de Fourier e geração de números aleatórios.\n",
    "\n",
    "(http://www.numpy.org/)"
   ]
  },
  {
   "cell_type": "markdown",
   "metadata": {},
   "source": [
    "## Comandos básicos"
   ]
  },
  {
   "cell_type": "code",
   "execution_count": 3,
   "metadata": {},
   "outputs": [
    {
     "data": {
      "text/plain": [
       "list"
      ]
     },
     "execution_count": 3,
     "metadata": {},
     "output_type": "execute_result"
    }
   ],
   "source": [
    "x = [[ 1., 0., 0.],\n",
    "     [ 0., 1., 2.]]\n",
    "\n",
    "type(x)"
   ]
  },
  {
   "cell_type": "markdown",
   "metadata": {},
   "source": [
    "### Importando pacotes no Python: \n",
    "\n",
    "A estrutura básica para importar pacotes é a seguinte:\n",
    "\n",
    "`import numpy`\n",
    "\n",
    "Podemos chamar \"subpacotes\" ou métodos da seguinte forma:\n",
    "\n",
    "`from numpy import linalg\n",
    "from numpy import array`\n",
    "\n",
    "Encurtamentos geralmente são usados já que o nome do pacote precisa ser especificado quando chamando um método. Ou seja, geralmente usamos:\n",
    "\n",
    "`import numpy as np`\n",
    "\n",
    "Dessa forma não precisamos sempre escrever `numpy` nos comandos, apenas `np`"
   ]
  },
  {
   "cell_type": "code",
   "execution_count": 4,
   "metadata": {
    "collapsed": true
   },
   "outputs": [],
   "source": [
    "import numpy as np"
   ]
  },
  {
   "cell_type": "code",
   "execution_count": 5,
   "metadata": {
    "collapsed": true
   },
   "outputs": [],
   "source": [
    "x = np.array([[ 1., 0., 0.],\n",
    "              [ 0., 1., 2.]])"
   ]
  },
  {
   "cell_type": "code",
   "execution_count": 6,
   "metadata": {},
   "outputs": [
    {
     "name": "stdout",
     "output_type": "stream",
     "text": [
      "<type 'numpy.ndarray'>\n",
      "(2, 3)\n",
      "2\n",
      "6\n",
      "float64\n"
     ]
    }
   ],
   "source": [
    "print type(x)\n",
    "print x.shape\n",
    "print x.ndim\n",
    "print x.size\n",
    "print x.dtype"
   ]
  },
  {
   "cell_type": "code",
   "execution_count": 7,
   "metadata": {},
   "outputs": [
    {
     "name": "stdout",
     "output_type": "stream",
     "text": [
      "[[ 1.  0.  0.]\n",
      " [ 0.  1.  2.]]\n"
     ]
    }
   ],
   "source": [
    "print x"
   ]
  },
  {
   "cell_type": "code",
   "execution_count": 8,
   "metadata": {},
   "outputs": [
    {
     "name": "stdout",
     "output_type": "stream",
     "text": [
      "|S3\n",
      "[['abc' '0.0' '0.0']\n",
      " ['0.0' '1.0' '2.0']]\n"
     ]
    }
   ],
   "source": [
    "x = np.array([[ 'abc', 0., 0.],\n",
    "              [ 0., 1., 2.]])\n",
    "\n",
    "print x.dtype\n",
    "print x"
   ]
  },
  {
   "cell_type": "markdown",
   "metadata": {
    "collapsed": true
   },
   "source": [
    "É possível criar arrays de zeros, 1 e um array vazio."
   ]
  },
  {
   "cell_type": "code",
   "execution_count": 9,
   "metadata": {},
   "outputs": [
    {
     "name": "stdout",
     "output_type": "stream",
     "text": [
      "[[ 0.  0.  0.  0.]\n",
      " [ 0.  0.  0.  0.]\n",
      " [ 0.  0.  0.  0.]]\n",
      "(3, 4)\n"
     ]
    }
   ],
   "source": [
    "x = np.zeros((3, 4)) # as dimensões\n",
    "\n",
    "print x\n",
    "print x.shape"
   ]
  },
  {
   "cell_type": "code",
   "execution_count": 10,
   "metadata": {},
   "outputs": [
    {
     "name": "stdout",
     "output_type": "stream",
     "text": [
      "[[ 1.  1.  1.  1.]\n",
      " [ 1.  1.  1.  1.]\n",
      " [ 1.  1.  1.  1.]]\n",
      "(3, 4)\n"
     ]
    }
   ],
   "source": [
    "x = np.ones((3, 4))\n",
    "\n",
    "print x\n",
    "print x.shape"
   ]
  },
  {
   "cell_type": "code",
   "execution_count": 11,
   "metadata": {},
   "outputs": [
    {
     "name": "stdout",
     "output_type": "stream",
     "text": [
      "[[ 0.  0.  0.  0.]\n",
      " [ 0.  0.  0.  0.]\n",
      " [ 0.  0.  0.  0.]]\n",
      "(3, 4)\n"
     ]
    }
   ],
   "source": [
    "x = np.empty((3, 4))\n",
    "\n",
    "print x\n",
    "print x.shape"
   ]
  },
  {
   "cell_type": "markdown",
   "metadata": {},
   "source": [
    "Para criar uma lista de valores automaticamente,"
   ]
  },
  {
   "cell_type": "code",
   "execution_count": 12,
   "metadata": {},
   "outputs": [
    {
     "name": "stdout",
     "output_type": "stream",
     "text": [
      "[0 1 2 3 4 5 6 7 8 9]\n"
     ]
    }
   ],
   "source": [
    "x = np.arange(0, 10, 1) # start, stop, step\n",
    "\n",
    "print x"
   ]
  },
  {
   "cell_type": "code",
   "execution_count": 13,
   "metadata": {},
   "outputs": [
    {
     "name": "stdout",
     "output_type": "stream",
     "text": [
      "[ 0.  1.  2.  3.  4.  5.  6.  7.  8.  9.]\n"
     ]
    }
   ],
   "source": [
    "x = np.linspace(0, 9, 10)\n",
    "\n",
    "print x"
   ]
  },
  {
   "cell_type": "markdown",
   "metadata": {},
   "source": [
    "É possível redimensionar a sua matrix de dados também"
   ]
  },
  {
   "cell_type": "code",
   "execution_count": 14,
   "metadata": {},
   "outputs": [
    {
     "name": "stdout",
     "output_type": "stream",
     "text": [
      "[[ 0.58697143  0.2228386   0.15955585  0.05791205]\n",
      " [ 0.20193091  0.59845623  0.28979729  0.52109071]\n",
      " [ 0.61197991  0.33091256  0.7157449   0.62534104]] \n",
      "\n",
      "[[ 0.58697143  0.2228386   0.15955585]\n",
      " [ 0.05791205  0.20193091  0.59845623]\n",
      " [ 0.28979729  0.52109071  0.61197991]\n",
      " [ 0.33091256  0.7157449   0.62534104]]\n"
     ]
    }
   ],
   "source": [
    "x = np.random.random((3, 4))\n",
    "\n",
    "x_new = x.reshape((4, 3))\n",
    "\n",
    "print x, '\\n'\n",
    "print x_new"
   ]
  },
  {
   "cell_type": "markdown",
   "metadata": {},
   "source": [
    "Caso você seja preguiçoso, o índice -1 automaticamente calcula a dimensão faltante"
   ]
  },
  {
   "cell_type": "code",
   "execution_count": 15,
   "metadata": {},
   "outputs": [
    {
     "name": "stdout",
     "output_type": "stream",
     "text": [
      "[[ 0.58697143  0.2228386 ]\n",
      " [ 0.15955585  0.05791205]\n",
      " [ 0.20193091  0.59845623]\n",
      " [ 0.28979729  0.52109071]\n",
      " [ 0.61197991  0.33091256]\n",
      " [ 0.7157449   0.62534104]]\n"
     ]
    }
   ],
   "source": [
    "print x.reshape((6, -1))"
   ]
  },
  {
   "cell_type": "markdown",
   "metadata": {},
   "source": [
    "Assim como transformar seus dados em um vetor de 1D"
   ]
  },
  {
   "cell_type": "code",
   "execution_count": 16,
   "metadata": {},
   "outputs": [
    {
     "name": "stdout",
     "output_type": "stream",
     "text": [
      "[ 0.98058814  0.30087029  0.90343061  0.65718172  0.87767481  0.58450533\n",
      "  0.16585752  0.74412911  0.43292751  0.42228674  0.13088336  0.807345  ]\n"
     ]
    }
   ],
   "source": [
    "x = np.random.random((3, 4))\n",
    "\n",
    "print x.flatten()"
   ]
  },
  {
   "cell_type": "markdown",
   "metadata": {},
   "source": [
    "## Indexação"
   ]
  },
  {
   "cell_type": "code",
   "execution_count": 17,
   "metadata": {},
   "outputs": [
    {
     "name": "stdout",
     "output_type": "stream",
     "text": [
      "[[ 0.53629778  0.15101975  0.93795915  0.72788677]\n",
      " [ 0.00604766  0.50351291  0.08562858  0.02100058]\n",
      " [ 0.07348664  0.82221419  0.75488715  0.41603081]]\n"
     ]
    }
   ],
   "source": [
    "x = np.random.random((3, 4))\n",
    "\n",
    "print x"
   ]
  },
  {
   "cell_type": "code",
   "execution_count": 18,
   "metadata": {},
   "outputs": [
    {
     "name": "stdout",
     "output_type": "stream",
     "text": [
      "2\n"
     ]
    }
   ],
   "source": [
    "print x.ndim"
   ]
  },
  {
   "cell_type": "code",
   "execution_count": 19,
   "metadata": {},
   "outputs": [
    {
     "name": "stdout",
     "output_type": "stream",
     "text": [
      "[[ 0.53629778  0.15101975  0.93795915  0.72788677]\n",
      " [ 0.00604766  0.50351291  0.08562858  0.02100058]\n",
      " [ 0.07348664  0.82221419  0.75488715  0.41603081]]\n"
     ]
    }
   ],
   "source": [
    "print x[:, :]"
   ]
  },
  {
   "cell_type": "markdown",
   "metadata": {},
   "source": [
    "Porém se especificarmos mais índices que a matrix possui de dimensões um erro será levantado"
   ]
  },
  {
   "cell_type": "code",
   "execution_count": 20,
   "metadata": {},
   "outputs": [
    {
     "ename": "IndexError",
     "evalue": "too many indices for array",
     "output_type": "error",
     "traceback": [
      "\u001b[0;31m---------------------------------------------------------------------------\u001b[0m",
      "\u001b[0;31mIndexError\u001b[0m                                Traceback (most recent call last)",
      "\u001b[0;32m<ipython-input-20-3932c6a88e83>\u001b[0m in \u001b[0;36m<module>\u001b[0;34m()\u001b[0m\n\u001b[0;32m----> 1\u001b[0;31m \u001b[0;32mprint\u001b[0m \u001b[0mx\u001b[0m\u001b[0;34m[\u001b[0m\u001b[0;34m:\u001b[0m\u001b[0;34m,\u001b[0m \u001b[0;34m:\u001b[0m\u001b[0;34m,\u001b[0m \u001b[0;34m:\u001b[0m\u001b[0;34m]\u001b[0m\u001b[0;34m\u001b[0m\u001b[0m\n\u001b[0m",
      "\u001b[0;31mIndexError\u001b[0m: too many indices for array"
     ]
    }
   ],
   "source": [
    "print x[:, :, :]"
   ]
  },
  {
   "cell_type": "markdown",
   "metadata": {},
   "source": [
    "Equivalentemente a `x[:, :]` e x, utilizando `x[:]`, você seleciona todos os índices do array, independentemente de quantas dimensões ele possui."
   ]
  },
  {
   "cell_type": "code",
   "execution_count": 21,
   "metadata": {},
   "outputs": [
    {
     "name": "stdout",
     "output_type": "stream",
     "text": [
      "[[ 0.53629778  0.15101975  0.93795915  0.72788677]\n",
      " [ 0.00604766  0.50351291  0.08562858  0.02100058]\n",
      " [ 0.07348664  0.82221419  0.75488715  0.41603081]]\n"
     ]
    }
   ],
   "source": [
    "print x[:]"
   ]
  },
  {
   "cell_type": "markdown",
   "metadata": {},
   "source": [
    "Caso você queira selecionar apenas uma linha ou coluna"
   ]
  },
  {
   "cell_type": "code",
   "execution_count": 22,
   "metadata": {},
   "outputs": [
    {
     "name": "stdout",
     "output_type": "stream",
     "text": [
      "[ 0.53629778  0.00604766  0.07348664]\n",
      "[ 0.53629778  0.15101975  0.93795915  0.72788677]\n"
     ]
    }
   ],
   "source": [
    "print x[:, 0] # todas as linhas e coluna 0\n",
    "print x[0, :] # todas as colunas e a linha 0"
   ]
  },
  {
   "cell_type": "markdown",
   "metadata": {},
   "source": [
    "Pegando apenas um elemento"
   ]
  },
  {
   "cell_type": "code",
   "execution_count": 23,
   "metadata": {},
   "outputs": [
    {
     "name": "stdout",
     "output_type": "stream",
     "text": [
      "0.536297778493\n",
      "0.727886765459\n",
      "0.416030805099\n"
     ]
    }
   ],
   "source": [
    "print x[0, 0] # primeiro elemento\n",
    "print x[0, -1] # primeira linha e última coluna\n",
    "print x[2, 3]"
   ]
  },
  {
   "cell_type": "markdown",
   "metadata": {},
   "source": [
    "Selecionando apenas um intervalo de dados"
   ]
  },
  {
   "cell_type": "code",
   "execution_count": 24,
   "metadata": {},
   "outputs": [
    {
     "name": "stdout",
     "output_type": "stream",
     "text": [
      "[[ 0.00604766  0.50351291  0.08562858  0.02100058]\n",
      " [ 0.07348664  0.82221419  0.75488715  0.41603081]]\n"
     ]
    }
   ],
   "source": [
    "print x[1:3, :] # todas as colunas, e das linhas 1 a 3, ou seja, linhas 1 e 2 \n",
    "                # (lembrando que a indexação começa em 0)"
   ]
  },
  {
   "cell_type": "markdown",
   "metadata": {},
   "source": [
    "É possível também inverter a ordem dos dados. Por exemplo, se você quiser reordenar as linhas"
   ]
  },
  {
   "cell_type": "code",
   "execution_count": 25,
   "metadata": {},
   "outputs": [
    {
     "name": "stdout",
     "output_type": "stream",
     "text": [
      "[[ 0.07348664  0.82221419  0.75488715  0.41603081]\n",
      " [ 0.00604766  0.50351291  0.08562858  0.02100058]\n",
      " [ 0.53629778  0.15101975  0.93795915  0.72788677]]\n"
     ]
    }
   ],
   "source": [
    "print x[::-1, :]"
   ]
  },
  {
   "cell_type": "markdown",
   "metadata": {},
   "source": [
    "<div class=\"alert alert-block alert-success\">\n",
    "<b>Em que situação isso pode ser usado?</b> As vezes os arquivos netCDF ou grib que são comuns em meteorologia podem vir com as coordenadas de latitude invertida, ou seja, em vez de -90 a 90 de 90 a -90. Usando isso você consegue inverter as coordenadas de modo que fique do jeito que você espera.\n",
    "</div>"
   ]
  },
  {
   "cell_type": "code",
   "execution_count": 26,
   "metadata": {},
   "outputs": [
    {
     "name": "stdout",
     "output_type": "stream",
     "text": [
      "[[ 0.22233419  0.33616864  0.88354151  0.81397597]\n",
      " [ 0.47997372  0.19979983  0.70623983  0.46621492]\n",
      " [ 0.71967756  0.8111777   0.34296739  0.68379373]]\n",
      "[[  2.22334193e-01   2.46587521e-01   9.67968519e-01   1.58826140e-01\n",
      "    9.22340537e-01]\n",
      " [  3.36168644e-01   7.69012570e-01   5.70212579e-01   2.06406262e-01\n",
      "    2.86764346e-01]\n",
      " [  8.83541507e-01   7.44968378e-01   8.49821960e-02   9.04456062e-01\n",
      "    7.37460497e-01]\n",
      " [  8.13975972e-01   2.89590061e-05   9.77038969e-01   9.58883726e-01\n",
      "    9.08148292e-01]]\n"
     ]
    }
   ],
   "source": [
    "x = np.random.random((3, 4, 5))\n",
    "\n",
    "print x[..., 0]\n",
    "print x[0]"
   ]
  },
  {
   "cell_type": "markdown",
   "metadata": {},
   "source": [
    "Você também pode indexar com base em alguma condição que você quer que seja satisfeita, por exemplo:"
   ]
  },
  {
   "cell_type": "code",
   "execution_count": 27,
   "metadata": {},
   "outputs": [
    {
     "name": "stdout",
     "output_type": "stream",
     "text": [
      "[False  True False False  True]\n"
     ]
    }
   ],
   "source": [
    "a = np.array([5, 9, 2, 1.5, 99])\n",
    "\n",
    "print a > 5"
   ]
  },
  {
   "cell_type": "code",
   "execution_count": 28,
   "metadata": {},
   "outputs": [
    {
     "name": "stdout",
     "output_type": "stream",
     "text": [
      "[  9.  99.]\n"
     ]
    }
   ],
   "source": [
    "print a[a > 5]"
   ]
  },
  {
   "cell_type": "markdown",
   "metadata": {},
   "source": [
    "## Operações"
   ]
  },
  {
   "cell_type": "markdown",
   "metadata": {},
   "source": [
    "As operações matemáticas básicas são utilizadas normalmente com arrays numpy"
   ]
  },
  {
   "cell_type": "code",
   "execution_count": 29,
   "metadata": {},
   "outputs": [
    {
     "name": "stdout",
     "output_type": "stream",
     "text": [
      "[ 0  2  4  6  8 10]\n",
      "[ 0.5524723   0.63363544  0.36053961  0.7017899   0.49946488  0.08315857]\n"
     ]
    }
   ],
   "source": [
    "x = np.arange(0, 12, 2)\n",
    "y = np.random.random(6)\n",
    "\n",
    "print x\n",
    "print y"
   ]
  },
  {
   "cell_type": "code",
   "execution_count": 30,
   "metadata": {},
   "outputs": [
    {
     "name": "stdout",
     "output_type": "stream",
     "text": [
      "[-0.5524723   1.36636456  3.63946039  5.2982101   7.50053512  9.91684143]\n"
     ]
    }
   ],
   "source": [
    "print x-y"
   ]
  },
  {
   "cell_type": "code",
   "execution_count": 31,
   "metadata": {},
   "outputs": [
    {
     "name": "stdout",
     "output_type": "stream",
     "text": [
      "[ 0.          1.26727088  1.44215842  4.21073939  3.99571902  0.83158571]\n"
     ]
    }
   ],
   "source": [
    "print x * y"
   ]
  },
  {
   "cell_type": "code",
   "execution_count": 32,
   "metadata": {},
   "outputs": [
    {
     "name": "stdout",
     "output_type": "stream",
     "text": [
      "[  0   4  16  36  64 100]\n"
     ]
    }
   ],
   "source": [
    "print x ** 2"
   ]
  },
  {
   "cell_type": "code",
   "execution_count": 33,
   "metadata": {},
   "outputs": [
    {
     "name": "stdout",
     "output_type": "stream",
     "text": [
      "[   0.            3.1563891    11.09448155    8.54956735   16.01714226\n",
      "  120.25218608]\n"
     ]
    }
   ],
   "source": [
    "print x / y"
   ]
  },
  {
   "cell_type": "markdown",
   "metadata": {},
   "source": [
    "<div class=\"alert alert-block alert-info\">\n",
    "Diferentemente da muitas linguagens científicas (matlab, por exemplo) o operador `*` realiza o produto por elementos de uma matriz. Para fazer o produto escalar, é necessário usar a função `np.dot()`\n",
    "</div>"
   ]
  },
  {
   "cell_type": "code",
   "execution_count": 34,
   "metadata": {},
   "outputs": [
    {
     "data": {
      "text/plain": [
       "11.747473430918536"
      ]
     },
     "execution_count": 34,
     "metadata": {},
     "output_type": "execute_result"
    }
   ],
   "source": [
    "np.dot(x, y)"
   ]
  },
  {
   "cell_type": "code",
   "execution_count": 35,
   "metadata": {},
   "outputs": [
    {
     "name": "stdout",
     "output_type": "stream",
     "text": [
      "[[5 4]\n",
      " [3 4]] \n",
      "\n",
      "[[2 0]\n",
      " [0 4]]\n"
     ]
    }
   ],
   "source": [
    "A = np.array([[1,1],\n",
    "              [0,1]])\n",
    "B = np.array([[2,0],\n",
    "              [3,4]])\n",
    "\n",
    "print np.dot(A, B), '\\n'\n",
    "print A * B"
   ]
  },
  {
   "cell_type": "markdown",
   "metadata": {},
   "source": [
    "Utilizando o operador `.T` na matriz retorna a transposta"
   ]
  },
  {
   "cell_type": "code",
   "execution_count": 36,
   "metadata": {},
   "outputs": [
    {
     "name": "stdout",
     "output_type": "stream",
     "text": [
      "[[2 3]\n",
      " [0 4]]\n"
     ]
    }
   ],
   "source": [
    "print B.T"
   ]
  },
  {
   "cell_type": "markdown",
   "metadata": {},
   "source": [
    "O numpy possui também inúmeras funções para lidar com matrizes, como soma, exponencial, raiz quadrática, seno e etc."
   ]
  },
  {
   "cell_type": "code",
   "execution_count": 37,
   "metadata": {},
   "outputs": [
    {
     "name": "stdout",
     "output_type": "stream",
     "text": [
      "[ 0.55270068  0.62779843  0.63498832  0.34639641  0.65242017  0.83004242]\n"
     ]
    }
   ],
   "source": [
    "x = np.random.random(6)\n",
    "\n",
    "print x"
   ]
  },
  {
   "cell_type": "code",
   "execution_count": 38,
   "metadata": {},
   "outputs": [
    {
     "name": "stdout",
     "output_type": "stream",
     "text": [
      "[ 1.7379403   1.87348144  1.88700009  1.41396301  1.92018238  2.29341602]\n",
      "[ 0.74343842  0.79233732  0.79686154  0.58855451  0.80772531  0.91106664]\n",
      "[ 0.52498771  0.58736441  0.59316811  0.33951047  0.60711129  0.73796   ]\n",
      "3.64434642897\n"
     ]
    }
   ],
   "source": [
    "print np.exp(x)\n",
    "print np.sqrt(x)\n",
    "print np.sin(x)\n",
    "print x.sum()"
   ]
  },
  {
   "cell_type": "markdown",
   "metadata": {},
   "source": [
    "Caso você tenha uma matriz de mais de uma dimensão, é possível especificar o eixo em que determinada função será feita, como por exemplo, soma, média, máximos e mínimos."
   ]
  },
  {
   "cell_type": "code",
   "execution_count": 39,
   "metadata": {},
   "outputs": [
    {
     "name": "stdout",
     "output_type": "stream",
     "text": [
      "[[[ 0.61271617  0.87834098  0.09066955  0.61212514  0.59739461]\n",
      "  [ 0.02721298  0.59523029  0.61708499  0.10788295  0.06044503]\n",
      "  [ 0.71425277  0.0240751   0.19618617  0.75261873  0.7306419 ]\n",
      "  [ 0.88918     0.69412497  0.22193352  0.25087589  0.53114146]]\n",
      "\n",
      " [[ 0.16682324  0.97099734  0.57845713  0.49621305  0.055286  ]\n",
      "  [ 0.50089222  0.07362558  0.53189613  0.02447191  0.17718095]\n",
      "  [ 0.61858868  0.67288121  0.14848653  0.52667291  0.45542515]\n",
      "  [ 0.73509128  0.69677687  0.62326231  0.20072802  0.25140743]]\n",
      "\n",
      " [[ 0.72037645  0.65925812  0.01081808  0.81627201  0.8310264 ]\n",
      "  [ 0.10979301  0.75098953  0.31410942  0.94920399  0.10634752]\n",
      "  [ 0.16137065  0.93259324  0.92428078  0.74371911  0.92674801]\n",
      "  [ 0.98611096  0.55047287  0.62516505  0.44464892  0.60314757]]]\n"
     ]
    }
   ],
   "source": [
    "x = np.random.random((3, 4, 5))\n",
    "\n",
    "print x"
   ]
  },
  {
   "cell_type": "code",
   "execution_count": 40,
   "metadata": {},
   "outputs": [
    {
     "name": "stdout",
     "output_type": "stream",
     "text": [
      "[[ 1.49991586  2.50859644  0.67994476  1.92461021  1.48370701]\n",
      " [ 0.63789821  1.4198454   1.46309053  1.08155885  0.3439735 ]\n",
      " [ 1.4942121   1.62954956  1.26895348  2.02301075  2.11281506]\n",
      " [ 2.61038224  1.94137472  1.47036088  0.89625283  1.38569646]]\n",
      "(4, 5)\n"
     ]
    }
   ],
   "source": [
    "x_sum = x.sum(axis=0)\n",
    "\n",
    "print x_sum\n",
    "print x_sum.shape"
   ]
  },
  {
   "cell_type": "code",
   "execution_count": 41,
   "metadata": {},
   "outputs": [
    {
     "name": "stdout",
     "output_type": "stream",
     "text": [
      "[[ 0.56084048  0.54794284  0.28146856  0.43087568  0.47990575]\n",
      " [ 0.50534886  0.60357025  0.47052552  0.31202147  0.23482488]\n",
      " [ 0.49441277  0.72332844  0.46859333  0.73846101  0.61681737]]\n",
      "(3, 5)\n"
     ]
    }
   ],
   "source": [
    "x_mean = x.mean(axis=1)\n",
    "\n",
    "print x_mean\n",
    "print x_mean.shape"
   ]
  },
  {
   "cell_type": "code",
   "execution_count": 42,
   "metadata": {},
   "outputs": [
    {
     "name": "stdout",
     "output_type": "stream",
     "text": [
      "[[ 0.87834098  0.61708499  0.75261873  0.88918   ]\n",
      " [ 0.97099734  0.53189613  0.67288121  0.73509128]\n",
      " [ 0.8310264   0.94920399  0.93259324  0.98611096]]\n",
      "(3, 4)\n"
     ]
    }
   ],
   "source": [
    "x_max = x.max(axis=2)\n",
    "\n",
    "print x_max\n",
    "print x_max.shape"
   ]
  },
  {
   "cell_type": "markdown",
   "metadata": {},
   "source": [
    "Para concatenar matrizes você pode usar comandos como `concatenate`, `stack` e `vstack`"
   ]
  },
  {
   "cell_type": "code",
   "execution_count": 43,
   "metadata": {},
   "outputs": [
    {
     "name": "stdout",
     "output_type": "stream",
     "text": [
      "[[ 0.89453334  0.90793912  0.48793636  0.29869361  0.52497478]\n",
      " [ 0.27470326  0.77542241  0.3459017   0.57785974  0.67301391]]\n",
      "Dimensões de c = (2, 5)\n",
      "[[ 0.89453334  0.27470326]\n",
      " [ 0.90793912  0.77542241]\n",
      " [ 0.48793636  0.3459017 ]\n",
      " [ 0.29869361  0.57785974]\n",
      " [ 0.52497478  0.67301391]]\n",
      "Dimensões de c = (5, 2)\n",
      "[[ 0.89453334  0.90793912  0.48793636  0.29869361  0.52497478]\n",
      " [ 0.27470326  0.77542241  0.3459017   0.57785974  0.67301391]]\n",
      "Dimensões de c = (2, 5)\n",
      "[ 0.89453334  0.90793912  0.48793636  0.29869361  0.52497478  0.27470326\n",
      "  0.77542241  0.3459017   0.57785974  0.67301391]\n",
      "Dimensões de c = (10,)\n"
     ]
    }
   ],
   "source": [
    "a = np.random.random(5)\n",
    "b = np.random.random(5)\n",
    "\n",
    "c = np.stack([a, b], axis=0)\n",
    "print c\n",
    "print 'Dimensões de c =', c.shape\n",
    "\n",
    "c = np.stack([a, b], axis=1)\n",
    "print c\n",
    "print 'Dimensões de c =', c.shape\n",
    "\n",
    "c = np.vstack([a, b])\n",
    "print c\n",
    "print 'Dimensões de c =', c.shape\n",
    "\n",
    "c = np.concatenate([a, b])\n",
    "print c\n",
    "print 'Dimensões de c =', c.shape"
   ]
  },
  {
   "cell_type": "code",
   "execution_count": 44,
   "metadata": {},
   "outputs": [
    {
     "name": "stdout",
     "output_type": "stream",
     "text": [
      "[[ 0.69531824  0.79269341  0.89074201]\n",
      " [ 0.30683517  0.07678208  0.75407432]\n",
      " [ 0.38532971  0.83313625  0.66305304]\n",
      " [ 0.54297328  0.98133969  0.8931802 ]\n",
      " [ 0.99061124  0.77437804  0.19139636]\n",
      " [ 0.24351809  0.09427179  0.70861771]]\n",
      "Dimensões de c = (6, 3)\n",
      "[[[ 0.69531824  0.79269341  0.89074201]\n",
      "  [ 0.30683517  0.07678208  0.75407432]\n",
      "  [ 0.38532971  0.83313625  0.66305304]]\n",
      "\n",
      " [[ 0.54297328  0.98133969  0.8931802 ]\n",
      "  [ 0.99061124  0.77437804  0.19139636]\n",
      "  [ 0.24351809  0.09427179  0.70861771]]]\n",
      "Dimensões de c = (2, 3, 3)\n"
     ]
    }
   ],
   "source": [
    "a = np.random.random((3,3))\n",
    "b = np.random.random((3,3))\n",
    "\n",
    "c = np.concatenate([a, b], axis=0)\n",
    "print c\n",
    "print 'Dimensões de c =', c.shape\n",
    "\n",
    "c = np.stack([a, b])\n",
    "print c\n",
    "print 'Dimensões de c =', c.shape"
   ]
  },
  {
   "cell_type": "markdown",
   "metadata": {},
   "source": [
    "<div class=\"alert alert-block alert-success\">\n",
    "<b>Em que situação isso pode ser usado?</b> As vezes você tem vários arquivos com um conjunto de tempos diferentes e quer reduzir para apenas um arquivo. Por exemplo, dois arquivos com matrizes a e b de dimensões (2, 3, 3) sendo que a primeira dimensão é o tempo, a segunda latitude e a terceira longitude. Usando o comando `np.concatenate([a, b], axis=0)` criar uma matriz de tamanho (4, 3, 3), ou seja, um único arquivo com todos os tempos.\n",
    "</div>"
   ]
  },
  {
   "cell_type": "markdown",
   "metadata": {
    "collapsed": true
   },
   "source": [
    "## Exercício 4\n",
    "\n",
    "a) Refaça o Exercício 1 definindo `a` como um objeto numpy.array e selecionando os valores pares com o que você aprendeu.\n",
    "\n",
    "b) Utilize a técnica de mínimos quadrados, em forma matricial, para verficar os parâmetros `a` e `b` de uma regressão linear. Compare os valores obtidos com esse método com os valores reais.\n",
    "\n",
    "Considerações:\n",
    "- Considere que:\n",
    "$X = \n",
    "\\begin{bmatrix}\n",
    "1 & 1 \\\\\n",
    "1 & 2 \\\\\n",
    "1 & 3 \\\\\n",
    "\\vdots & \\vdots \\\\\n",
    "1 & n \\\\\n",
    "\\end{bmatrix}$\n",
    "Com $n$ indo de 1 a 100\n",
    "\n",
    "- Considere que $y = X \\beta + \\mu$, onde $\\beta = \\begin{bmatrix} a \\\\ b \\end{bmatrix} = \\begin{bmatrix} 3 \\\\ 0.5 \\end{bmatrix}$ e $\\mu \\sim N(0,1)$ é um ruído com distribuição normal de média zero e desvio padrão igual a 1\n",
    "\n",
    "- Utilize a seguinte equação para estimar os parâmetros: $\\hat{\\beta} = (X^{T}X)^{-1}X^{T}y$\n",
    "\n",
    "Dicas:\n",
    "- Utilize o que você aprendeu sobre concatenação, criação de arrays e multiplicadores com numpy. Você pode achar útil usar as funções `np.linalg.multi_dot()` para fazer o produto escala entre mais de uma matriz, `np.linalg.inv()` para calcular a inversa e `np.random.randn()` para gerar uma série de distribuição $N(0,1)$  "
   ]
  },
  {
   "cell_type": "markdown",
   "metadata": {},
   "source": [
    "## Performance"
   ]
  },
  {
   "cell_type": "code",
   "execution_count": 45,
   "metadata": {
    "collapsed": true
   },
   "outputs": [],
   "source": [
    "from datetime import datetime"
   ]
  },
  {
   "cell_type": "markdown",
   "metadata": {},
   "source": [
    "Vamos ver agora a diferença entre a eficiência de se fazer as operações usando o numpy e usando a sintaxe comum de loops."
   ]
  },
  {
   "cell_type": "code",
   "execution_count": 46,
   "metadata": {},
   "outputs": [
    {
     "name": "stdout",
     "output_type": "stream",
     "text": [
      "Tempo que demorou para executar  0:00:01.170351\n"
     ]
    }
   ],
   "source": [
    "# tamanho da matriz\n",
    "ny, nx = 1000, 1000\n",
    "\n",
    "x1 = np.random.random((ny, nx))\n",
    "x2 = np.random.random((ny, nx))\n",
    "\n",
    "# matriz de saída\n",
    "x3 = np.zeros((ny, nx))\n",
    "\n",
    "before_code = datetime.now()\n",
    "\n",
    "for i in range(ny):\n",
    "    for j in range(nx):\n",
    "        x3[i, j] = x1[i, j] + x2[i, j]\n",
    "        \n",
    "after_code = datetime.now()\n",
    "\n",
    "print 'Tempo que demorou para executar ', (after_code - before_code)"
   ]
  },
  {
   "cell_type": "markdown",
   "metadata": {},
   "source": [
    "Agora usando o numpy"
   ]
  },
  {
   "cell_type": "code",
   "execution_count": 47,
   "metadata": {},
   "outputs": [
    {
     "name": "stdout",
     "output_type": "stream",
     "text": [
      "Tempo que demorou para executar  0:00:00.009812\n"
     ]
    }
   ],
   "source": [
    "x1 = np.random.random((ny, nx))\n",
    "x2 = np.random.random((ny, nx))\n",
    "\n",
    "before_code = datetime.now()\n",
    "x3 = x1 + x2\n",
    "after_code = datetime.now()\n",
    "\n",
    "print 'Tempo que demorou para executar ', (after_code - before_code)"
   ]
  },
  {
   "cell_type": "markdown",
   "metadata": {},
   "source": [
    "# Matplotlib\n",
    "\n",
    "Matplotlib é uma biblioteca de visualização 2D que produz figuras com qualidade para publicação em uma variedade de formatos. Ele pode ser usado em scripts python, no IPython shell, jupyter notebook, aplicações web e para interfaces gráficas de usuários.\n",
    "\n",
    "Matplotlib tenta fazer o que é fácil fácil e o difícil possível. Você pode gerar figuras, histogramas, espectro de potência, gráfico de barras, scatterplots, etc., com apenas algumas linhas de código.\n",
    "\n",
    "Para plots simples o módulo `pyplot` proporciona uma interface próxima do MATLAB, particularmente quando combinada com o IPython. Para o usuário mais criterioso você tem controle completo de estilo de linha, fonte, propriedade de eixos, etc, a partir de uma interface orientada a objeto ou um conjunto de funções similares ao MATLAB (https://matplotlib.org/)."
   ]
  },
  {
   "cell_type": "markdown",
   "metadata": {},
   "source": [
    "## Comandos Básicos"
   ]
  },
  {
   "cell_type": "code",
   "execution_count": 48,
   "metadata": {
    "collapsed": true
   },
   "outputs": [],
   "source": [
    "import matplotlib.pyplot as plt\n",
    "%matplotlib inline"
   ]
  },
  {
   "cell_type": "code",
   "execution_count": 49,
   "metadata": {},
   "outputs": [
    {
     "data": {
      "text/plain": [
       "<matplotlib.text.Text at 0x7f5eebdfa850>"
      ]
     },
     "execution_count": 49,
     "metadata": {},
     "output_type": "execute_result"
    },
    {
     "data": {
      "image/png": "[encoded data removed]",
      "text/plain": [
       "<matplotlib.figure.Figure at 0x7f5eee27a050>"
      ]
     },
     "metadata": {},
     "output_type": "display_data"
    }
   ],
   "source": [
    "ax = plt.subplot(111)\n",
    "\n",
    "x = np.arange(0, 2.0, 0.01)\n",
    "y = np.exp(x)\n",
    "\n",
    "ax.plot(x, y)\n",
    "# labels são opicionais para criação do plot\n",
    "ax.set_xlabel('Tempo (s)')\n",
    "ax.set_ylabel('Alguma coisa')"
   ]
  },
  {
   "cell_type": "markdown",
   "metadata": {},
   "source": [
    "A sintaxe de fórmulas do latex funciona com o matplotlib"
   ]
  },
  {
   "cell_type": "code",
   "execution_count": 50,
   "metadata": {},
   "outputs": [
    {
     "data": {
      "image/png": "[encoded data removed]",
      "text/plain": [
       "<matplotlib.figure.Figure at 0x7f5eebd831d0>"
      ]
     },
     "metadata": {},
     "output_type": "display_data"
    }
   ],
   "source": [
    "fig = plt.figure(figsize=(14,5))\n",
    "ax = fig.add_subplot(111)\n",
    "\n",
    "ax.plot(x, y)\n",
    "ax.set_xlabel('Tempo (s)')\n",
    "ax.set_ylabel('Alguma coisa (m s$^{-1}$)', fontsize=16)\n",
    "\n",
    "fig.savefig('image.png') # alguns formatos incluídos são png, jpeg, gif, pdf, eps"
   ]
  },
  {
   "cell_type": "code",
   "execution_count": 51,
   "metadata": {},
   "outputs": [
    {
     "data": {
      "text/plain": [
       "<matplotlib.collections.PathCollection at 0x7f5eebf83910>"
      ]
     },
     "execution_count": 51,
     "metadata": {},
     "output_type": "execute_result"
    },
    {
     "data": {
      "image/png": "[encoded data removed]",
      "text/plain": [
       "<matplotlib.figure.Figure at 0x7f5eebd83890>"
      ]
     },
     "metadata": {},
     "output_type": "display_data"
    }
   ],
   "source": [
    "fig, ax = plt.subplots(figsize=(14,5))\n",
    "\n",
    "ax.scatter(x, y, c='red')"
   ]
  },
  {
   "cell_type": "code",
   "execution_count": 52,
   "metadata": {},
   "outputs": [
    {
     "data": {
      "text/plain": [
       "<matplotlib.collections.PathCollection at 0x7f5eeba86550>"
      ]
     },
     "execution_count": 52,
     "metadata": {},
     "output_type": "execute_result"
    },
    {
     "data": {
      "image/png": "[encoded data removed]",
      "text/plain": [
       "<matplotlib.figure.Figure at 0x7f5eee27a690>"
      ]
     },
     "metadata": {},
     "output_type": "display_data"
    }
   ],
   "source": [
    "fig, ax = plt.subplots(figsize=(14,5))\n",
    "\n",
    "ax.scatter(x[::4], y[::4], c='red')"
   ]
  },
  {
   "cell_type": "markdown",
   "metadata": {},
   "source": [
    "Outro tipo de gráfico que pode ser feito com o matplotlib são histogramas. Vamos fazer, por exemplo, um histograma de uma distribuição gamma. Imaginando que sabemos os parâmetros `shape` e `scale` da distribuição"
   ]
  },
  {
   "cell_type": "code",
   "execution_count": 53,
   "metadata": {},
   "outputs": [
    {
     "data": {
      "text/plain": [
       "(array([  9.90757258e-04,   3.42636885e-03,   8.13246583e-03,\n",
       "          1.46136696e-02,   1.84115724e-02,   2.38194558e-02,\n",
       "          2.74935139e-02,   2.83604265e-02,   3.00116886e-02,\n",
       "          2.92686207e-02,   2.87732420e-02,   2.68330091e-02,\n",
       "          2.37368927e-02,   2.33653587e-02,   1.86179801e-02,\n",
       "          1.74620967e-02,   1.53980191e-02,   1.20542133e-02,\n",
       "          1.09808929e-02,   9.20578619e-03,   7.34811633e-03,\n",
       "          6.89401926e-03,   5.61429113e-03,   4.25199990e-03,\n",
       "          4.37584456e-03,   2.60073780e-03,   2.35304849e-03,\n",
       "          1.69254365e-03,   1.48613589e-03,   1.19716502e-03,\n",
       "          8.66912601e-04,   6.19223287e-04,   2.47689315e-04,\n",
       "          6.60504839e-04,   3.30252419e-04,   1.65126210e-04,\n",
       "          4.12815524e-04,   2.47689315e-04,   2.06407762e-04,\n",
       "          8.25631049e-05,   4.12815524e-05,   8.25631049e-05,\n",
       "          4.12815524e-05,   0.00000000e+00,   0.00000000e+00,\n",
       "          0.00000000e+00,   0.00000000e+00,   0.00000000e+00,\n",
       "          0.00000000e+00,   4.12815524e-05]),\n",
       " array([   1.34285123,    3.76524075,    6.18763027,    8.61001979,\n",
       "          11.03240931,   13.45479883,   15.87718835,   18.29957787,\n",
       "          20.72196739,   23.14435691,   25.56674643,   27.98913595,\n",
       "          30.41152547,   32.83391499,   35.25630451,   37.67869403,\n",
       "          40.10108355,   42.52347307,   44.94586259,   47.36825211,\n",
       "          49.79064163,   52.21303115,   54.63542067,   57.05781019,\n",
       "          59.48019971,   61.90258923,   64.32497875,   66.74736827,\n",
       "          69.16975779,   71.59214731,   74.01453683,   76.43692635,\n",
       "          78.85931587,   81.28170539,   83.70409491,   86.12648443,\n",
       "          88.54887396,   90.97126348,   93.393653  ,   95.81604252,\n",
       "          98.23843204,  100.66082156,  103.08321108,  105.5056006 ,\n",
       "         107.92799012,  110.35037964,  112.77276916,  115.19515868,\n",
       "         117.6175482 ,  120.03993772,  122.46232724]),\n",
       " <a list of 50 Patch objects>)"
      ]
     },
     "execution_count": 53,
     "metadata": {},
     "output_type": "execute_result"
    },
    {
     "data": {
      "image/png": "[encoded data removed]",
      "text/plain": [
       "<matplotlib.figure.Figure at 0x7f5eeba442d0>"
      ]
     },
     "metadata": {},
     "output_type": "display_data"
    }
   ],
   "source": [
    "shape, scale = 4, 7.5\n",
    "\n",
    "data = np.random.gamma(shape, scale, 10000)\n",
    "\n",
    "fig, ax = plt.subplots(figsize=(14,5))\n",
    "\n",
    "ax.hist(data, 50, normed=True)"
   ]
  },
  {
   "cell_type": "markdown",
   "metadata": {},
   "source": [
    "## Exercício 5\n",
    "\n",
    "Use a reta $y = X \\beta + \\mu$ do exercício 4 e plot ela em função de x em cruzes pretas (marker=`+`) junto com a linha de melhor ajuste estimada com os mínimos quadrados na cor vermelha. Adicione um título e o nome dos eixos."
   ]
  }
 ],
 "metadata": {
  "kernelspec": {
   "display_name": "Python 2",
   "language": "python",
   "name": "python2"
  },
  "language_info": {
   "codemirror_mode": {
    "name": "ipython",
    "version": 2
   },
   "file_extension": ".py",
   "mimetype": "text/x-python",
   "name": "python",
   "nbconvert_exporter": "python",
   "pygments_lexer": "ipython2",
   "version": "2.7.13"
  }
 },
 "nbformat": 4,
 "nbformat_minor": 1
}
