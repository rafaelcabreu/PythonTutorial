{
 "cells": [
  {
   "cell_type": "markdown",
   "metadata": {},
   "source": [
    "# NumPy\n",
    "\n",
    "NumPy é o pacote fundamental para computação científica em Python. Contém entre outras coisas:\n",
    "\n",
    "* Um poderoso objeto de matrizes N-dimensionais\n",
    "* Ferramentas para integrar com C/C++ e Fortran\n",
    "* Capacidade para cálculos em álgebra linear, transformação de Fourier e geração de números aleatórios.\n",
    "\n",
    "(http://www.numpy.org/)"
   ]
  },
  {
   "cell_type": "markdown",
   "metadata": {},
   "source": [
    "## Comandos básicos"
   ]
  },
  {
   "cell_type": "code",
   "execution_count": 1,
   "metadata": {},
   "outputs": [
    {
     "data": {
      "text/plain": [
       "list"
      ]
     },
     "execution_count": 1,
     "metadata": {},
     "output_type": "execute_result"
    }
   ],
   "source": [
    "x = [[ 1., 0., 0.],\n",
    "     [ 0., 1., 2.]]\n",
    "\n",
    "type(x)"
   ]
  },
  {
   "cell_type": "markdown",
   "metadata": {},
   "source": [
    "### Importando pacotes no Python: \n",
    "\n",
    "A estrutura básica para importar pacotes é a seguinte:\n",
    "\n",
    "`import numpy`\n",
    "\n",
    "Podemos chamar \"subpacotes\" ou métodos da seguinte forma:\n",
    "\n",
    "`from numpy import linalg\n",
    "from numpy import array`\n",
    "\n",
    "Encurtamentos geralmente são usados já que o nome do pacote precisa ser especificado quando chamando um método. Ou seja, geralmente usamos:\n",
    "\n",
    "`import numpy as np`\n",
    "\n",
    "Dessa forma não precisamos sempre escrever `numpy` nos comandos, apenas `np`"
   ]
  },
  {
   "cell_type": "code",
   "execution_count": 2,
   "metadata": {
    "collapsed": true
   },
   "outputs": [],
   "source": [
    "import numpy as np"
   ]
  },
  {
   "cell_type": "code",
   "execution_count": 3,
   "metadata": {
    "collapsed": true
   },
   "outputs": [],
   "source": [
    "x = np.array([[ 1., 0., 0.],\n",
    "              [ 0., 1., 2.]])"
   ]
  },
  {
   "cell_type": "code",
   "execution_count": 4,
   "metadata": {},
   "outputs": [
    {
     "name": "stdout",
     "output_type": "stream",
     "text": [
      "<type 'numpy.ndarray'>\n",
      "(2, 3)\n",
      "2\n",
      "6\n",
      "float64\n"
     ]
    }
   ],
   "source": [
    "print type(x)\n",
    "print x.shape\n",
    "print x.ndim\n",
    "print x.size\n",
    "print x.dtype"
   ]
  },
  {
   "cell_type": "code",
   "execution_count": 5,
   "metadata": {},
   "outputs": [
    {
     "name": "stdout",
     "output_type": "stream",
     "text": [
      "[[1. 0. 0.]\n",
      " [0. 1. 2.]]\n"
     ]
    }
   ],
   "source": [
    "print x"
   ]
  },
  {
   "cell_type": "code",
   "execution_count": 6,
   "metadata": {},
   "outputs": [
    {
     "name": "stdout",
     "output_type": "stream",
     "text": [
      "|S3\n",
      "[['abc' '0.0' '0.0']\n",
      " ['0.0' '1.0' '2.0']]\n"
     ]
    }
   ],
   "source": [
    "x = np.array([[ 'abc', 0., 0.],\n",
    "              [ 0., 1., 2.]])\n",
    "\n",
    "print x.dtype\n",
    "print x"
   ]
  },
  {
   "cell_type": "markdown",
   "metadata": {
    "collapsed": true
   },
   "source": [
    "É possível criar arrays de zeros, 1 e um array vazio."
   ]
  },
  {
   "cell_type": "code",
   "execution_count": 7,
   "metadata": {},
   "outputs": [
    {
     "name": "stdout",
     "output_type": "stream",
     "text": [
      "[[0. 0. 0. 0.]\n",
      " [0. 0. 0. 0.]\n",
      " [0. 0. 0. 0.]]\n",
      "(3, 4)\n"
     ]
    }
   ],
   "source": [
    "x = np.zeros((3, 4)) # as dimensões\n",
    "\n",
    "print x\n",
    "print x.shape"
   ]
  },
  {
   "cell_type": "code",
   "execution_count": 8,
   "metadata": {},
   "outputs": [
    {
     "name": "stdout",
     "output_type": "stream",
     "text": [
      "[[1. 1. 1. 1.]\n",
      " [1. 1. 1. 1.]\n",
      " [1. 1. 1. 1.]]\n",
      "(3, 4)\n"
     ]
    }
   ],
   "source": [
    "x = np.ones((3, 4))\n",
    "\n",
    "print x\n",
    "print x.shape"
   ]
  },
  {
   "cell_type": "code",
   "execution_count": 9,
   "metadata": {},
   "outputs": [
    {
     "name": "stdout",
     "output_type": "stream",
     "text": [
      "[[1. 1. 1. 1.]\n",
      " [1. 1. 1. 1.]\n",
      " [1. 1. 1. 1.]]\n",
      "(3, 4)\n"
     ]
    }
   ],
   "source": [
    "x = np.empty((3, 4))\n",
    "\n",
    "print x\n",
    "print x.shape"
   ]
  },
  {
   "cell_type": "markdown",
   "metadata": {},
   "source": [
    "Para criar uma lista de valores automaticamente,"
   ]
  },
  {
   "cell_type": "code",
   "execution_count": 10,
   "metadata": {},
   "outputs": [
    {
     "name": "stdout",
     "output_type": "stream",
     "text": [
      "[0 1 2 3 4 5 6 7 8 9]\n"
     ]
    }
   ],
   "source": [
    "x = np.arange(0, 10, 1) # start, stop, step\n",
    "\n",
    "print x"
   ]
  },
  {
   "cell_type": "code",
   "execution_count": 11,
   "metadata": {},
   "outputs": [
    {
     "name": "stdout",
     "output_type": "stream",
     "text": [
      "[0. 1. 2. 3. 4. 5. 6. 7. 8. 9.]\n"
     ]
    }
   ],
   "source": [
    "x = np.linspace(0, 9, 10)\n",
    "\n",
    "print x"
   ]
  },
  {
   "cell_type": "markdown",
   "metadata": {},
   "source": [
    "É possível redimensionar a sua matrix de dados também"
   ]
  },
  {
   "cell_type": "code",
   "execution_count": 12,
   "metadata": {},
   "outputs": [
    {
     "name": "stdout",
     "output_type": "stream",
     "text": [
      "[[0.37146959 0.94436573 0.33930643 0.79397054]\n",
      " [0.81942982 0.36916601 0.11368088 0.91445285]\n",
      " [0.05238208 0.98664299 0.55012119 0.9675525 ]] \n",
      "\n",
      "[[0.37146959 0.94436573 0.33930643]\n",
      " [0.79397054 0.81942982 0.36916601]\n",
      " [0.11368088 0.91445285 0.05238208]\n",
      " [0.98664299 0.55012119 0.9675525 ]]\n"
     ]
    }
   ],
   "source": [
    "x = np.random.random((3, 4))\n",
    "\n",
    "x_new = x.reshape((4, 3))\n",
    "\n",
    "print x, '\\n'\n",
    "print x_new"
   ]
  },
  {
   "cell_type": "markdown",
   "metadata": {},
   "source": [
    "Caso você seja preguiçoso, o índice -1 automaticamente calcula a dimensão faltante"
   ]
  },
  {
   "cell_type": "code",
   "execution_count": 13,
   "metadata": {},
   "outputs": [
    {
     "name": "stdout",
     "output_type": "stream",
     "text": [
      "[[0.37146959 0.94436573]\n",
      " [0.33930643 0.79397054]\n",
      " [0.81942982 0.36916601]\n",
      " [0.11368088 0.91445285]\n",
      " [0.05238208 0.98664299]\n",
      " [0.55012119 0.9675525 ]]\n"
     ]
    }
   ],
   "source": [
    "print x.reshape((6, -1))"
   ]
  },
  {
   "cell_type": "markdown",
   "metadata": {},
   "source": [
    "Assim como transformar seus dados em um vetor de 1D"
   ]
  },
  {
   "cell_type": "code",
   "execution_count": 14,
   "metadata": {},
   "outputs": [
    {
     "name": "stdout",
     "output_type": "stream",
     "text": [
      "[0.38466296 0.13165062 0.17348202 0.14698579 0.5819955  0.93086998\n",
      " 0.69242593 0.4524238  0.76961908 0.22037235 0.31039297 0.88644699]\n"
     ]
    }
   ],
   "source": [
    "x = np.random.random((3, 4))\n",
    "\n",
    "print x.flatten()"
   ]
  },
  {
   "cell_type": "markdown",
   "metadata": {},
   "source": [
    "## Indexação"
   ]
  },
  {
   "cell_type": "code",
   "execution_count": 15,
   "metadata": {},
   "outputs": [
    {
     "name": "stdout",
     "output_type": "stream",
     "text": [
      "[[0.72291774 0.19294751 0.95316347 0.52315992]\n",
      " [0.11833357 0.34384475 0.70764213 0.30525702]\n",
      " [0.14631477 0.74615974 0.03523424 0.29656872]]\n"
     ]
    }
   ],
   "source": [
    "x = np.random.random((3, 4))\n",
    "\n",
    "print x"
   ]
  },
  {
   "cell_type": "code",
   "execution_count": 16,
   "metadata": {},
   "outputs": [
    {
     "name": "stdout",
     "output_type": "stream",
     "text": [
      "2\n"
     ]
    }
   ],
   "source": [
    "print x.ndim"
   ]
  },
  {
   "cell_type": "code",
   "execution_count": 17,
   "metadata": {},
   "outputs": [
    {
     "name": "stdout",
     "output_type": "stream",
     "text": [
      "[[0.72291774 0.19294751 0.95316347 0.52315992]\n",
      " [0.11833357 0.34384475 0.70764213 0.30525702]\n",
      " [0.14631477 0.74615974 0.03523424 0.29656872]]\n"
     ]
    }
   ],
   "source": [
    "print x[:, :]"
   ]
  },
  {
   "cell_type": "markdown",
   "metadata": {},
   "source": [
    "Porém se especificarmos mais índices que a matrix possui de dimensões um erro será levantado"
   ]
  },
  {
   "cell_type": "code",
   "execution_count": 18,
   "metadata": {},
   "outputs": [
    {
     "ename": "IndexError",
     "evalue": "too many indices for array",
     "output_type": "error",
     "traceback": [
      "\u001b[0;31m---------------------------------------------------------------------------\u001b[0m",
      "\u001b[0;31mIndexError\u001b[0m                                Traceback (most recent call last)",
      "\u001b[0;32m<ipython-input-18-3932c6a88e83>\u001b[0m in \u001b[0;36m<module>\u001b[0;34m()\u001b[0m\n\u001b[0;32m----> 1\u001b[0;31m \u001b[0;32mprint\u001b[0m \u001b[0mx\u001b[0m\u001b[0;34m[\u001b[0m\u001b[0;34m:\u001b[0m\u001b[0;34m,\u001b[0m \u001b[0;34m:\u001b[0m\u001b[0;34m,\u001b[0m \u001b[0;34m:\u001b[0m\u001b[0;34m]\u001b[0m\u001b[0;34m\u001b[0m\u001b[0m\n\u001b[0m",
      "\u001b[0;31mIndexError\u001b[0m: too many indices for array"
     ]
    }
   ],
   "source": [
    "print x[:, :, :]"
   ]
  },
  {
   "cell_type": "markdown",
   "metadata": {},
   "source": [
    "Equivalentemente a `x[:, :]` e x, utilizando `x[:]`, você seleciona todos os índices do array, independentemente de quantas dimensões ele possui."
   ]
  },
  {
   "cell_type": "code",
   "execution_count": 19,
   "metadata": {},
   "outputs": [
    {
     "name": "stdout",
     "output_type": "stream",
     "text": [
      "[[0.72291774 0.19294751 0.95316347 0.52315992]\n",
      " [0.11833357 0.34384475 0.70764213 0.30525702]\n",
      " [0.14631477 0.74615974 0.03523424 0.29656872]]\n"
     ]
    }
   ],
   "source": [
    "print x[:]"
   ]
  },
  {
   "cell_type": "markdown",
   "metadata": {},
   "source": [
    "Caso você queira selecionar apenas uma linha ou coluna"
   ]
  },
  {
   "cell_type": "code",
   "execution_count": 20,
   "metadata": {},
   "outputs": [
    {
     "name": "stdout",
     "output_type": "stream",
     "text": [
      "[0.72291774 0.11833357 0.14631477]\n",
      "[0.72291774 0.19294751 0.95316347 0.52315992]\n"
     ]
    }
   ],
   "source": [
    "print x[:, 0] # todas as linhas e coluna 0\n",
    "print x[0, :] # todas as colunas e a linha 0"
   ]
  },
  {
   "cell_type": "markdown",
   "metadata": {},
   "source": [
    "Pegando apenas um elemento"
   ]
  },
  {
   "cell_type": "code",
   "execution_count": 21,
   "metadata": {},
   "outputs": [
    {
     "name": "stdout",
     "output_type": "stream",
     "text": [
      "0.7229177433114788\n",
      "0.5231599238988324\n",
      "0.29656871551335706\n"
     ]
    }
   ],
   "source": [
    "print x[0, 0] # primeiro elemento\n",
    "print x[0, -1] # primeira linha e última coluna\n",
    "print x[2, 3]"
   ]
  },
  {
   "cell_type": "markdown",
   "metadata": {},
   "source": [
    "Selecionando apenas um intervalo de dados"
   ]
  },
  {
   "cell_type": "code",
   "execution_count": 22,
   "metadata": {},
   "outputs": [
    {
     "name": "stdout",
     "output_type": "stream",
     "text": [
      "[[0.11833357 0.34384475 0.70764213 0.30525702]\n",
      " [0.14631477 0.74615974 0.03523424 0.29656872]]\n"
     ]
    }
   ],
   "source": [
    "print x[1:3, :] # todas as colunas, e das linhas 1 a 3, ou seja, linhas 1 e 2 \n",
    "                # (lembrando que a indexação começa em 0)"
   ]
  },
  {
   "cell_type": "markdown",
   "metadata": {},
   "source": [
    "É possível também inverter a ordem dos dados. Por exemplo, se você quiser reordenar as linhas"
   ]
  },
  {
   "cell_type": "code",
   "execution_count": 23,
   "metadata": {},
   "outputs": [
    {
     "name": "stdout",
     "output_type": "stream",
     "text": [
      "[[0.14631477 0.74615974 0.03523424 0.29656872]\n",
      " [0.11833357 0.34384475 0.70764213 0.30525702]\n",
      " [0.72291774 0.19294751 0.95316347 0.52315992]]\n"
     ]
    }
   ],
   "source": [
    "print x[::-1, :]"
   ]
  },
  {
   "cell_type": "markdown",
   "metadata": {},
   "source": [
    "<div class=\"alert alert-block alert-success\">\n",
    "<b>Em que situação isso pode ser usado?</b> As vezes os arquivos netCDF ou grib que são comuns em meteorologia podem vir com as coordenadas de latitude invertida, ou seja, em vez de -90 a 90 de 90 a -90. Usando isso você consegue inverter as coordenadas de modo que fique do jeito que você espera.\n",
    "</div>"
   ]
  },
  {
   "cell_type": "code",
   "execution_count": 24,
   "metadata": {},
   "outputs": [
    {
     "name": "stdout",
     "output_type": "stream",
     "text": [
      "[[0.03205018 0.5282725  0.59088383 0.85922826]\n",
      " [0.79582109 0.76389575 0.65398113 0.04472189]\n",
      " [0.12672715 0.68550977 0.53539076 0.26882071]]\n",
      "[[0.03205018 0.59367366 0.78525081 0.33500953 0.86510379]\n",
      " [0.5282725  0.23448542 0.20567998 0.62936259 0.225478  ]\n",
      " [0.59088383 0.76369353 0.61599735 0.42479477 0.52505157]\n",
      " [0.85922826 0.56209538 0.02711072 0.0251355  0.51400368]]\n"
     ]
    }
   ],
   "source": [
    "x = np.random.random((3, 4, 5))\n",
    "\n",
    "print x[..., 0]\n",
    "print x[0]"
   ]
  },
  {
   "cell_type": "markdown",
   "metadata": {},
   "source": [
    "Você também pode indexar com base em alguma condição que você quer que seja satisfeita, por exemplo:"
   ]
  },
  {
   "cell_type": "code",
   "execution_count": 26,
   "metadata": {},
   "outputs": [
    {
     "name": "stdout",
     "output_type": "stream",
     "text": [
      "[False  True False False  True]\n"
     ]
    }
   ],
   "source": [
    "a = np.array([5, 9, 2, 1.5, 99])\n",
    "\n",
    "print a > 5"
   ]
  },
  {
   "cell_type": "code",
   "execution_count": 28,
   "metadata": {},
   "outputs": [
    {
     "name": "stdout",
     "output_type": "stream",
     "text": [
      "[ 9. 99.]\n"
     ]
    }
   ],
   "source": [
    "print a[a > 5]"
   ]
  },
  {
   "cell_type": "markdown",
   "metadata": {},
   "source": [
    "## Operações"
   ]
  },
  {
   "cell_type": "markdown",
   "metadata": {},
   "source": [
    "As operações matemáticas básicas são utilizadas normalmente com arrays numpy"
   ]
  },
  {
   "cell_type": "code",
   "execution_count": 29,
   "metadata": {},
   "outputs": [
    {
     "name": "stdout",
     "output_type": "stream",
     "text": [
      "[ 0  2  4  6  8 10]\n",
      "[0.35400679 0.2616753  0.89984157 0.95999065 0.14823431 0.20595756]\n"
     ]
    }
   ],
   "source": [
    "x = np.arange(0, 12, 2)\n",
    "y = np.random.random(6)\n",
    "\n",
    "print x\n",
    "print y"
   ]
  },
  {
   "cell_type": "code",
   "execution_count": 30,
   "metadata": {},
   "outputs": [
    {
     "name": "stdout",
     "output_type": "stream",
     "text": [
      "[-0.35400679  1.7383247   3.10015843  5.04000935  7.85176569  9.79404244]\n"
     ]
    }
   ],
   "source": [
    "print x-y"
   ]
  },
  {
   "cell_type": "code",
   "execution_count": 31,
   "metadata": {},
   "outputs": [
    {
     "name": "stdout",
     "output_type": "stream",
     "text": [
      "[0.         0.52335059 3.5993663  5.75994388 1.18587448 2.05957563]\n"
     ]
    }
   ],
   "source": [
    "print x * y"
   ]
  },
  {
   "cell_type": "code",
   "execution_count": 32,
   "metadata": {},
   "outputs": [
    {
     "name": "stdout",
     "output_type": "stream",
     "text": [
      "[  0   4  16  36  64 100]\n"
     ]
    }
   ],
   "source": [
    "print x ** 2"
   ]
  },
  {
   "cell_type": "code",
   "execution_count": 33,
   "metadata": {},
   "outputs": [
    {
     "name": "stdout",
     "output_type": "stream",
     "text": [
      "[ 0.          7.64306002  4.44522693  6.25006089 53.96861212 48.55369155]\n"
     ]
    }
   ],
   "source": [
    "print x / y"
   ]
  },
  {
   "cell_type": "markdown",
   "metadata": {},
   "source": [
    "<div class=\"alert alert-block alert-info\">\n",
    "Diferentemente da muitas linguagens científicas (matlab, por exemplo) o operador `*` realiza o produto por elementos de uma matriz. Para fazer o produto escalar, é necessário usar a função `np.dot()`\n",
    "</div>"
   ]
  },
  {
   "cell_type": "code",
   "execution_count": 34,
   "metadata": {},
   "outputs": [
    {
     "data": {
      "text/plain": [
       "13.128110890757625"
      ]
     },
     "execution_count": 34,
     "metadata": {},
     "output_type": "execute_result"
    }
   ],
   "source": [
    "np.dot(x, y)"
   ]
  },
  {
   "cell_type": "code",
   "execution_count": 35,
   "metadata": {},
   "outputs": [
    {
     "name": "stdout",
     "output_type": "stream",
     "text": [
      "[[5 4]\n",
      " [3 4]] \n",
      "\n",
      "[[2 0]\n",
      " [0 4]]\n"
     ]
    }
   ],
   "source": [
    "A = np.array([[1,1],\n",
    "              [0,1]])\n",
    "B = np.array([[2,0],\n",
    "              [3,4]])\n",
    "\n",
    "print np.dot(A, B), '\\n'\n",
    "print A * B"
   ]
  },
  {
   "cell_type": "markdown",
   "metadata": {},
   "source": [
    "Utilizando o operador `.T` na matriz retorna a transposta"
   ]
  },
  {
   "cell_type": "code",
   "execution_count": 36,
   "metadata": {},
   "outputs": [
    {
     "name": "stdout",
     "output_type": "stream",
     "text": [
      "[[2 3]\n",
      " [0 4]]\n"
     ]
    }
   ],
   "source": [
    "print B.T"
   ]
  },
  {
   "cell_type": "markdown",
   "metadata": {},
   "source": [
    "O numpy possui também inúmeras funções para lidar com matrizes, como soma, exponencial, raiz quadrática, seno e etc."
   ]
  },
  {
   "cell_type": "code",
   "execution_count": 37,
   "metadata": {},
   "outputs": [
    {
     "name": "stdout",
     "output_type": "stream",
     "text": [
      "[0.38297257 0.4448294  0.28124326 0.53262548 0.92468927 0.72309894]\n"
     ]
    }
   ],
   "source": [
    "x = np.random.random(6)\n",
    "\n",
    "print x"
   ]
  },
  {
   "cell_type": "code",
   "execution_count": 38,
   "metadata": {},
   "outputs": [
    {
     "name": "stdout",
     "output_type": "stream",
     "text": [
      "[1.4666378  1.56022399 1.32477582 1.70339869 2.52108475 2.06080966]\n",
      "[0.61884778 0.66695532 0.53032373 0.72981195 0.96160765 0.85035225]\n",
      "[0.37367935 0.43030389 0.27755027 0.50779688 0.79843371 0.66171131]\n",
      "3.289458914643909\n"
     ]
    }
   ],
   "source": [
    "print np.exp(x)\n",
    "print np.sqrt(x)\n",
    "print np.sin(x)\n",
    "print x.sum()"
   ]
  },
  {
   "cell_type": "markdown",
   "metadata": {},
   "source": [
    "Caso você tenha uma matriz de mais de uma dimensão, é possível especificar o eixo em que determinada função será feita, como por exemplo, soma, média, máximos e mínimos."
   ]
  },
  {
   "cell_type": "code",
   "execution_count": 39,
   "metadata": {},
   "outputs": [
    {
     "name": "stdout",
     "output_type": "stream",
     "text": [
      "[[[0.00448793 0.14286886 0.69179377 0.24360731 0.05989009]\n",
      "  [0.55084592 0.31937294 0.93525615 0.26679403 0.84899372]\n",
      "  [0.8666418  0.21245202 0.50867585 0.98113463 0.4148568 ]\n",
      "  [0.13031745 0.50161163 0.84084134 0.03874314 0.9041156 ]]\n",
      "\n",
      " [[0.02225001 0.26121064 0.85511509 0.46889    0.40625685]\n",
      "  [0.38845705 0.9820698  0.62238391 0.03591711 0.28861178]\n",
      "  [0.27961168 0.5139106  0.87233415 0.03667117 0.94342595]\n",
      "  [0.1079676  0.98114379 0.8195075  0.4179689  0.58960038]]\n",
      "\n",
      " [[0.04289678 0.60746422 0.67014297 0.49692232 0.56148097]\n",
      "  [0.72488433 0.63955207 0.33633522 0.35641842 0.13410521]\n",
      "  [0.20290446 0.09808897 0.29305129 0.77183884 0.1724295 ]\n",
      "  [0.82808819 0.08245433 0.93547635 0.42814263 0.24175024]]]\n"
     ]
    }
   ],
   "source": [
    "x = np.random.random((3, 4, 5))\n",
    "\n",
    "print x"
   ]
  },
  {
   "cell_type": "code",
   "execution_count": 40,
   "metadata": {},
   "outputs": [
    {
     "name": "stdout",
     "output_type": "stream",
     "text": [
      "[[0.06963472 1.01154372 2.21705184 1.20941963 1.0276279 ]\n",
      " [1.6641873  1.94099482 1.89397528 0.65912956 1.27171071]\n",
      " [1.34915794 0.82445159 1.67406128 1.78964464 1.53071225]\n",
      " [1.06637323 1.56520974 2.59582518 0.88485467 1.73546622]]\n",
      "(4, 5)\n"
     ]
    }
   ],
   "source": [
    "x_sum = x.sum(axis=0)\n",
    "\n",
    "print x_sum\n",
    "print x_sum.shape"
   ]
  },
  {
   "cell_type": "code",
   "execution_count": 41,
   "metadata": {},
   "outputs": [
    {
     "name": "stdout",
     "output_type": "stream",
     "text": [
      "[[0.38807328 0.29407636 0.74414178 0.38256978 0.55696405]\n",
      " [0.19957158 0.68458371 0.79233516 0.2398618  0.55697374]\n",
      " [0.44969344 0.3568899  0.55875146 0.51333055 0.27744148]]\n",
      "(3, 5)\n"
     ]
    }
   ],
   "source": [
    "x_mean = x.mean(axis=1)\n",
    "\n",
    "print x_mean\n",
    "print x_mean.shape"
   ]
  },
  {
   "cell_type": "code",
   "execution_count": 42,
   "metadata": {},
   "outputs": [
    {
     "name": "stdout",
     "output_type": "stream",
     "text": [
      "[[0.69179377 0.93525615 0.98113463 0.9041156 ]\n",
      " [0.85511509 0.9820698  0.94342595 0.98114379]\n",
      " [0.67014297 0.72488433 0.77183884 0.93547635]]\n",
      "(3, 4)\n"
     ]
    }
   ],
   "source": [
    "x_max = x.max(axis=2)\n",
    "\n",
    "print x_max\n",
    "print x_max.shape"
   ]
  },
  {
   "cell_type": "markdown",
   "metadata": {},
   "source": [
    "Para concatenar matrizes você pode usar comandos como `concatenate`, `stack` e `vstack`"
   ]
  },
  {
   "cell_type": "code",
   "execution_count": 52,
   "metadata": {},
   "outputs": [
    {
     "name": "stdout",
     "output_type": "stream",
     "text": [
      "[[0.1951308  0.98237378 0.3057778  0.34814275 0.15121073]\n",
      " [0.07459506 0.00805997 0.66187215 0.92631515 0.05203235]]\n",
      "Dimensões de c = (2, 5)\n",
      "[[0.1951308  0.07459506]\n",
      " [0.98237378 0.00805997]\n",
      " [0.3057778  0.66187215]\n",
      " [0.34814275 0.92631515]\n",
      " [0.15121073 0.05203235]]\n",
      "Dimensões de c = (5, 2)\n",
      "[[0.1951308  0.98237378 0.3057778  0.34814275 0.15121073]\n",
      " [0.07459506 0.00805997 0.66187215 0.92631515 0.05203235]]\n",
      "Dimensões de c = (2, 5)\n",
      "[0.1951308  0.98237378 0.3057778  0.34814275 0.15121073 0.07459506\n",
      " 0.00805997 0.66187215 0.92631515 0.05203235]\n",
      "Dimensões de c = (10,)\n"
     ]
    }
   ],
   "source": [
    "a = np.random.random(5)\n",
    "b = np.random.random(5)\n",
    "\n",
    "c = np.stack([a, b], axis=0)\n",
    "print c\n",
    "print 'Dimensões de c =', c.shape\n",
    "\n",
    "c = np.stack([a, b], axis=1)\n",
    "print c\n",
    "print 'Dimensões de c =', c.shape\n",
    "\n",
    "c = np.vstack([a, b])\n",
    "print c\n",
    "print 'Dimensões de c =', c.shape\n",
    "\n",
    "c = np.concatenate([a, b])\n",
    "print c\n",
    "print 'Dimensões de c =', c.shape"
   ]
  },
  {
   "cell_type": "code",
   "execution_count": 59,
   "metadata": {},
   "outputs": [
    {
     "name": "stdout",
     "output_type": "stream",
     "text": [
      "[[0.28747102 0.02305864 0.16732645]\n",
      " [0.9256187  0.85801025 0.88912296]\n",
      " [0.31191625 0.81075602 0.8819763 ]\n",
      " [0.46320418 0.72723727 0.54769465]\n",
      " [0.74008227 0.59355507 0.38156866]\n",
      " [0.52834505 0.92728894 0.67596505]]\n",
      "Dimensões de c = (6, 3)\n",
      "[[[0.28747102 0.02305864 0.16732645]\n",
      "  [0.9256187  0.85801025 0.88912296]\n",
      "  [0.31191625 0.81075602 0.8819763 ]]\n",
      "\n",
      " [[0.46320418 0.72723727 0.54769465]\n",
      "  [0.74008227 0.59355507 0.38156866]\n",
      "  [0.52834505 0.92728894 0.67596505]]]\n",
      "Dimensões de c = (2, 3, 3)\n"
     ]
    }
   ],
   "source": [
    "a = np.random.random((3,3))\n",
    "b = np.random.random((3,3))\n",
    "\n",
    "c = np.concatenate([a, b], axis=0)\n",
    "print c\n",
    "print 'Dimensões de c =', c.shape\n",
    "\n",
    "c = np.stack([a, b])\n",
    "print c\n",
    "print 'Dimensões de c =', c.shape"
   ]
  },
  {
   "cell_type": "markdown",
   "metadata": {},
   "source": [
    "<div class=\"alert alert-block alert-success\">\n",
    "<b>Em que situação isso pode ser usado?</b> As vezes você tem vários arquivos com um conjunto de tempos diferentes e quer reduzir para apenas um arquivo. Por exemplo, dois arquivos com matrizes a e b de dimensões (2, 3, 3) sendo que a primeira dimensão é o tempo, a segunda latitude e a terceira longitude. Usando o comando `np.concatenate([a, b], axis=0)` criar uma matriz de tamanho (4, 3, 3), ou seja, um único arquivo com todos os tempos.\n",
    "</div>"
   ]
  },
  {
   "cell_type": "code",
   "execution_count": null,
   "metadata": {
    "collapsed": true
   },
   "outputs": [],
   "source": []
  },
  {
   "cell_type": "markdown",
   "metadata": {},
   "source": [
    "## Performance"
   ]
  },
  {
   "cell_type": "code",
   "execution_count": 40,
   "metadata": {
    "collapsed": true
   },
   "outputs": [],
   "source": [
    "from datetime import datetime"
   ]
  },
  {
   "cell_type": "markdown",
   "metadata": {},
   "source": [
    "Vamos ver agora a diferença entre a eficiência de se fazer as operações usando o numpy e usando a sintaxe comum de loops."
   ]
  },
  {
   "cell_type": "code",
   "execution_count": 41,
   "metadata": {},
   "outputs": [
    {
     "name": "stdout",
     "output_type": "stream",
     "text": [
      "Tempo que demorou para executar  0:00:00.584098\n"
     ]
    }
   ],
   "source": [
    "# tamanho da matriz\n",
    "ny, nx = 1000, 1000\n",
    "\n",
    "x1 = np.random.random((ny, nx))\n",
    "x2 = np.random.random((ny, nx))\n",
    "\n",
    "# matriz de saída\n",
    "x3 = np.zeros((ny, nx))\n",
    "\n",
    "before_code = datetime.now()\n",
    "\n",
    "for i in range(ny):\n",
    "    for j in range(nx):\n",
    "        x3[i, j] = x1[i, j] + x2[i, j]\n",
    "        \n",
    "after_code = datetime.now()\n",
    "\n",
    "print 'Tempo que demorou para executar ', (after_code - before_code)"
   ]
  },
  {
   "cell_type": "markdown",
   "metadata": {},
   "source": [
    "Agora usando o numpy"
   ]
  },
  {
   "cell_type": "code",
   "execution_count": 42,
   "metadata": {},
   "outputs": [
    {
     "name": "stdout",
     "output_type": "stream",
     "text": [
      "Tempo que demorou para executar  0:00:00.003887\n"
     ]
    }
   ],
   "source": [
    "x1 = np.random.random((ny, nx))\n",
    "x2 = np.random.random((ny, nx))\n",
    "\n",
    "before_code = datetime.now()\n",
    "x3 = x1 + x2\n",
    "after_code = datetime.now()\n",
    "\n",
    "print 'Tempo que demorou para executar ', (after_code - before_code)"
   ]
  },
  {
   "cell_type": "markdown",
   "metadata": {},
   "source": [
    "# Matplotlib\n",
    "\n",
    "Matplotlib é uma biblioteca de visualização 2D que produz figuras com qualidade para publicação em uma variedade de formatos. Ele pode ser usado em scripts python, no IPython shell, jupyter notebook, aplicações web e para interfaces gráficas de usuários.\n",
    "\n",
    "Matplotlib tenta fazer o que é fácil fácil e o difícil possível. Você pode gerar figuras, histogramas, espectro de potência, gráfico de barras, scatterplots, etc., com apenas algumas linhas de código.\n",
    "\n",
    "Para plots simples o módulo `pyplot` proporciona uma interface próxima do MATLAB, particularmente quando combinada com o IPython. Para o usuário mais criterioso você tem controle completo de estilo de linha, fonte, propriedade de eixos, etc, a partir de uma interface orientada a objeto ou um conjunto de funções similares ao MATLAB (https://matplotlib.org/)."
   ]
  },
  {
   "cell_type": "markdown",
   "metadata": {},
   "source": [
    "## Comandos Básicos"
   ]
  },
  {
   "cell_type": "code",
   "execution_count": 43,
   "metadata": {
    "collapsed": true
   },
   "outputs": [],
   "source": [
    "import matplotlib.pyplot as plt\n",
    "%matplotlib inline"
   ]
  },
  {
   "cell_type": "code",
   "execution_count": 44,
   "metadata": {},
   "outputs": [
    {
     "data": {
      "text/plain": [
       "Text(0,0.5,'Alguma coisa')"
      ]
     },
     "execution_count": 44,
     "metadata": {},
     "output_type": "execute_result"
    },
    {
     "data": {
      "image/png": "[encoded data removed]",
      "text/plain": [
       "<Figure size 432x288 with 1 Axes>"
      ]
     },
     "metadata": {},
     "output_type": "display_data"
    }
   ],
   "source": [
    "ax = plt.subplot(111)\n",
    "\n",
    "x = np.arange(0, 2.0, 0.01)\n",
    "y = np.exp(x)\n",
    "\n",
    "ax.plot(x, y)\n",
    "# labels são opicionais para criação do plot\n",
    "ax.set_xlabel('Tempo (s)')\n",
    "ax.set_ylabel('Alguma coisa')"
   ]
  },
  {
   "cell_type": "markdown",
   "metadata": {},
   "source": [
    "A sintaxe de fórmulas do latex funciona com o matplotlib"
   ]
  },
  {
   "cell_type": "code",
   "execution_count": 45,
   "metadata": {},
   "outputs": [
    {
     "data": {
      "image/png": "[encoded data removed]",
      "text/plain": [
       "<Figure size 1008x360 with 1 Axes>"
      ]
     },
     "metadata": {},
     "output_type": "display_data"
    }
   ],
   "source": [
    "fig = plt.figure(figsize=(14,5))\n",
    "ax = fig.add_subplot(111)\n",
    "\n",
    "ax.plot(x, y)\n",
    "ax.set_xlabel('Tempo (s)')\n",
    "ax.set_ylabel('Alguma coisa (m s$^{-1}$)', fontsize=16)\n",
    "\n",
    "fig.savefig('image.png') # alguns formatos incluídos são png, jpeg, gif, pdf, eps"
   ]
  },
  {
   "cell_type": "code",
   "execution_count": 48,
   "metadata": {},
   "outputs": [
    {
     "data": {
      "text/plain": [
       "<matplotlib.collections.PathCollection at 0x7f2d14925b50>"
      ]
     },
     "execution_count": 48,
     "metadata": {},
     "output_type": "execute_result"
    },
    {
     "data": {
      "image/png": "[encoded data removed]",
      "text/plain": [
       "<Figure size 1008x360 with 1 Axes>"
      ]
     },
     "metadata": {},
     "output_type": "display_data"
    }
   ],
   "source": [
    "fig, ax = plt.subplots(figsize=(14,5))\n",
    "\n",
    "ax.scatter(x, y, c='red')"
   ]
  },
  {
   "cell_type": "code",
   "execution_count": 49,
   "metadata": {},
   "outputs": [
    {
     "data": {
      "text/plain": [
       "<matplotlib.collections.PathCollection at 0x7f2d148dee50>"
      ]
     },
     "execution_count": 49,
     "metadata": {},
     "output_type": "execute_result"
    },
    {
     "data": {
      "image/png": "[encoded data removed]",
      "text/plain": [
       "<Figure size 1008x360 with 1 Axes>"
      ]
     },
     "metadata": {},
     "output_type": "display_data"
    }
   ],
   "source": [
    "fig, ax = plt.subplots(figsize=(14,5))\n",
    "\n",
    "ax.scatter(x[::4], y[::4], c='red')"
   ]
  },
  {
   "cell_type": "markdown",
   "metadata": {},
   "source": [
    "Outro tipo de gráfico que pode ser feito com o matplotlib são histogramas. Vamos fazer, por exemplo, um histograma de uma distribuição gamma. Imaginando que sabemos os parâmetros `shape` e `scale` da distribuição"
   ]
  },
  {
   "cell_type": "code",
   "execution_count": 50,
   "metadata": {},
   "outputs": [
    {
     "name": "stderr",
     "output_type": "stream",
     "text": [
      "/home/rafael/anaconda/envs/middleearth/lib/python2.7/site-packages/matplotlib/axes/_axes.py:6571: UserWarning: The 'normed' kwarg is deprecated, and has been replaced by the 'density' kwarg.\n",
      "  warnings.warn(\"The 'normed' kwarg is deprecated, and has been \"\n"
     ]
    },
    {
     "data": {
      "text/plain": [
       "(array([9.33818026e-04, 3.39570191e-03, 8.40436224e-03, 1.31583449e-02,\n",
       "        1.74878649e-02, 2.38972522e-02, 2.58922271e-02, 2.89059125e-02,\n",
       "        2.82267722e-02, 2.82267722e-02, 2.76325243e-02, 2.66562600e-02,\n",
       "        2.55526569e-02, 2.30483267e-02, 2.22842938e-02, 2.02893189e-02,\n",
       "        1.50259810e-02, 1.39648241e-02, 1.23518657e-02, 1.00597669e-02,\n",
       "        9.16839517e-03, 7.42809794e-03, 5.94247835e-03, 4.32951994e-03,\n",
       "        3.82016465e-03, 3.65037956e-03, 2.84390035e-03, 2.54677644e-03,\n",
       "        1.06115685e-03, 1.52806586e-03, 1.10360312e-03, 1.01871057e-03,\n",
       "        9.76264300e-04, 8.91371752e-04, 6.79140383e-04, 5.94247835e-04,\n",
       "        2.54677644e-04, 4.24462739e-04, 8.48925478e-05, 2.12231370e-04,\n",
       "        4.24462739e-05, 1.27338822e-04, 8.48925478e-05, 4.24462739e-05,\n",
       "        4.24462739e-05, 4.24462739e-05, 4.24462739e-05, 0.00000000e+00,\n",
       "        0.00000000e+00, 8.48925478e-05]),\n",
       " array([  1.35941787,   3.71533726,   6.07125666,   8.42717605,\n",
       "         10.78309545,  13.13901484,  15.49493424,  17.85085364,\n",
       "         20.20677303,  22.56269243,  24.91861182,  27.27453122,\n",
       "         29.63045061,  31.98637001,  34.34228941,  36.6982088 ,\n",
       "         39.0541282 ,  41.41004759,  43.76596699,  46.12188638,\n",
       "         48.47780578,  50.83372518,  53.18964457,  55.54556397,\n",
       "         57.90148336,  60.25740276,  62.61332215,  64.96924155,\n",
       "         67.32516095,  69.68108034,  72.03699974,  74.39291913,\n",
       "         76.74883853,  79.10475792,  81.46067732,  83.81659672,\n",
       "         86.17251611,  88.52843551,  90.8843549 ,  93.2402743 ,\n",
       "         95.59619369,  97.95211309, 100.30803249, 102.66395188,\n",
       "        105.01987128, 107.37579067, 109.73171007, 112.08762946,\n",
       "        114.44354886, 116.79946826, 119.15538765]),\n",
       " <a list of 50 Patch objects>)"
      ]
     },
     "execution_count": 50,
     "metadata": {},
     "output_type": "execute_result"
    },
    {
     "data": {
      "image/png": "[encoded data removed]",
      "text/plain": [
       "<Figure size 1008x360 with 1 Axes>"
      ]
     },
     "metadata": {},
     "output_type": "display_data"
    }
   ],
   "source": [
    "shape, scale = 4, 7.5\n",
    "\n",
    "data = np.random.gamma(shape, scale, 10000)\n",
    "\n",
    "fig, ax = plt.subplots(figsize=(14,5))\n",
    "\n",
    "ax.hist(data, 50, normed=True)"
   ]
  }
 ],
 "metadata": {
  "kernelspec": {
   "display_name": "Python 2",
   "language": "python",
   "name": "python2"
  },
  "language_info": {
   "codemirror_mode": {
    "name": "ipython",
    "version": 2
   },
   "file_extension": ".py",
   "mimetype": "text/x-python",
   "name": "python",
   "nbconvert_exporter": "python",
   "pygments_lexer": "ipython2",
   "version": "2.7.15"
  }
 },
 "nbformat": 4,
 "nbformat_minor": 1
}
