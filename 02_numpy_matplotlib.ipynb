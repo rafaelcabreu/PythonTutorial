{
 "cells": [
  {
   "cell_type": "markdown",
   "metadata": {},
   "source": [
    "# NumPy\n",
    "\n",
    "NumPy é o pacote fundamental para computação científica em Python. Contém entre outras coisas:\n",
    "\n",
    "* Um poderoso objeto de matrizes N-dimensionais\n",
    "* Ferramentas para integrar com C/C++ e Fortran\n",
    "* Capacidade para cálculos em álgebra linear, transformação de Fourier e geração de números aleatórios.\n",
    "\n",
    "(http://www.numpy.org/)"
   ]
  },
  {
   "cell_type": "markdown",
   "metadata": {},
   "source": [
    "## Comandos básicos"
   ]
  },
  {
   "cell_type": "code",
   "execution_count": null,
   "metadata": {},
   "outputs": [],
   "source": [
    "x = [[ 1., 0., 0.],\n",
    "     [ 0., 1., 2.]]\n",
    "\n",
    "type(x)"
   ]
  },
  {
   "cell_type": "code",
   "execution_count": null,
   "metadata": {},
   "outputs": [],
   "source": [
    "x * 5"
   ]
  },
  {
   "cell_type": "markdown",
   "metadata": {},
   "source": [
    "### Importando pacotes no Python: \n",
    "\n",
    "A estrutura básica para importar pacotes é a seguinte:\n",
    "\n",
    "`import numpy`\n",
    "\n",
    "Podemos chamar \"subpacotes\" ou métodos da seguinte forma:\n",
    "\n",
    "`from numpy import linalg\n",
    "from numpy import array`\n",
    "\n",
    "Encurtamentos geralmente são usados já que o nome do pacote precisa ser especificado quando chamando um método. Ou seja, geralmente usamos:\n",
    "\n",
    "`import numpy as np`\n",
    "\n",
    "Dessa forma não precisamos sempre escrever `numpy` nos comandos, apenas `np`"
   ]
  },
  {
   "cell_type": "code",
   "execution_count": null,
   "metadata": {
    "collapsed": true
   },
   "outputs": [],
   "source": [
    "import numpy as np"
   ]
  },
  {
   "cell_type": "code",
   "execution_count": null,
   "metadata": {
    "collapsed": true
   },
   "outputs": [],
   "source": [
    "x = np.array([[ 1., 0., 0.],\n",
    "              [ 0., 1., 2.]])"
   ]
  },
  {
   "cell_type": "code",
   "execution_count": null,
   "metadata": {},
   "outputs": [],
   "source": [
    "print type(x)\n",
    "print x.shape\n",
    "print x.ndim\n",
    "print x.size\n",
    "print x.dtype"
   ]
  },
  {
   "cell_type": "code",
   "execution_count": null,
   "metadata": {},
   "outputs": [],
   "source": [
    "dir(x)"
   ]
  },
  {
   "cell_type": "code",
   "execution_count": null,
   "metadata": {},
   "outputs": [],
   "source": [
    "print x"
   ]
  },
  {
   "cell_type": "code",
   "execution_count": null,
   "metadata": {},
   "outputs": [],
   "source": [
    "x = np.array([[ 'abc', 0., 0.],\n",
    "              [ 0., 1., 2.]])\n",
    "\n",
    "print x.dtype\n",
    "print x"
   ]
  },
  {
   "cell_type": "markdown",
   "metadata": {
    "collapsed": true
   },
   "source": [
    "É possível criar arrays de zeros, 1 e um array vazio."
   ]
  },
  {
   "cell_type": "code",
   "execution_count": null,
   "metadata": {},
   "outputs": [],
   "source": [
    "x = np.zeros((3, 4)) # as dimensões\n",
    "\n",
    "print x\n",
    "print x.shape"
   ]
  },
  {
   "cell_type": "code",
   "execution_count": null,
   "metadata": {},
   "outputs": [],
   "source": [
    "x = np.ones((3, 4))\n",
    "\n",
    "print x\n",
    "print x.shape"
   ]
  },
  {
   "cell_type": "markdown",
   "metadata": {},
   "source": [
    "Para criar uma lista de valores automaticamente,"
   ]
  },
  {
   "cell_type": "code",
   "execution_count": null,
   "metadata": {},
   "outputs": [],
   "source": [
    "x = np.arange(0, 10, 1) # start, stop, step\n",
    "\n",
    "print x"
   ]
  },
  {
   "cell_type": "code",
   "execution_count": null,
   "metadata": {},
   "outputs": [],
   "source": [
    "x = np.linspace(0, 9, 10)\n",
    "\n",
    "print x"
   ]
  },
  {
   "cell_type": "markdown",
   "metadata": {},
   "source": [
    "É possível redimensionar a sua matrix de dados também"
   ]
  },
  {
   "cell_type": "code",
   "execution_count": null,
   "metadata": {},
   "outputs": [],
   "source": [
    "x = np.random.random((3, 4))\n",
    "\n",
    "x_new = x.reshape((4, 3))\n",
    "\n",
    "print x, '\\n'\n",
    "print x_new"
   ]
  },
  {
   "cell_type": "markdown",
   "metadata": {},
   "source": [
    "Caso você seja preguiçoso, o índice -1 automaticamente calcula a dimensão faltante"
   ]
  },
  {
   "cell_type": "code",
   "execution_count": null,
   "metadata": {},
   "outputs": [],
   "source": [
    "print x.reshape((6, -1))"
   ]
  },
  {
   "cell_type": "markdown",
   "metadata": {},
   "source": [
    "Assim como transformar seus dados em um vetor de 1D"
   ]
  },
  {
   "cell_type": "code",
   "execution_count": null,
   "metadata": {},
   "outputs": [],
   "source": [
    "x = np.random.random((3, 4))\n",
    "\n",
    "print x.flatten()"
   ]
  },
  {
   "cell_type": "markdown",
   "metadata": {},
   "source": [
    "## Indexação"
   ]
  },
  {
   "cell_type": "code",
   "execution_count": null,
   "metadata": {},
   "outputs": [],
   "source": [
    "x = np.random.random((3, 4))\n",
    "\n",
    "print x"
   ]
  },
  {
   "cell_type": "code",
   "execution_count": null,
   "metadata": {},
   "outputs": [],
   "source": [
    "print x.ndim"
   ]
  },
  {
   "cell_type": "code",
   "execution_count": null,
   "metadata": {},
   "outputs": [],
   "source": [
    "print x[:, :]"
   ]
  },
  {
   "cell_type": "markdown",
   "metadata": {},
   "source": [
    "Porém se especificarmos mais índices que a matrix possui de dimensões um erro será levantado"
   ]
  },
  {
   "cell_type": "code",
   "execution_count": null,
   "metadata": {},
   "outputs": [],
   "source": [
    "print x[:, :, :]"
   ]
  },
  {
   "cell_type": "markdown",
   "metadata": {},
   "source": [
    "Equivalentemente a `x[:, :]` e x, utilizando `x[:]`, você seleciona todos os índices do array, independentemente de quantas dimensões ele possui."
   ]
  },
  {
   "cell_type": "code",
   "execution_count": null,
   "metadata": {},
   "outputs": [],
   "source": [
    "print x[:]"
   ]
  },
  {
   "cell_type": "markdown",
   "metadata": {},
   "source": [
    "Caso você queira selecionar apenas uma linha ou coluna"
   ]
  },
  {
   "cell_type": "code",
   "execution_count": null,
   "metadata": {},
   "outputs": [],
   "source": [
    "print x[:, 0] # todas as linhas e coluna 0\n",
    "print x[0, :] # todas as colunas e a linha 0"
   ]
  },
  {
   "cell_type": "markdown",
   "metadata": {},
   "source": [
    "Pegando apenas um elemento"
   ]
  },
  {
   "cell_type": "code",
   "execution_count": null,
   "metadata": {},
   "outputs": [],
   "source": [
    "print x[0, 0] # primeiro elemento\n",
    "print x[0, -1] # primeira linha e última coluna\n",
    "print x[2, 3]"
   ]
  },
  {
   "cell_type": "markdown",
   "metadata": {},
   "source": [
    "Selecionando apenas um intervalo de dados"
   ]
  },
  {
   "cell_type": "code",
   "execution_count": null,
   "metadata": {},
   "outputs": [],
   "source": [
    "print x[1:3, :] # todas as colunas, e das linhas 1 a 3, ou seja, linhas 1 e 2 \n",
    "                # (lembrando que a indexação começa em 0)"
   ]
  },
  {
   "cell_type": "markdown",
   "metadata": {},
   "source": [
    "É possível também inverter a ordem dos dados. Por exemplo, se você quiser reordenar as linhas"
   ]
  },
  {
   "cell_type": "code",
   "execution_count": null,
   "metadata": {},
   "outputs": [],
   "source": [
    "print x[::-1, :]"
   ]
  },
  {
   "cell_type": "markdown",
   "metadata": {},
   "source": [
    "<div class=\"alert alert-block alert-success\">\n",
    "<b>Em que situação isso pode ser usado?</b> As vezes os arquivos netCDF ou grib que são comuns em meteorologia podem vir com as coordenadas de latitude invertida, ou seja, em vez de -90 a 90 de 90 a -90. Usando isso você consegue inverter as coordenadas de modo que fique do jeito que você espera.\n",
    "</div>"
   ]
  },
  {
   "cell_type": "code",
   "execution_count": null,
   "metadata": {},
   "outputs": [],
   "source": [
    "x = np.random.random((3, 4, 5))\n",
    "\n",
    "print x[..., 0]\n",
    "print x[0]"
   ]
  },
  {
   "cell_type": "markdown",
   "metadata": {},
   "source": [
    "Você também pode indexar com base em alguma condição que você quer que seja satisfeita, por exemplo:"
   ]
  },
  {
   "cell_type": "code",
   "execution_count": null,
   "metadata": {},
   "outputs": [],
   "source": [
    "a = np.array([5, 9, 2, 1.5, 99])\n",
    "\n",
    "print a > 5"
   ]
  },
  {
   "cell_type": "code",
   "execution_count": null,
   "metadata": {},
   "outputs": [],
   "source": [
    "print a[a > 5]"
   ]
  },
  {
   "cell_type": "markdown",
   "metadata": {},
   "source": [
    "## Exercício 4\n",
    "\n",
    "Ache o índice do elemento mais próximo de 0.75 de um array aleatório de 120 elementos (Fixe uma semente com `np.random.seed(10)` para comparar os resultados.\n",
    "\n",
    "Dica: Use as funções `random`, `abs` e `argmin`. Não se esqueça também de usar o ponto de interrogação para entender o que cada função faz."
   ]
  },
  {
   "cell_type": "markdown",
   "metadata": {},
   "source": [
    "## Operações"
   ]
  },
  {
   "cell_type": "markdown",
   "metadata": {},
   "source": [
    "As operações matemáticas básicas são utilizadas normalmente com arrays numpy"
   ]
  },
  {
   "cell_type": "code",
   "execution_count": null,
   "metadata": {},
   "outputs": [],
   "source": [
    "x = np.arange(0, 12, 2)\n",
    "y = np.random.random(6)\n",
    "\n",
    "print x\n",
    "print y"
   ]
  },
  {
   "cell_type": "code",
   "execution_count": null,
   "metadata": {},
   "outputs": [],
   "source": [
    "print x-y"
   ]
  },
  {
   "cell_type": "code",
   "execution_count": null,
   "metadata": {},
   "outputs": [],
   "source": [
    "print x * y"
   ]
  },
  {
   "cell_type": "code",
   "execution_count": null,
   "metadata": {},
   "outputs": [],
   "source": [
    "print x ** 2"
   ]
  },
  {
   "cell_type": "code",
   "execution_count": null,
   "metadata": {},
   "outputs": [],
   "source": [
    "print x / y"
   ]
  },
  {
   "cell_type": "markdown",
   "metadata": {},
   "source": [
    "<div class=\"alert alert-block alert-info\">\n",
    "Diferentemente da muitas linguagens científicas (matlab, por exemplo) o operador `*` realiza o produto por elementos de uma matriz. Para fazer o produto escalar, é necessário usar a função `np.dot()`\n",
    "</div>"
   ]
  },
  {
   "cell_type": "code",
   "execution_count": null,
   "metadata": {},
   "outputs": [],
   "source": [
    "np.dot(x, y)"
   ]
  },
  {
   "cell_type": "code",
   "execution_count": null,
   "metadata": {},
   "outputs": [],
   "source": [
    "A = np.array([[1,1],\n",
    "              [0,1]])\n",
    "B = np.array([[2,0],\n",
    "              [3,4]])\n",
    "\n",
    "print np.dot(A, B), '\\n'\n",
    "print A * B"
   ]
  },
  {
   "cell_type": "markdown",
   "metadata": {},
   "source": [
    "Utilizando o operador `.T` na matriz retorna a transposta"
   ]
  },
  {
   "cell_type": "code",
   "execution_count": null,
   "metadata": {},
   "outputs": [],
   "source": [
    "print B.T"
   ]
  },
  {
   "cell_type": "markdown",
   "metadata": {},
   "source": [
    "O numpy possui também inúmeras funções para lidar com matrizes, como soma, exponencial, raiz quadrática, seno e etc."
   ]
  },
  {
   "cell_type": "code",
   "execution_count": null,
   "metadata": {},
   "outputs": [],
   "source": [
    "x = np.random.random(6)\n",
    "\n",
    "print x"
   ]
  },
  {
   "cell_type": "code",
   "execution_count": null,
   "metadata": {},
   "outputs": [],
   "source": [
    "print np.exp(x)\n",
    "print np.sqrt(x)\n",
    "print np.sin(x)\n",
    "print x.sum()"
   ]
  },
  {
   "cell_type": "markdown",
   "metadata": {},
   "source": [
    "Caso você tenha uma matriz de mais de uma dimensão, é possível especificar o eixo em que determinada função será feita, como por exemplo, soma, média, máximos e mínimos."
   ]
  },
  {
   "cell_type": "code",
   "execution_count": null,
   "metadata": {
    "collapsed": true
   },
   "outputs": [],
   "source": [
    "x = np.random.random((3, 4, 5))\n",
    "\n",
    "print x"
   ]
  },
  {
   "cell_type": "code",
   "execution_count": null,
   "metadata": {
    "collapsed": true
   },
   "outputs": [],
   "source": [
    "x_sum = x.sum(axis=0)\n",
    "\n",
    "print x_sum\n",
    "print x_sum.shape"
   ]
  },
  {
   "cell_type": "code",
   "execution_count": null,
   "metadata": {
    "collapsed": true
   },
   "outputs": [],
   "source": [
    "x_mean = x.mean(axis=1)\n",
    "\n",
    "print x_mean\n",
    "print x_mean.shape"
   ]
  },
  {
   "cell_type": "code",
   "execution_count": null,
   "metadata": {
    "collapsed": true
   },
   "outputs": [],
   "source": [
    "x_max = x.max(axis=2)\n",
    "\n",
    "print x_max\n",
    "print x_max.shape"
   ]
  },
  {
   "cell_type": "markdown",
   "metadata": {},
   "source": [
    "Para concatenar matrizes você pode usar comandos como `concatenate`, `stack` e `vstack`"
   ]
  },
  {
   "cell_type": "code",
   "execution_count": null,
   "metadata": {
    "collapsed": true
   },
   "outputs": [],
   "source": [
    "a = np.random.random(5)\n",
    "b = np.random.random(5)\n",
    "\n",
    "c = np.stack([a, b], axis=0)\n",
    "print c\n",
    "print 'Dimensões de c =', c.shape\n",
    "\n",
    "c = np.stack([a, b], axis=1)\n",
    "print c\n",
    "print 'Dimensões de c =', c.shape\n",
    "\n",
    "c = np.vstack([a, b])\n",
    "print c\n",
    "print 'Dimensões de c =', c.shape\n",
    "\n",
    "c = np.concatenate([a, b])\n",
    "print c\n",
    "print 'Dimensões de c =', c.shape"
   ]
  },
  {
   "cell_type": "code",
   "execution_count": null,
   "metadata": {
    "collapsed": true
   },
   "outputs": [],
   "source": [
    "a = np.random.random((3,3))\n",
    "b = np.random.random((3,3))\n",
    "\n",
    "c = np.concatenate([a, b], axis=0)\n",
    "print c\n",
    "print 'Dimensões de c =', c.shape\n",
    "\n",
    "c = np.stack([a, b])\n",
    "print c\n",
    "print 'Dimensões de c =', c.shape"
   ]
  },
  {
   "cell_type": "markdown",
   "metadata": {},
   "source": [
    "<div class=\"alert alert-block alert-success\">\n",
    "<b>Em que situação isso pode ser usado?</b> As vezes você tem vários arquivos com um conjunto de tempos diferentes e quer reduzir para apenas um arquivo. Por exemplo, dois arquivos com matrizes a e b de dimensões (2, 3, 3) sendo que a primeira dimensão é o tempo, a segunda latitude e a terceira longitude. Usando o comando `np.concatenate([a, b], axis=0)` criar uma matriz de tamanho (4, 3, 3), ou seja, um único arquivo com todos os tempos.\n",
    "</div>"
   ]
  },
  {
   "cell_type": "markdown",
   "metadata": {
    "collapsed": true
   },
   "source": [
    "## Exercício 5\n",
    "\n",
    "a) Refaça o Exercício 1 definindo `a` como um objeto numpy.array e selecionando os valores pares com o que você aprendeu.\n",
    "\n",
    "b) Utilize a técnica de mínimos quadrados, em forma matricial, para verficar os parâmetros `a` e `b` de uma regressão linear. Compare os valores obtidos com esse método com os valores reais.\n",
    "\n",
    "Considerações:\n",
    "- Considere que:\n",
    "$X = \n",
    "\\begin{bmatrix}\n",
    "1 & 1 \\\\\n",
    "1 & 2 \\\\\n",
    "1 & 3 \\\\\n",
    "\\vdots & \\vdots \\\\\n",
    "1 & n \\\\\n",
    "\\end{bmatrix}$\n",
    "Com $n$ indo de 1 a 100\n",
    "\n",
    "- Considere que $y = X \\beta + \\mu$, onde $\\beta = \\begin{bmatrix} a \\\\ b \\end{bmatrix} = \\begin{bmatrix} 3 \\\\ 0.5 \\end{bmatrix}$ e $\\mu \\sim N(0,1)$ é um ruído com distribuição normal de média zero e desvio padrão igual a 1\n",
    "\n",
    "- Utilize a seguinte equação para estimar os parâmetros: $\\hat{\\beta} = (X^{T}X)^{-1}X^{T}y$\n",
    "\n",
    "Dicas:\n",
    "- Utilize o que você aprendeu sobre concatenação, criação de arrays e multiplicadores com numpy. Você pode achar útil usar as funções `np.linalg.multi_dot()` para fazer o produto escala entre mais de uma matriz, `np.linalg.inv()` para calcular a inversa e `np.random.randn()` para gerar uma série de distribuição $N(0,1)$  "
   ]
  },
  {
   "cell_type": "markdown",
   "metadata": {},
   "source": [
    "## Performance"
   ]
  },
  {
   "cell_type": "code",
   "execution_count": null,
   "metadata": {
    "collapsed": true
   },
   "outputs": [],
   "source": [
    "from datetime import datetime"
   ]
  },
  {
   "cell_type": "markdown",
   "metadata": {},
   "source": [
    "Vamos ver agora a diferença entre a eficiência de se fazer as operações usando o numpy e usando a sintaxe comum de loops."
   ]
  },
  {
   "cell_type": "code",
   "execution_count": null,
   "metadata": {
    "collapsed": true
   },
   "outputs": [],
   "source": [
    "# tamanho da matriz\n",
    "ny, nx = 1000, 1000\n",
    "\n",
    "x1 = np.random.random((ny, nx))\n",
    "x2 = np.random.random((ny, nx))\n",
    "\n",
    "# matriz de saída\n",
    "x3 = np.zeros((ny, nx))\n",
    "\n",
    "before_code = datetime.now()\n",
    "\n",
    "for i in range(ny):\n",
    "    for j in range(nx):\n",
    "        x3[i, j] = x1[i, j] + x2[i, j]\n",
    "        \n",
    "after_code = datetime.now()\n",
    "\n",
    "print 'Tempo que demorou para executar ', (after_code - before_code)"
   ]
  },
  {
   "cell_type": "markdown",
   "metadata": {},
   "source": [
    "Agora usando o numpy"
   ]
  },
  {
   "cell_type": "code",
   "execution_count": null,
   "metadata": {
    "collapsed": true
   },
   "outputs": [],
   "source": [
    "x1 = np.random.random((ny, nx))\n",
    "x2 = np.random.random((ny, nx))\n",
    "\n",
    "before_code = datetime.now()\n",
    "x3 = x1 + x2\n",
    "after_code = datetime.now()\n",
    "\n",
    "print 'Tempo que demorou para executar ', (after_code - before_code)"
   ]
  },
  {
   "cell_type": "markdown",
   "metadata": {},
   "source": [
    "# Matplotlib\n",
    "\n",
    "Matplotlib é uma biblioteca de visualização 2D que produz figuras com qualidade para publicação em uma variedade de formatos. Ele pode ser usado em scripts python, no IPython shell, jupyter notebook, aplicações web e para interfaces gráficas de usuários.\n",
    "\n",
    "Matplotlib tenta fazer o que é fácil fácil e o difícil possível. Você pode gerar figuras, histogramas, espectro de potência, gráfico de barras, scatterplots, etc., com apenas algumas linhas de código.\n",
    "\n",
    "Para plots simples o módulo `pyplot` proporciona uma interface próxima do MATLAB, particularmente quando combinada com o IPython. Para o usuário mais criterioso você tem controle completo de estilo de linha, fonte, propriedade de eixos, etc, a partir de uma interface orientada a objeto ou um conjunto de funções similares ao MATLAB (https://matplotlib.org/)."
   ]
  },
  {
   "cell_type": "markdown",
   "metadata": {},
   "source": [
    "## Comandos Básicos"
   ]
  },
  {
   "cell_type": "code",
   "execution_count": null,
   "metadata": {
    "collapsed": true
   },
   "outputs": [],
   "source": [
    "import matplotlib.pyplot as plt\n",
    "%matplotlib inline"
   ]
  },
  {
   "cell_type": "code",
   "execution_count": null,
   "metadata": {
    "collapsed": true
   },
   "outputs": [],
   "source": [
    "ax = plt.subplot(111)\n",
    "\n",
    "x = np.arange(0, 2.0, 0.01)\n",
    "y = np.exp(x)\n",
    "\n",
    "ax.plot(x, y)\n",
    "# labels são opicionais para criação do plot\n",
    "ax.set_xlabel('Tempo (s)')\n",
    "ax.set_ylabel('Alguma coisa')"
   ]
  },
  {
   "cell_type": "markdown",
   "metadata": {},
   "source": [
    "A sintaxe de fórmulas do latex funciona com o matplotlib"
   ]
  },
  {
   "cell_type": "code",
   "execution_count": null,
   "metadata": {
    "collapsed": true
   },
   "outputs": [],
   "source": [
    "fig = plt.figure(figsize=(14,5))\n",
    "ax = fig.add_subplot(111)\n",
    "\n",
    "ax.plot(x, y)\n",
    "ax.set_xlabel('Tempo (s)')\n",
    "ax.set_ylabel('Alguma coisa (m s$^{-1}$)', fontsize=16)\n",
    "\n",
    "fig.savefig('image.png') # alguns formatos incluídos são png, jpeg, gif, pdf, eps"
   ]
  },
  {
   "cell_type": "code",
   "execution_count": null,
   "metadata": {
    "collapsed": true
   },
   "outputs": [],
   "source": [
    "fig, ax = plt.subplots(figsize=(14,5))\n",
    "\n",
    "ax.scatter(x, y, c='red')"
   ]
  },
  {
   "cell_type": "code",
   "execution_count": null,
   "metadata": {
    "collapsed": true
   },
   "outputs": [],
   "source": [
    "fig, ax = plt.subplots(figsize=(14,5))\n",
    "\n",
    "ax.scatter(x[::4], y[::4], c='red')"
   ]
  },
  {
   "cell_type": "markdown",
   "metadata": {},
   "source": [
    "Outro tipo de gráfico que pode ser feito com o matplotlib são histogramas. Vamos fazer, por exemplo, um histograma de uma distribuição gamma. Imaginando que sabemos os parâmetros `shape` e `scale` da distribuição"
   ]
  },
  {
   "cell_type": "code",
   "execution_count": null,
   "metadata": {
    "collapsed": true
   },
   "outputs": [],
   "source": [
    "shape, scale = 4, 7.5\n",
    "\n",
    "data = np.random.gamma(shape, scale, 10000)\n",
    "\n",
    "fig, ax = plt.subplots(figsize=(14,5))\n",
    "\n",
    "ax.hist(data, 50, normed=True)"
   ]
  },
  {
   "cell_type": "markdown",
   "metadata": {},
   "source": [
    "## Exercício 6\n",
    "\n",
    "Use a reta $y = X \\beta + \\mu$ do exercício 4 e plot ela em função de x em cruzes pretas (marker=`+`) junto com a linha de melhor ajuste estimada com os mínimos quadrados na cor vermelha. Adicione um título e o nome dos eixos."
   ]
  },
  {
   "cell_type": "code",
   "execution_count": null,
   "metadata": {
    "collapsed": true
   },
   "outputs": [],
   "source": []
  }
 ],
 "metadata": {
  "kernelspec": {
   "display_name": "Python 2",
   "language": "python",
   "name": "python2"
  },
  "language_info": {
   "codemirror_mode": {
    "name": "ipython",
    "version": 2
   },
   "file_extension": ".py",
   "mimetype": "text/x-python",
   "name": "python",
   "nbconvert_exporter": "python",
   "pygments_lexer": "ipython2",
   "version": "2.7.15"
  }
 },
 "nbformat": 4,
 "nbformat_minor": 1
}
