{
 "cells": [
  {
   "cell_type": "markdown",
   "metadata": {},
   "source": [
    "# Numpy\n",
    "\n",
    "NumPy is the fundamental package for scientific computing with Python. It contains among other things:\n",
    "\n",
    "* a powerful N-dimensional array object\n",
    "* sophisticated (broadcasting) functions\n",
    "* tools for integrating C/C++ and Fortran code\n",
    "* useful linear algebra, Fourier transform, and random number capabilities\n",
    "\n",
    "Besides its obvious scientific uses, NumPy can also be used as an efficient multi-dimensional container of generic data. Arbitrary data-types can be defined. This allows NumPy to seamlessly and speedily integrate with a wide variety of databases. (http://www.numpy.org/)"
   ]
  },
  {
   "cell_type": "code",
   "execution_count": 1,
   "metadata": {
    "collapsed": false
   },
   "outputs": [
    {
     "data": {
      "text/plain": [
       "list"
      ]
     },
     "execution_count": 1,
     "metadata": {},
     "output_type": "execute_result"
    }
   ],
   "source": [
    "x = [[ 1., 0., 0.],\n",
    "     [ 0., 1., 2.]]\n",
    "\n",
    "type(x)"
   ]
  },
  {
   "cell_type": "code",
   "execution_count": 2,
   "metadata": {
    "collapsed": true
   },
   "outputs": [],
   "source": [
    "import numpy as np"
   ]
  },
  {
   "cell_type": "code",
   "execution_count": 3,
   "metadata": {
    "collapsed": true
   },
   "outputs": [],
   "source": [
    "x = np.array([[ 1., 0., 0.],\n",
    "              [ 0., 1., 2.]])"
   ]
  },
  {
   "cell_type": "code",
   "execution_count": 4,
   "metadata": {
    "collapsed": false
   },
   "outputs": [
    {
     "name": "stdout",
     "output_type": "stream",
     "text": [
      "<type 'numpy.ndarray'>\n",
      "(2, 3)\n",
      "2\n",
      "6\n",
      "float64\n"
     ]
    }
   ],
   "source": [
    "print type(x)\n",
    "print x.shape\n",
    "print x.ndim\n",
    "print x.size\n",
    "print x.dtype"
   ]
  },
  {
   "cell_type": "code",
   "execution_count": 5,
   "metadata": {
    "collapsed": false
   },
   "outputs": [
    {
     "name": "stdout",
     "output_type": "stream",
     "text": [
      "[[ 1.  0.  0.]\n",
      " [ 0.  1.  2.]]\n"
     ]
    }
   ],
   "source": [
    "print x"
   ]
  },
  {
   "cell_type": "code",
   "execution_count": 6,
   "metadata": {
    "collapsed": false
   },
   "outputs": [
    {
     "name": "stdout",
     "output_type": "stream",
     "text": [
      "|S3\n",
      "[['abc' '0.0' '0.0']\n",
      " ['0.0' '1.0' '2.0']]\n"
     ]
    }
   ],
   "source": [
    "x = np.array([[ 'abc', 0., 0.],\n",
    "              [ 0., 1., 2.]])\n",
    "\n",
    "print x.dtype\n",
    "print x"
   ]
  },
  {
   "cell_type": "markdown",
   "metadata": {
    "collapsed": true
   },
   "source": [
    "É possível criar arrays de zeros, uns e um array vazio."
   ]
  },
  {
   "cell_type": "code",
   "execution_count": 8,
   "metadata": {
    "collapsed": false
   },
   "outputs": [
    {
     "name": "stdout",
     "output_type": "stream",
     "text": [
      "[[ 0.  0.  0.  0.]\n",
      " [ 0.  0.  0.  0.]\n",
      " [ 0.  0.  0.  0.]]\n",
      "(3, 4)\n"
     ]
    }
   ],
   "source": [
    "x = np.zeros((3, 4)) # as dimensões\n",
    "\n",
    "print x\n",
    "print x.shape"
   ]
  },
  {
   "cell_type": "code",
   "execution_count": 9,
   "metadata": {
    "collapsed": false
   },
   "outputs": [
    {
     "name": "stdout",
     "output_type": "stream",
     "text": [
      "[[ 1.  1.  1.  1.]\n",
      " [ 1.  1.  1.  1.]\n",
      " [ 1.  1.  1.  1.]]\n",
      "(3, 4)\n"
     ]
    }
   ],
   "source": [
    "x = np.ones((3, 4))\n",
    "\n",
    "print x\n",
    "print x.shape"
   ]
  },
  {
   "cell_type": "code",
   "execution_count": 10,
   "metadata": {
    "collapsed": false
   },
   "outputs": [
    {
     "name": "stdout",
     "output_type": "stream",
     "text": [
      "[[ 0.  0.  0.  0.]\n",
      " [ 0.  0.  0.  0.]\n",
      " [ 0.  0.  0.  0.]]\n",
      "(3, 4)\n"
     ]
    }
   ],
   "source": [
    "x = np.empty((3, 4))\n",
    "\n",
    "print x\n",
    "print x.shape"
   ]
  },
  {
   "cell_type": "markdown",
   "metadata": {},
   "source": [
    "Para criar uma lista de valores automaticamente,"
   ]
  },
  {
   "cell_type": "code",
   "execution_count": 12,
   "metadata": {
    "collapsed": false
   },
   "outputs": [
    {
     "name": "stdout",
     "output_type": "stream",
     "text": [
      "[0 1 2 3 4 5 6 7 8 9]\n"
     ]
    }
   ],
   "source": [
    "x = np.arange(0, 10, 1) # start, stop, step\n",
    "\n",
    "print x"
   ]
  },
  {
   "cell_type": "code",
   "execution_count": 16,
   "metadata": {
    "collapsed": false
   },
   "outputs": [
    {
     "name": "stdout",
     "output_type": "stream",
     "text": [
      "[ 0.  1.  2.  3.  4.  5.  6.  7.  8.  9.]\n"
     ]
    }
   ],
   "source": [
    "x = np.linspace(0, 9, 10)\n",
    "\n",
    "print x"
   ]
  },
  {
   "cell_type": "markdown",
   "metadata": {},
   "source": [
    "É possível redimensionar a sua matrix de dados também"
   ]
  },
  {
   "cell_type": "code",
   "execution_count": 42,
   "metadata": {
    "collapsed": false
   },
   "outputs": [
    {
     "name": "stdout",
     "output_type": "stream",
     "text": [
      "[[ 0.76434397  0.53471153  0.50037978  0.61540085]\n",
      " [ 0.06104593  0.498482    0.72820998  0.50696144]\n",
      " [ 0.50306289  0.9636905   0.87341161  0.49620727]] \n",
      "\n",
      "[[ 0.76434397  0.53471153  0.50037978]\n",
      " [ 0.61540085  0.06104593  0.498482  ]\n",
      " [ 0.72820998  0.50696144  0.50306289]\n",
      " [ 0.9636905   0.87341161  0.49620727]]\n"
     ]
    }
   ],
   "source": [
    "x = np.random.random((3, 4))\n",
    "\n",
    "x_new = x.reshape((4, 3))\n",
    "\n",
    "print x, '\\n'\n",
    "print x_new"
   ]
  },
  {
   "cell_type": "markdown",
   "metadata": {},
   "source": [
    "Caso você seja preguiçoso, o índice -1 automaticamente calcula a dimensão faltante"
   ]
  },
  {
   "cell_type": "code",
   "execution_count": 43,
   "metadata": {
    "collapsed": false
   },
   "outputs": [
    {
     "name": "stdout",
     "output_type": "stream",
     "text": [
      "[[ 0.76434397  0.53471153]\n",
      " [ 0.50037978  0.61540085]\n",
      " [ 0.06104593  0.498482  ]\n",
      " [ 0.72820998  0.50696144]\n",
      " [ 0.50306289  0.9636905 ]\n",
      " [ 0.87341161  0.49620727]]\n"
     ]
    }
   ],
   "source": [
    "print x.reshape((6, -1))"
   ]
  },
  {
   "cell_type": "markdown",
   "metadata": {},
   "source": [
    "Assim como transformar seus dados em um vetor de 1D"
   ]
  },
  {
   "cell_type": "code",
   "execution_count": 22,
   "metadata": {
    "collapsed": false
   },
   "outputs": [
    {
     "name": "stdout",
     "output_type": "stream",
     "text": [
      "[ 0.97211255  0.0276569   0.72472725  0.38441992  0.33069388  0.30122603\n",
      "  0.88152954  0.14552656  0.21196857  0.0414863   0.59589259  0.74249251]\n"
     ]
    }
   ],
   "source": [
    "x = np.random.random((3, 4))\n",
    "\n",
    "print x.flatten()"
   ]
  },
  {
   "cell_type": "markdown",
   "metadata": {},
   "source": [
    "## Indexação"
   ]
  },
  {
   "cell_type": "code",
   "execution_count": 24,
   "metadata": {
    "collapsed": false
   },
   "outputs": [
    {
     "name": "stdout",
     "output_type": "stream",
     "text": [
      "[[ 0.78907848  0.47189812  0.10811834  0.78178802]\n",
      " [ 0.8655812   0.69567018  0.31028886  0.05613804]\n",
      " [ 0.24343512  0.32335692  0.20761386  0.55747981]]\n"
     ]
    }
   ],
   "source": [
    "x = np.random.random((3, 4))\n",
    "\n",
    "print x"
   ]
  },
  {
   "cell_type": "code",
   "execution_count": 26,
   "metadata": {
    "collapsed": false
   },
   "outputs": [
    {
     "name": "stdout",
     "output_type": "stream",
     "text": [
      "2\n"
     ]
    }
   ],
   "source": [
    "print x.ndim"
   ]
  },
  {
   "cell_type": "code",
   "execution_count": 32,
   "metadata": {
    "collapsed": false
   },
   "outputs": [
    {
     "name": "stdout",
     "output_type": "stream",
     "text": [
      "[[ 0.78907848  0.47189812  0.10811834  0.78178802]\n",
      " [ 0.8655812   0.69567018  0.31028886  0.05613804]\n",
      " [ 0.24343512  0.32335692  0.20761386  0.55747981]]\n"
     ]
    }
   ],
   "source": [
    "print x[:, :]"
   ]
  },
  {
   "cell_type": "markdown",
   "metadata": {},
   "source": [
    "Porém se especificarmos mais índices que a matrix possui de dimensões um erro será levantado"
   ]
  },
  {
   "cell_type": "code",
   "execution_count": 33,
   "metadata": {
    "collapsed": false
   },
   "outputs": [
    {
     "ename": "IndexError",
     "evalue": "too many indices for array",
     "output_type": "error",
     "traceback": [
      "\u001b[1;31m---------------------------------------------------------------------------\u001b[0m",
      "\u001b[1;31mIndexError\u001b[0m                                Traceback (most recent call last)",
      "\u001b[1;32m<ipython-input-33-3932c6a88e83>\u001b[0m in \u001b[0;36m<module>\u001b[1;34m()\u001b[0m\n\u001b[1;32m----> 1\u001b[1;33m \u001b[1;32mprint\u001b[0m \u001b[0mx\u001b[0m\u001b[1;33m[\u001b[0m\u001b[1;33m:\u001b[0m\u001b[1;33m,\u001b[0m \u001b[1;33m:\u001b[0m\u001b[1;33m,\u001b[0m \u001b[1;33m:\u001b[0m\u001b[1;33m]\u001b[0m\u001b[1;33m\u001b[0m\u001b[0m\n\u001b[0m",
      "\u001b[1;31mIndexError\u001b[0m: too many indices for array"
     ]
    }
   ],
   "source": [
    "print x[:, :, :]"
   ]
  },
  {
   "cell_type": "markdown",
   "metadata": {},
   "source": [
    "Equivalentemente a `x[:, :]` e x, utilizando `x[:]`, você seleciona todos os índices do array, independentemente de quantas dimensões ele possui."
   ]
  },
  {
   "cell_type": "code",
   "execution_count": 31,
   "metadata": {
    "collapsed": false
   },
   "outputs": [
    {
     "name": "stdout",
     "output_type": "stream",
     "text": [
      "[[ 0.78907848  0.47189812  0.10811834  0.78178802]\n",
      " [ 0.8655812   0.69567018  0.31028886  0.05613804]\n",
      " [ 0.24343512  0.32335692  0.20761386  0.55747981]]\n"
     ]
    }
   ],
   "source": [
    "print x[:]"
   ]
  },
  {
   "cell_type": "markdown",
   "metadata": {},
   "source": [
    "Caso você queira selecionar apenas uma linha ou coluna"
   ]
  },
  {
   "cell_type": "code",
   "execution_count": 35,
   "metadata": {
    "collapsed": false
   },
   "outputs": [
    {
     "name": "stdout",
     "output_type": "stream",
     "text": [
      "[ 0.78907848  0.8655812   0.24343512]\n",
      "[ 0.78907848  0.47189812  0.10811834  0.78178802]\n"
     ]
    }
   ],
   "source": [
    "print x[:, 0] # todas as linhas e coluna 0\n",
    "print x[0, :] # todas as colunas e a linha 0"
   ]
  },
  {
   "cell_type": "markdown",
   "metadata": {},
   "source": [
    "Pegando apenas um elemento"
   ]
  },
  {
   "cell_type": "code",
   "execution_count": 37,
   "metadata": {
    "collapsed": false
   },
   "outputs": [
    {
     "name": "stdout",
     "output_type": "stream",
     "text": [
      "0.789078477156\n",
      "0.781788021786\n",
      "0.557479810545\n"
     ]
    }
   ],
   "source": [
    "print x[0, 0] # primeiro elemento\n",
    "print x[0, -1] # primeira linha e última coluna\n",
    "print x[2, 3]"
   ]
  },
  {
   "cell_type": "markdown",
   "metadata": {},
   "source": [
    "Selecionando apenas um intervalo de dados"
   ]
  },
  {
   "cell_type": "code",
   "execution_count": 40,
   "metadata": {
    "collapsed": false
   },
   "outputs": [
    {
     "name": "stdout",
     "output_type": "stream",
     "text": [
      "[[ 0.8655812   0.69567018  0.31028886  0.05613804]\n",
      " [ 0.24343512  0.32335692  0.20761386  0.55747981]]\n"
     ]
    }
   ],
   "source": [
    "print x[1:3, :] # todas as colunas, e das linhas 1 a 3, ou seja, linhas 1 e 2 \n",
    "                # (lembrando que a indexação começa em 0)"
   ]
  },
  {
   "cell_type": "markdown",
   "metadata": {},
   "source": [
    "É possível também inverter a ordem dos dados. Por exemplo, se você quiser reordenar as linhas"
   ]
  },
  {
   "cell_type": "code",
   "execution_count": 41,
   "metadata": {
    "collapsed": false
   },
   "outputs": [
    {
     "name": "stdout",
     "output_type": "stream",
     "text": [
      "[[ 0.24343512  0.32335692  0.20761386  0.55747981]\n",
      " [ 0.8655812   0.69567018  0.31028886  0.05613804]\n",
      " [ 0.78907848  0.47189812  0.10811834  0.78178802]]\n"
     ]
    }
   ],
   "source": [
    "print x[::-1, :]"
   ]
  },
  {
   "cell_type": "markdown",
   "metadata": {},
   "source": [
    "## Operações"
   ]
  },
  {
   "cell_type": "markdown",
   "metadata": {},
   "source": [
    "As operações matemáticas básicas são utilizadas normalmente com arrays numpy"
   ]
  },
  {
   "cell_type": "code",
   "execution_count": 45,
   "metadata": {
    "collapsed": false
   },
   "outputs": [
    {
     "name": "stdout",
     "output_type": "stream",
     "text": [
      "[ 0  2  4  6  8 10]\n",
      "[ 0.90344815  0.44281927  0.09722211  0.49089681  0.05888423  0.09291023]\n"
     ]
    }
   ],
   "source": [
    "x = np.arange(0, 12, 2)\n",
    "y = np.random.random(6)\n",
    "\n",
    "print x\n",
    "print y"
   ]
  },
  {
   "cell_type": "code",
   "execution_count": 46,
   "metadata": {
    "collapsed": false
   },
   "outputs": [
    {
     "name": "stdout",
     "output_type": "stream",
     "text": [
      "[-0.90344815  1.55718073  3.90277789  5.50910319  7.94111577  9.90708977]\n"
     ]
    }
   ],
   "source": [
    "print x-y"
   ]
  },
  {
   "cell_type": "code",
   "execution_count": 47,
   "metadata": {
    "collapsed": false
   },
   "outputs": [
    {
     "name": "stdout",
     "output_type": "stream",
     "text": [
      "[ 0.          0.88563855  0.38888845  2.94538084  0.47107385  0.92910231]\n"
     ]
    }
   ],
   "source": [
    "print x * y"
   ]
  },
  {
   "cell_type": "code",
   "execution_count": 48,
   "metadata": {
    "collapsed": false
   },
   "outputs": [
    {
     "name": "stdout",
     "output_type": "stream",
     "text": [
      "[  0   4  16  36  64 100]\n"
     ]
    }
   ],
   "source": [
    "print x ** 2"
   ]
  },
  {
   "cell_type": "code",
   "execution_count": 49,
   "metadata": {
    "collapsed": false
   },
   "outputs": [
    {
     "name": "stdout",
     "output_type": "stream",
     "text": [
      "[   0.            4.51651525   41.14290388   12.22252805  135.85980334\n",
      "  107.63077338]\n"
     ]
    }
   ],
   "source": [
    "print x / y"
   ]
  },
  {
   "cell_type": "markdown",
   "metadata": {},
   "source": [
    "Diferentemente da muitas linguagens científicas (matlab, por exemplo) o operador `*` realiza o produto por elementos de uma matriz. Para fazer o produto escalar, é necessário usar a função `np.dot()`"
   ]
  },
  {
   "cell_type": "code",
   "execution_count": 50,
   "metadata": {
    "collapsed": false
   },
   "outputs": [
    {
     "data": {
      "text/plain": [
       "5.6200839905790847"
      ]
     },
     "execution_count": 50,
     "metadata": {},
     "output_type": "execute_result"
    }
   ],
   "source": [
    "np.dot(x, y)"
   ]
  },
  {
   "cell_type": "code",
   "execution_count": 54,
   "metadata": {
    "collapsed": false
   },
   "outputs": [
    {
     "name": "stdout",
     "output_type": "stream",
     "text": [
      "[[5 4]\n",
      " [3 4]] \n",
      "\n",
      "[[2 0]\n",
      " [0 4]]\n"
     ]
    }
   ],
   "source": [
    "A = np.array([[1,1],\n",
    "              [0,1]])\n",
    "B = np.array([[2,0],\n",
    "              [3,4]])\n",
    "\n",
    "print np.dot(A, B), '\\n'\n",
    "print A * B"
   ]
  },
  {
   "cell_type": "markdown",
   "metadata": {},
   "source": [
    "Utilizando o operador `.T` na matriz retorna a transposta"
   ]
  },
  {
   "cell_type": "code",
   "execution_count": 56,
   "metadata": {
    "collapsed": false
   },
   "outputs": [
    {
     "name": "stdout",
     "output_type": "stream",
     "text": [
      "[[2 3]\n",
      " [0 4]]\n"
     ]
    }
   ],
   "source": [
    "print B.T"
   ]
  },
  {
   "cell_type": "markdown",
   "metadata": {},
   "source": [
    "O numpy possui também inúmeras funções para lidar com matrizes, como soma, exponencial, raiz quadrática, seno e etc."
   ]
  },
  {
   "cell_type": "code",
   "execution_count": 57,
   "metadata": {
    "collapsed": false
   },
   "outputs": [
    {
     "name": "stdout",
     "output_type": "stream",
     "text": [
      "[ 0.51142532  0.28629782  0.88444924  0.64633768  0.75227918  0.20502891]\n"
     ]
    }
   ],
   "source": [
    "x = np.random.random(6)\n",
    "\n",
    "print x"
   ]
  },
  {
   "cell_type": "code",
   "execution_count": 59,
   "metadata": {
    "collapsed": false
   },
   "outputs": [
    {
     "name": "stdout",
     "output_type": "stream",
     "text": [
      "[ 1.66766646  1.33148894  2.42165028  1.90853834  2.12183055  1.22756056]\n",
      "[ 0.71514007  0.53506805  0.94045162  0.80395129  0.86734029  0.45280118]\n",
      "[ 0.48942069  0.28240268  0.77356608  0.60226684  0.68330464  0.20359547]\n",
      "3.28581815647\n"
     ]
    }
   ],
   "source": [
    "print np.exp(x)\n",
    "print np.sqrt(x)\n",
    "print np.sin(x)\n",
    "print x.sum()"
   ]
  },
  {
   "cell_type": "markdown",
   "metadata": {},
   "source": [
    "Caso você tenha uma matriz de mais de uma dimensão, é possível especificar o eixo em que determinada função será feita, como por exemplo, soma, média, máximos e mínimos."
   ]
  },
  {
   "cell_type": "code",
   "execution_count": 64,
   "metadata": {
    "collapsed": false
   },
   "outputs": [
    {
     "name": "stdout",
     "output_type": "stream",
     "text": [
      "[[[ 0.21899018  0.3317877   0.36180977  0.53645493  0.15723388]\n",
      "  [ 0.11814947  0.62236752  0.01511048  0.96032151  0.06692297]\n",
      "  [ 0.60747804  0.75422929  0.14319334  0.7259718   0.25993542]\n",
      "  [ 0.87611929  0.8254837   0.07410685  0.70114698  0.18258263]]\n",
      "\n",
      " [[ 0.59730871  0.8288535   0.78134255  0.1654751   0.68138921]\n",
      "  [ 0.42363324  0.67158937  0.69343456  0.8626091   0.69543862]\n",
      "  [ 0.23642691  0.30180362  0.62219891  0.38400417  0.30053286]\n",
      "  [ 0.5408104   0.67113386  0.98382627  0.23023311  0.0674491 ]]\n",
      "\n",
      " [[ 0.87388571  0.1195611   0.76399566  0.29505579  0.73175595]\n",
      "  [ 0.22729084  0.13538983  0.4750348   0.2311911   0.22656938]\n",
      "  [ 0.32145341  0.49153618  0.224632    0.74217657  0.51719029]\n",
      "  [ 0.6790856   0.93658739  0.19432287  0.71810165  0.55498815]]]\n"
     ]
    }
   ],
   "source": [
    "x = np.random.random((3, 4, 5))\n",
    "\n",
    "print x"
   ]
  },
  {
   "cell_type": "code",
   "execution_count": 65,
   "metadata": {
    "collapsed": false
   },
   "outputs": [
    {
     "name": "stdout",
     "output_type": "stream",
     "text": [
      "[[ 1.6901846   1.2802023   1.90714798  0.99698582  1.57037905]\n",
      " [ 0.76907355  1.42934672  1.18357984  2.0541217   0.98893097]\n",
      " [ 1.16535836  1.54756909  0.99002425  1.85215254  1.07765857]\n",
      " [ 2.09601529  2.43320495  1.25225599  1.64948175  0.80501988]]\n",
      "(4, 5)\n"
     ]
    }
   ],
   "source": [
    "x_sum = x.sum(axis=0)\n",
    "\n",
    "print x_sum\n",
    "print x_sum.shape"
   ]
  },
  {
   "cell_type": "code",
   "execution_count": 66,
   "metadata": {
    "collapsed": false
   },
   "outputs": [
    {
     "name": "stdout",
     "output_type": "stream",
     "text": [
      "[[ 0.45518425  0.63346705  0.14855511  0.7309738   0.16666872]\n",
      " [ 0.44954481  0.61834509  0.77020057  0.41058037  0.43620245]\n",
      " [ 0.52542889  0.42076863  0.41449633  0.49663128  0.50762594]]\n",
      "(3, 5)\n"
     ]
    }
   ],
   "source": [
    "x_mean = x.mean(axis=1)\n",
    "\n",
    "print x_mean\n",
    "print x_mean.shape"
   ]
  },
  {
   "cell_type": "code",
   "execution_count": 67,
   "metadata": {
    "collapsed": false
   },
   "outputs": [
    {
     "name": "stdout",
     "output_type": "stream",
     "text": [
      "[[ 0.53645493  0.96032151  0.75422929  0.87611929]\n",
      " [ 0.8288535   0.8626091   0.62219891  0.98382627]\n",
      " [ 0.87388571  0.4750348   0.74217657  0.93658739]]\n",
      "(3, 4)\n"
     ]
    }
   ],
   "source": [
    "x_max = x.max(axis=2)\n",
    "\n",
    "print x_max\n",
    "print x_max.shape"
   ]
  },
  {
   "cell_type": "markdown",
   "metadata": {},
   "source": [
    "# Matplotlib\n",
    "\n",
    "Matplotlib is a Python 2D plotting library which produces publication quality figures in a variety of hardcopy formats and interactive environments across platforms. Matplotlib can be used in Python scripts, the Python and IPython shell, the jupyter notebook, web application servers, and four graphical user interface toolkits.\n",
    "\n",
    "Matplotlib tries to make easy things easy and hard things possible. You can generate plots, histograms, power spectra, bar charts, errorcharts, scatterplots, etc., with just a few lines of code. For examples, see the sample plots and thumbnail gallery.\n",
    "\n",
    "For simple plotting the pyplot module provides a MATLAB-like interface, particularly when combined with IPython. For the power user, you have full control of line styles, font properties, axes properties, etc, via an object oriented interface or via a set of functions familiar to MATLAB users. (https://matplotlib.org/)"
   ]
  },
  {
   "cell_type": "code",
   "execution_count": 79,
   "metadata": {
    "collapsed": true
   },
   "outputs": [],
   "source": [
    "import matplotlib.pyplot as plt\n",
    "%matplotlib inline"
   ]
  },
  {
   "cell_type": "code",
   "execution_count": 89,
   "metadata": {
    "collapsed": false
   },
   "outputs": [
    {
     "data": {
      "text/plain": [
       "<matplotlib.text.Text at 0x7f8dc985f850>"
      ]
     },
     "execution_count": 89,
     "metadata": {},
     "output_type": "execute_result"
    },
    {
     "data": {
      "image/png": "[encoded data removed]",
      "text/plain": [
       "<matplotlib.figure.Figure at 0x7f8dc99252d0>"
      ]
     },
     "metadata": {},
     "output_type": "display_data"
    }
   ],
   "source": [
    "fig, ax = plt.subplots()\n",
    "\n",
    "x = np.arange(0, 2.0, 0.01)\n",
    "y = np.exp(x)\n",
    "\n",
    "ax.plot(x, y)\n",
    "# labels são opicionais para criação do plot\n",
    "ax.set_xlabel('Tempo (s)')\n",
    "ax.set_ylabel('Alguma coisa')"
   ]
  },
  {
   "cell_type": "markdown",
   "metadata": {},
   "source": [
    "A sintaxe de fórmulas do latex funciona com o matplotlib"
   ]
  },
  {
   "cell_type": "code",
   "execution_count": 97,
   "metadata": {
    "collapsed": false
   },
   "outputs": [
    {
     "data": {
      "image/png": "[encoded data removed]",
      "text/plain": [
       "<matplotlib.figure.Figure at 0x7f8dc9413c50>"
      ]
     },
     "metadata": {},
     "output_type": "display_data"
    }
   ],
   "source": [
    "fig, ax = plt.subplots(figsize=(14,5))\n",
    "\n",
    "ax.plot(x, y)\n",
    "ax.set_xlabel('Tempo (s)')\n",
    "ax.set_ylabel('Alguma coisa (m s$^{-1}$)', fontsize=16)\n",
    "\n",
    "fig.savefig('image.png') # alguns formatos incluídos são png, jpeg, gif, pdf, eps"
   ]
  },
  {
   "cell_type": "code",
   "execution_count": 98,
   "metadata": {
    "collapsed": false
   },
   "outputs": [
    {
     "data": {
      "text/plain": [
       "<matplotlib.collections.PathCollection at 0x7f8dc9251550>"
      ]
     },
     "execution_count": 98,
     "metadata": {},
     "output_type": "execute_result"
    },
    {
     "data": {
      "image/png": "[encoded data removed]",
      "text/plain": [
       "<matplotlib.figure.Figure at 0x7f8dc93560d0>"
      ]
     },
     "metadata": {},
     "output_type": "display_data"
    }
   ],
   "source": [
    "fig, ax = plt.subplots(figsize=(14,5))\n",
    "\n",
    "ax.scatter(x, y, c='red')"
   ]
  },
  {
   "cell_type": "code",
   "execution_count": 96,
   "metadata": {
    "collapsed": false
   },
   "outputs": [
    {
     "data": {
      "text/plain": [
       "<matplotlib.collections.PathCollection at 0x7f8dc93dbad0>"
      ]
     },
     "execution_count": 96,
     "metadata": {},
     "output_type": "execute_result"
    },
    {
     "data": {
      "image/png": "[encoded data removed]",
      "text/plain": [
       "<matplotlib.figure.Figure at 0x7f8dc943b310>"
      ]
     },
     "metadata": {},
     "output_type": "display_data"
    }
   ],
   "source": [
    "fig, ax = plt.subplots(figsize=(14,5))\n",
    "\n",
    "ax.scatter(x[::4], y[::4], c='red')"
   ]
  },
  {
   "cell_type": "markdown",
   "metadata": {},
   "source": [
    "Outro tipo de gráfico que pode ser feito com o matplotlib são histogramas. Vamos fazer, por exemplo, um histograma de uma distribuição gamma. Imaginando que sabemos os parâmetros shape e scale da distribuição"
   ]
  },
  {
   "cell_type": "code",
   "execution_count": 100,
   "metadata": {
    "collapsed": false
   },
   "outputs": [
    {
     "data": {
      "text/plain": [
       "(array([  8.10185293e-04,   4.47363183e-03,   1.10960160e-02,\n",
       "          1.77888510e-02,   2.15931993e-02,   2.64895365e-02,\n",
       "          3.09279429e-02,   3.23017354e-02,   2.72292709e-02,\n",
       "          2.77224272e-02,   2.43055588e-02,   2.24033846e-02,\n",
       "          1.97262506e-02,   1.69434403e-02,   1.37026991e-02,\n",
       "          1.10607905e-02,   9.08816546e-03,   7.50302032e-03,\n",
       "          5.70652250e-03,   4.57930818e-03,   3.34641751e-03,\n",
       "          2.67713401e-03,   3.13506483e-03,   1.79649782e-03,\n",
       "          1.44424335e-03,   1.05676343e-03,   8.10185293e-04,\n",
       "          7.04508950e-04,   2.11352685e-04,   3.52254475e-04,\n",
       "          2.46578133e-04,   3.17029028e-04,   2.46578133e-04,\n",
       "          3.52254475e-05,   1.05676343e-04,   7.04508950e-05,\n",
       "          3.52254475e-05,   3.52254475e-05,   3.52254475e-05,\n",
       "          7.04508950e-05,   0.00000000e+00,   0.00000000e+00,\n",
       "          3.52254475e-05,   0.00000000e+00,   0.00000000e+00,\n",
       "          0.00000000e+00,   0.00000000e+00,   0.00000000e+00,\n",
       "          0.00000000e+00,   3.52254475e-05]),\n",
       " array([   1.35623415,    4.19509091,    7.03394768,    9.87280445,\n",
       "          12.71166121,   15.55051798,   18.38937475,   21.22823151,\n",
       "          24.06708828,   26.90594504,   29.74480181,   32.58365858,\n",
       "          35.42251534,   38.26137211,   41.10022888,   43.93908564,\n",
       "          46.77794241,   49.61679917,   52.45565594,   55.29451271,\n",
       "          58.13336947,   60.97222624,   63.81108301,   66.64993977,\n",
       "          69.48879654,   72.32765331,   75.16651007,   78.00536684,\n",
       "          80.8442236 ,   83.68308037,   86.52193714,   89.3607939 ,\n",
       "          92.19965067,   95.03850744,   97.8773642 ,  100.71622097,\n",
       "         103.55507773,  106.3939345 ,  109.23279127,  112.07164803,\n",
       "         114.9105048 ,  117.74936157,  120.58821833,  123.4270751 ,\n",
       "         126.26593186,  129.10478863,  131.9436454 ,  134.78250216,\n",
       "         137.62135893,  140.4602157 ,  143.29907246]),\n",
       " <a list of 50 Patch objects>)"
      ]
     },
     "execution_count": 100,
     "metadata": {},
     "output_type": "execute_result"
    },
    {
     "data": {
      "image/png": "[encoded data removed]",
      "text/plain": [
       "<matplotlib.figure.Figure at 0x7f8dc9156590>"
      ]
     },
     "metadata": {},
     "output_type": "display_data"
    }
   ],
   "source": [
    "shape, scale = 4, 7.5\n",
    "\n",
    "data = np.random.gamma(shape, scale, 10000)\n",
    "\n",
    "fig, ax = plt.subplots(figsize=(14,5))\n",
    "\n",
    "ax.hist(data, 50, normed=True)"
   ]
  },
  {
   "cell_type": "markdown",
   "metadata": {},
   "source": []
  }
 ],
 "metadata": {
  "kernelspec": {
   "display_name": "Python 2",
   "language": "python",
   "name": "python2"
  },
  "language_info": {
   "codemirror_mode": {
    "name": "ipython",
    "version": 2
   },
   "file_extension": ".py",
   "mimetype": "text/x-python",
   "name": "python",
   "nbconvert_exporter": "python",
   "pygments_lexer": "ipython2",
   "version": "2.7.11"
  }
 },
 "nbformat": 4,
 "nbformat_minor": 0
}
