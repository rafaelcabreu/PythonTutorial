{
 "cells": [
  {
   "cell_type": "code",
   "execution_count": 2,
   "metadata": {
    "collapsed": true
   },
   "outputs": [],
   "source": [
    "import numpy as np\n",
    "\n",
    "import matplotlib.pyplot as plt\n",
    "% matplotlib  inline"
   ]
  },
  {
   "cell_type": "markdown",
   "metadata": {},
   "source": [
    "### Exercício # 1\n",
    "\n",
    "Dada uma lista `a = [1, 4, 9, 16, 25, 36, 49, 64, 81, 100]` use o que você aprendeu até agora (lista e loop) para criar uma lista apenas com os elementos pares (Dica, para criar uma lista vazia basta defini-la como `x = []`)"
   ]
  },
  {
   "cell_type": "code",
   "execution_count": 2,
   "metadata": {},
   "outputs": [
    {
     "name": "stdout",
     "output_type": "stream",
     "text": [
      "[4, 16, 36, 64, 100]\n"
     ]
    }
   ],
   "source": [
    "a = [1, 4, 9, 16, 25, 36, 49, 64, 81, 100]\n",
    "b = []\n",
    "\n",
    "for x in a:\n",
    "     if x % 2 == 0:\n",
    "        b.append(x)\n",
    "\n",
    "print b"
   ]
  },
  {
   "cell_type": "markdown",
   "metadata": {},
   "source": [
    "Também pode ser feito de uma forma mais \"pythonesca\""
   ]
  },
  {
   "cell_type": "code",
   "execution_count": 3,
   "metadata": {},
   "outputs": [
    {
     "name": "stdout",
     "output_type": "stream",
     "text": [
      "[4, 16, 36, 64, 100]\n"
     ]
    }
   ],
   "source": [
    "a = [1, 4, 9, 16, 25, 36, 49, 64, 81, 100]\n",
    "b = [x for x in a if x % 2 == 0]\n",
    "\n",
    "print b"
   ]
  },
  {
   "cell_type": "markdown",
   "metadata": {},
   "source": [
    "## Exercício 2\n",
    "\n",
    "Dados três valores escreva uma função `max_of_three` que retorna o maior valor dos três."
   ]
  },
  {
   "cell_type": "code",
   "execution_count": 1,
   "metadata": {},
   "outputs": [
    {
     "name": "stdout",
     "output_type": "stream",
     "text": [
      "4\n"
     ]
    }
   ],
   "source": [
    "def max_of_three(a, b, c):\n",
    "    max_val = 0\n",
    "    if a > b:\n",
    "        if a > c:\n",
    "            max_val = a\n",
    "        else:\n",
    "            max_val = c\n",
    "    else:\n",
    "        if b > c:\n",
    "            max_val = b\n",
    "        else:\n",
    "            max_val = c\n",
    "\n",
    "    return max_val\n",
    "\n",
    "print max_of_three(3, 4, 1)"
   ]
  },
  {
   "cell_type": "markdown",
   "metadata": {},
   "source": [
    "Outra solução:"
   ]
  },
  {
   "cell_type": "code",
   "execution_count": 2,
   "metadata": {},
   "outputs": [
    {
     "name": "stdout",
     "output_type": "stream",
     "text": [
      "4\n"
     ]
    }
   ],
   "source": [
    "def max_of_three(a, b, c):\n",
    "    if (a > b) and (a > c):\n",
    "        max_val = a\n",
    "    elif (b > a) and (b > c):\n",
    "        max_val = b\n",
    "    elif (c > a) and (c > b):\n",
    "        max_val = c\n",
    "    \n",
    "    return max_val\n",
    "\n",
    "print max_of_three(3, 4, 1)"
   ]
  },
  {
   "cell_type": "markdown",
   "metadata": {},
   "source": [
    "Ou mais simples ainda ..."
   ]
  },
  {
   "cell_type": "code",
   "execution_count": 3,
   "metadata": {},
   "outputs": [
    {
     "data": {
      "text/plain": [
       "4"
      ]
     },
     "execution_count": 3,
     "metadata": {},
     "output_type": "execute_result"
    }
   ],
   "source": [
    "max(3, 4, 1)"
   ]
  },
  {
   "cell_type": "markdown",
   "metadata": {},
   "source": [
    "## Exercício 3\n",
    "\n",
    "Faça uma classe `ConvertTemp` que dado um valor de temperatura ele pode ser convertido entre os três sistema de medidas (Farenheit, Kelvins e Celsius).\n",
    "\n",
    "Lembre-se que:\n",
    "\n",
    "$T_{C} = (T_{F} - 32.) \\times 5/9$\n",
    "\n",
    "$T_{F} = (T_{C} \\times 5/9) + 32$\n",
    "\n",
    "$T_{C} = T_{K} - 273.15$"
   ]
  },
  {
   "cell_type": "code",
   "execution_count": 9,
   "metadata": {},
   "outputs": [
    {
     "name": "stdout",
     "output_type": "stream",
     "text": [
      "Temperatura em Kelvins:  296.65\n",
      "Temperatura em Celsius:  23.0\n",
      "Temperature in Celsius:  26.1111111111\n"
     ]
    }
   ],
   "source": [
    "class ConvertTemp:\n",
    "    \n",
    "    def __init__(self, temp):\n",
    "        self.temp = temp\n",
    "        \n",
    "    def celsius_to_kelvins(self):\n",
    "        return self.temp + 273.15\n",
    "\n",
    "    def celsius_to_farenheit(self):\n",
    "        return (self.temp * 9. / 5.) + 32.\n",
    "    \n",
    "    def kelvin_to_celsius(self):\n",
    "        return self.temp - 273.15\n",
    "    \n",
    "    def kelvin_to_farenheit(self):\n",
    "        return (self.kelvin_to_celsius() * 9. / 5.) + 32.\n",
    "    \n",
    "    def farenheit_to_celsius(self):\n",
    "        return (self.temp - 32) * 5. / 9.\n",
    "    \n",
    "    def farenheit_to_kelvin(self):\n",
    "        return (self.temp - 32) * 5. / 9. + 273.15 \n",
    "    \n",
    "t = ConvertTemp(23.5)\n",
    "print 'Temperatura em Kelvins: ', t.celsius_to_kelvins()\n",
    "\n",
    "t = ConvertTemp(296.15)\n",
    "print 'Temperatura em Celsius: ', t.kelvin_to_celsius()\n",
    "\n",
    "t = ConvertTemp(79.)\n",
    "print 'Temperature in Celsius: ', t.farenheit_to_celsius()"
   ]
  },
  {
   "cell_type": "markdown",
   "metadata": {},
   "source": [
    "## Exercício 4\n",
    "\n",
    "a) Refaça o Exercício 1 definindo `a` como um objeto numpy.array e selecionando os valores pares com o que você aprendeu.\n",
    "\n",
    "b) Utilize a técnica de mínimos quadrados, em forma matricial, para verficar os parâmetros `a` e `b` de uma regressão linear. Compare os valores obtidos com esse método com os valores reais.\n",
    "\n",
    "Considerações:\n",
    "- Considere que:\n",
    "$X = \n",
    "\\begin{bmatrix}\n",
    "1 & 1 \\\\\n",
    "1 & 2 \\\\\n",
    "1 & 3 \\\\\n",
    "\\vdots & \\vdots \\\\\n",
    "1 & n \\\\\n",
    "\\end{bmatrix}$\n",
    "Com $n$ indo de 1 a 100\n",
    "\n",
    "- Considere que $y = X \\beta + \\mu$, onde $\\beta = \\begin{bmatrix} a \\\\ b \\end{bmatrix} = \\begin{bmatrix} 3 \\\\ 0.5 \\end{bmatrix}$ e $\\mu \\sim N(0,1)$ é um ruído com distribuição normal de média zero e desvio padrão igual a 1\n",
    "\n",
    "- Utilize a seguinte equação para estimar os parâmetros: $\\hat{\\beta} = (X^{T}X)^{-1}X^{T}y$\n",
    "\n",
    "Dicas:\n",
    "- Utilize o que você aprendeu sobre concatenação, criação de arrays e multiplicadores com numpy. Você pode achar útil usar as funções `np.linalg.multi_dot()` para fazer o produto escala entre mais de uma matriz, `np.linalg.inv()` para calcular a inversa e `np.random.randn()` para gerar uma série de distribuição $N(0,1)$  "
   ]
  },
  {
   "cell_type": "code",
   "execution_count": 9,
   "metadata": {},
   "outputs": [
    {
     "name": "stdout",
     "output_type": "stream",
     "text": [
      "[  4  16  36  64 100]\n"
     ]
    }
   ],
   "source": [
    "a = np.array([1, 4, 9, 16, 25, 36, 49, 64, 81, 100])\n",
    "b = a[a % 2 == 0]\n",
    "\n",
    "print b"
   ]
  },
  {
   "cell_type": "code",
   "execution_count": 10,
   "metadata": {},
   "outputs": [
    {
     "name": "stdout",
     "output_type": "stream",
     "text": [
      "[ 2.79771716  0.50412777]\n"
     ]
    }
   ],
   "source": [
    "n = 100\n",
    "\n",
    "beta = np.array([3, 0.5])\n",
    "X = np.stack([np.ones(n), np.arange(n)], axis=1)\n",
    "y = np.dot(X, beta) + np.random.randn(n)\n",
    "\n",
    "print np.linalg.multi_dot([np.linalg.inv(np.dot(X.T, X)), X.T, y])"
   ]
  },
  {
   "cell_type": "markdown",
   "metadata": {},
   "source": [
    "## Exercício 5\n",
    "\n",
    "Use a reta $y = X \\beta + \\mu$ do exercício 4 e plot ela em função de x em cruzes pretas (marker=`+`) junto com a linha de melhor ajuste estimada com os mínimos quadrados na cor vermelha. Adicione um título e o nome dos eixos."
   ]
  },
  {
   "cell_type": "code",
   "execution_count": 27,
   "metadata": {},
   "outputs": [
    {
     "data": {
      "text/plain": [
       "<matplotlib.text.Text at 0x7f53e296b410>"
      ]
     },
     "execution_count": 27,
     "metadata": {},
     "output_type": "execute_result"
    },
    {
     "data": {
      "image/png": "[encoded data removed]",
      "text/plain": [
       "<matplotlib.figure.Figure at 0x7f53e2cdb950>"
      ]
     },
     "metadata": {},
     "output_type": "display_data"
    }
   ],
   "source": [
    "n = 100\n",
    "\n",
    "# Exercício 4\n",
    "beta = np.array([3, 0.5])\n",
    "X = np.stack([np.ones(n), np.arange(n)], axis=1)\n",
    "y = np.dot(X, beta) + np.random.randn(n)\n",
    "\n",
    "beta_hat = np.linalg.multi_dot([np.linalg.inv(np.dot(X.T, X)), X.T, y])\n",
    "\n",
    "# Exercício 5\n",
    "fig, ax = plt.subplots(figsize=(5,5))\n",
    "\n",
    "ax.scatter(np.arange(n), y, color='k', marker='+')\n",
    "ax.plot(np.arange(n), np.dot(X, beta_hat), color='red')\n",
    "ax.set_title(u'Mínimos quadrados')\n",
    "ax.set_ylabel('Previsto')\n",
    "ax.set_xlabel('Observado')"
   ]
  }
 ],
 "metadata": {
  "kernelspec": {
   "display_name": "Python 2",
   "language": "python",
   "name": "python2"
  },
  "language_info": {
   "codemirror_mode": {
    "name": "ipython",
    "version": 2
   },
   "file_extension": ".py",
   "mimetype": "text/x-python",
   "name": "python",
   "nbconvert_exporter": "python",
   "pygments_lexer": "ipython2",
   "version": "2.7.13"
  }
 },
 "nbformat": 4,
 "nbformat_minor": 2
}
