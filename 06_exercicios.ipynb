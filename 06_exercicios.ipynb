{
 "cells": [
  {
   "cell_type": "code",
   "execution_count": 1,
   "metadata": {
    "collapsed": true
   },
   "outputs": [],
   "source": [
    "import numpy as np\n",
    "import pandas as pd\n",
    "\n",
    "import matplotlib.pyplot as plt\n",
    "from scipy import stats\n",
    "% matplotlib  inline"
   ]
  },
  {
   "cell_type": "markdown",
   "metadata": {},
   "source": [
    "## Exercício 1\n",
    "\n",
    "Dada uma lista `a = [1, 4, 9, 16, 25, 36, 49, 64, 81, 100]` use o que você aprendeu até agora (lista e loop) para criar uma lista apenas com os elementos pares (Dica, para criar uma lista vazia basta defini-la como `x = []`)"
   ]
  },
  {
   "cell_type": "code",
   "execution_count": 2,
   "metadata": {},
   "outputs": [
    {
     "name": "stdout",
     "output_type": "stream",
     "text": [
      "[4, 16, 36, 64, 100]\n"
     ]
    }
   ],
   "source": [
    "a = [1, 4, 9, 16, 25, 36, 49, 64, 81, 100]\n",
    "b = []\n",
    "\n",
    "for x in a:\n",
    "     if x % 2 == 0:\n",
    "        b.append(x)\n",
    "\n",
    "print b"
   ]
  },
  {
   "cell_type": "markdown",
   "metadata": {},
   "source": [
    "Também pode ser feito de uma forma mais \"pythonesca\""
   ]
  },
  {
   "cell_type": "code",
   "execution_count": 3,
   "metadata": {},
   "outputs": [
    {
     "name": "stdout",
     "output_type": "stream",
     "text": [
      "[4, 16, 36, 64, 100]\n"
     ]
    }
   ],
   "source": [
    "a = [1, 4, 9, 16, 25, 36, 49, 64, 81, 100]\n",
    "b = [x for x in a if x % 2 == 0]\n",
    "\n",
    "print b"
   ]
  },
  {
   "cell_type": "markdown",
   "metadata": {},
   "source": [
    "## Exercício 2\n",
    "\n",
    "Dados três valores escreva uma função `max_of_three` que retorna o maior valor dos três."
   ]
  },
  {
   "cell_type": "code",
   "execution_count": null,
   "metadata": {
    "collapsed": true
   },
   "outputs": [],
   "source": [
    "def max_of_three(a, b, c):\n",
    "    max_val = 0\n",
    "    if a > b:\n",
    "        if a > c:\n",
    "            max_val = a\n",
    "        else:\n",
    "            max_val = c\n",
    "    else:\n",
    "        if b > c:\n",
    "            max_val = b\n",
    "        else:\n",
    "            max_val = c\n",
    "\n",
    "    return max_val\n",
    "\n",
    "print max_of_three(3, 4, 1)"
   ]
  },
  {
   "cell_type": "markdown",
   "metadata": {},
   "source": [
    "Outra solução:"
   ]
  },
  {
   "cell_type": "code",
   "execution_count": null,
   "metadata": {
    "collapsed": true
   },
   "outputs": [],
   "source": [
    "def max_of_three(a, b, c):\n",
    "    if (a > b) and (a > c):\n",
    "        max_val = a\n",
    "    elif (b > a) and (b > c):\n",
    "        max_val = b\n",
    "    elif (c > a) and (c > b):\n",
    "        max_val = c\n",
    "    \n",
    "    return max_val\n",
    "\n",
    "print max_of_three(3, 4, 1)"
   ]
  },
  {
   "cell_type": "markdown",
   "metadata": {},
   "source": [
    "Ou mais simples ainda ..."
   ]
  },
  {
   "cell_type": "code",
   "execution_count": null,
   "metadata": {
    "collapsed": true
   },
   "outputs": [],
   "source": [
    "max(3, 4, 1)"
   ]
  },
  {
   "cell_type": "markdown",
   "metadata": {},
   "source": [
    "## Exercício 3\n",
    "\n",
    "Faça uma classe `ConvertTemp` que dado um valor de temperatura ele pode ser convertido entre os três sistema de medidas (Farenheit, Kelvins e Celsius).\n",
    "\n",
    "Lembre-se que:\n",
    "\n",
    "$T_{C} = (T_{F} - 32.) \\times 5/9$\n",
    "\n",
    "$T_{F} = (T_{C} \\times 5/9) + 32$\n",
    "\n",
    "$T_{C} = T_{K} - 273.15$"
   ]
  },
  {
   "cell_type": "code",
   "execution_count": null,
   "metadata": {
    "collapsed": true
   },
   "outputs": [],
   "source": [
    "class ConvertTemp:\n",
    "    \n",
    "    def __init__(self, temp):\n",
    "        self.temp = temp\n",
    "        \n",
    "    def celsius_to_kelvins(self):\n",
    "        return self.temp + 273.15\n",
    "\n",
    "    def celsius_to_farenheit(self):\n",
    "        return (self.temp * 9. / 5.) + 32.\n",
    "    \n",
    "    def kelvin_to_celsius(self):\n",
    "        return self.temp - 273.15\n",
    "    \n",
    "    def kelvin_to_farenheit(self):\n",
    "        return (self.kelvin_to_celsius() * 9. / 5.) + 32.\n",
    "    \n",
    "    def farenheit_to_celsius(self):\n",
    "        return (self.temp - 32) * 5. / 9.\n",
    "    \n",
    "    def farenheit_to_kelvin(self):\n",
    "        return (self.temp - 32) * 5. / 9. + 273.15 \n",
    "    \n",
    "t = ConvertTemp(23.5)\n",
    "print 'Temperatura em Kelvins: ', t.celsius_to_kelvins()\n",
    "\n",
    "t = ConvertTemp(296.15)\n",
    "print 'Temperatura em Celsius: ', t.kelvin_to_celsius()\n",
    "\n",
    "t = ConvertTemp(79.)\n",
    "print 'Temperature in Celsius: ', t.farenheit_to_celsius()"
   ]
  },
  {
   "cell_type": "markdown",
   "metadata": {},
   "source": [
    "## Exercício 4\n",
    "\n",
    "a) Refaça o Exercício 1 definindo `a` como um objeto numpy.array e selecionando os valores pares com o que você aprendeu.\n",
    "\n",
    "b) Utilize a técnica de mínimos quadrados, em forma matricial, para verficar os parâmetros `a` e `b` de uma regressão linear. Compare os valores obtidos com esse método com os valores reais.\n",
    "\n",
    "Considerações:\n",
    "- Considere que:\n",
    "$X = \n",
    "\\begin{bmatrix}\n",
    "1 & 1 \\\\\n",
    "1 & 2 \\\\\n",
    "1 & 3 \\\\\n",
    "\\vdots & \\vdots \\\\\n",
    "1 & n \\\\\n",
    "\\end{bmatrix}$\n",
    "Com $n$ indo de 1 a 100\n",
    "\n",
    "- Considere que $y = X \\beta + \\mu$, onde $\\beta = \\begin{bmatrix} a \\\\ b \\end{bmatrix} = \\begin{bmatrix} 3 \\\\ 0.5 \\end{bmatrix}$ e $\\mu \\sim N(0,1)$ é um ruído com distribuição normal de média zero e desvio padrão igual a 1\n",
    "\n",
    "- Utilize a seguinte equação para estimar os parâmetros: $\\hat{\\beta} = (X^{T}X)^{-1}X^{T}y$\n",
    "\n",
    "Dicas:\n",
    "- Utilize o que você aprendeu sobre concatenação, criação de arrays e multiplicadores com numpy. Você pode achar útil usar as funções `np.linalg.multi_dot()` para fazer o produto escala entre mais de uma matriz, `np.linalg.inv()` para calcular a inversa e `np.random.randn()` para gerar uma série de distribuição $N(0,1)$  "
   ]
  },
  {
   "cell_type": "code",
   "execution_count": null,
   "metadata": {
    "collapsed": true
   },
   "outputs": [],
   "source": [
    "a = np.array([1, 4, 9, 16, 25, 36, 49, 64, 81, 100])\n",
    "b = a[a % 2 == 0]\n",
    "\n",
    "print b"
   ]
  },
  {
   "cell_type": "code",
   "execution_count": null,
   "metadata": {
    "collapsed": true
   },
   "outputs": [],
   "source": [
    "n = 100\n",
    "\n",
    "beta = np.array([3, 0.5])\n",
    "X = np.stack([np.ones(n), np.arange(n)], axis=1)\n",
    "y = np.dot(X, beta) + np.random.randn(n)\n",
    "\n",
    "print np.linalg.multi_dot([np.linalg.inv(np.dot(X.T, X)), X.T, y])"
   ]
  },
  {
   "cell_type": "markdown",
   "metadata": {},
   "source": [
    "## Exercício 5\n",
    "\n",
    "Use a reta $y = X \\beta + \\mu$ do exercício 4 e plot ela em função de x em cruzes pretas (marker=`+`) junto com a linha de melhor ajuste estimada com os mínimos quadrados na cor vermelha. Adicione um título e o nome dos eixos."
   ]
  },
  {
   "cell_type": "code",
   "execution_count": null,
   "metadata": {
    "collapsed": true
   },
   "outputs": [],
   "source": [
    "n = 100\n",
    "\n",
    "# Exercício 4\n",
    "beta = np.array([3, 0.5])\n",
    "X = np.stack([np.ones(n), np.arange(n)], axis=1)\n",
    "y = np.dot(X, beta) + np.random.randn(n)\n",
    "\n",
    "beta_hat = np.linalg.multi_dot([np.linalg.inv(np.dot(X.T, X)), X.T, y])\n",
    "\n",
    "# Exercício 5\n",
    "fig, ax = plt.subplots(figsize=(5,5))\n",
    "\n",
    "ax.scatter(np.arange(n), y, color='k', marker='+')\n",
    "ax.plot(np.arange(n), np.dot(X, beta_hat), color='red')\n",
    "ax.set_title(u'Mínimos quadrados')\n",
    "ax.set_ylabel('Previsto')\n",
    "ax.set_xlabel('Observado')"
   ]
  },
  {
   "cell_type": "markdown",
   "metadata": {},
   "source": [
    "## Exercício 6\n",
    "\n",
    "Dada duas séries de dados $a \\sim N(2,2)$ e $b \\sim N(0,1)$ com 100 elementos cada, faça uma figura que contenha dois subplots contendo: 1. A série de dados, 2. O histograma normalizado com o ajuste das PDF (Não se esqueça de nomear os eixos e de da adicionar uma legenda)."
   ]
  },
  {
   "cell_type": "code",
   "execution_count": null,
   "metadata": {
    "collapsed": true
   },
   "outputs": [],
   "source": [
    "a = np.random.normal(loc=2, scale=2, size=100)\n",
    "b = np.random.normal(loc=0, scale=1, size=100)\n",
    "\n",
    "x = np.arange(100)\n",
    "\n",
    "fig, [ax1, ax2] = plt.subplots(1, 2, figsize=(12,5))\n",
    "\n",
    "ax1.plot(x, a, label='a')\n",
    "ax1.plot(x, b, label='b')\n",
    "\n",
    "xa = np.linspace(stats.norm.ppf(0.01, loc=2, scale=2), stats.norm.ppf(0.99, loc=2, scale=2), 100)\n",
    "xb = np.linspace(stats.norm.ppf(0.01, loc=0, scale=1), stats.norm.ppf(0.99, loc=0, scale=1), 100)\n",
    "\n",
    "ax2.hist(a, alpha=0.5, normed=True)\n",
    "ax2.plot(xa, stats.norm.pdf(xa, loc=2, scale=2), color='C0', linewidth=5)\n",
    "ax2.hist(b, alpha=0.5, normed=True)\n",
    "ax2.plot(xb, stats.norm.pdf(xb), color='C1', linewidth=5)\n",
    "\n",
    "ax1.set_xlabel('Tempo')\n",
    "ax1.set_ylabel('Anomalia')\n",
    "\n",
    "ax2.set_xlabel('Anomalia')\n",
    "ax2.set_ylabel(u'Frequência relativa')\n",
    "\n",
    "ax1.legend()\n",
    "plt.tight_layout()"
   ]
  },
  {
   "cell_type": "markdown",
   "metadata": {},
   "source": [
    "## Exercício 7\n",
    "\n",
    "Dada a série de dados em `data/inmconv_83781.csv` calculate a anomalia de precipitação mensal com base no período de 1961 a 1990 e identifique quais são os três anos com Dezembro mais secos da série histórica (menor anomalia). Faça uma figura com a anomalia não se esquecendo de nomear os eixos da figura e dar nome (label) à série."
   ]
  },
  {
   "cell_type": "code",
   "execution_count": null,
   "metadata": {
    "collapsed": true
   },
   "outputs": [],
   "source": [
    "df = pd.read_csv('data/inmconv_83781.csv', index_col=0, parse_dates=True)\n",
    "\n",
    "prec = df['Precipitacao'].resample('M').sum()\n",
    "prec = prec['1961':'2009']\n",
    "prec_clim = prec['1961':'1990']\n",
    "prec_clim = prec_clim.groupby(prec_clim.index.month).mean()\n",
    "\n",
    "# jeito bruto\n",
    "# anom = pd.DataFrame({'anomaly': np.nan}, index=prec.index)\n",
    "\n",
    "# for i in range(1,13):\n",
    "#     anom.loc[anom.index.month == i, 'anomaly'] = prec.loc[prec.index.month == i] \\\n",
    "#                                                - prec_clim.loc[prec_clim.index == i].values\n",
    "\n",
    "# jeito mais simples\n",
    "anom = prec.groupby(prec.index.month).apply(lambda x: x - x['1961':'1990'].mean())\n",
    "\n",
    "fig, ax = plt.subplots(figsize=(12,5))\n",
    "\n",
    "anom.plot(ax=ax, label='Anomalia de Precipitacao')\n",
    "ax.set_xlabel('Data')\n",
    "ax.set_ylabel(u'Anomalia (mm/mês)')\n",
    "ax.legend()"
   ]
  },
  {
   "cell_type": "code",
   "execution_count": null,
   "metadata": {
    "collapsed": true
   },
   "outputs": [],
   "source": [
    "anom.loc[anom.index.month == 12].sort_values()"
   ]
  },
  {
   "cell_type": "code",
   "execution_count": null,
   "metadata": {
    "collapsed": true
   },
   "outputs": [],
   "source": []
  }
 ],
 "metadata": {
  "kernelspec": {
   "display_name": "Python 2",
   "language": "python",
   "name": "python2"
  },
  "language_info": {
   "codemirror_mode": {
    "name": "ipython",
    "version": 2
   },
   "file_extension": ".py",
   "mimetype": "text/x-python",
   "name": "python",
   "nbconvert_exporter": "python",
   "pygments_lexer": "ipython2",
   "version": "2.7.14"
  }
 },
 "nbformat": 4,
 "nbformat_minor": 2
}
