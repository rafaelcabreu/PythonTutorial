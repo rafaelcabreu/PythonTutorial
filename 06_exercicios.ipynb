{
 "cells": [
  {
   "cell_type": "code",
   "execution_count": null,
   "metadata": {
    "collapsed": true
   },
   "outputs": [],
   "source": []
  },
  {
   "cell_type": "markdown",
   "metadata": {},
   "source": [
    "### Exercício # 1\n",
    "\n",
    "Dada uma lista `a = [1, 4, 9, 16, 25, 36, 49, 64, 81, 100]` use o que você aprendeu até agora (lista e loop) para criar uma lista apenas com os elementos pares (Dica, para criar uma lista vazia basta defini-la como `x = []`)"
   ]
  },
  {
   "cell_type": "code",
   "execution_count": 2,
   "metadata": {},
   "outputs": [
    {
     "name": "stdout",
     "output_type": "stream",
     "text": [
      "[4, 16, 36, 64, 100]\n"
     ]
    }
   ],
   "source": [
    "a = [1, 4, 9, 16, 25, 36, 49, 64, 81, 100]\n",
    "b = []\n",
    "\n",
    "for x in a:\n",
    "     if x % 2 == 0:\n",
    "        b.append(x)\n",
    "\n",
    "print b"
   ]
  },
  {
   "cell_type": "markdown",
   "metadata": {},
   "source": [
    "Também pode ser feito de uma forma mais \"pythonesca\""
   ]
  },
  {
   "cell_type": "code",
   "execution_count": 3,
   "metadata": {},
   "outputs": [
    {
     "name": "stdout",
     "output_type": "stream",
     "text": [
      "[4, 16, 36, 64, 100]\n"
     ]
    }
   ],
   "source": [
    "a = [1, 4, 9, 16, 25, 36, 49, 64, 81, 100]\n",
    "b = [x for x in a if x % 2 == 0]\n",
    "\n",
    "print b"
   ]
  },
  {
   "cell_type": "markdown",
   "metadata": {},
   "source": [
    "## Exercício 2\n",
    "\n",
    "Dados três valores escreva uma função `max_of_three` que retorna o maior valor dos três."
   ]
  },
  {
   "cell_type": "code",
   "execution_count": 14,
   "metadata": {},
   "outputs": [
    {
     "name": "stdout",
     "output_type": "stream",
     "text": [
      "4\n"
     ]
    }
   ],
   "source": [
    "def max_of_three(a, b, c):\n",
    "    max_val = 0\n",
    "    if a > b:\n",
    "        if a > c:\n",
    "            max_val = a\n",
    "        else:\n",
    "            max_val = c\n",
    "    else:\n",
    "        if b > c:\n",
    "            max_val = b\n",
    "        else:\n",
    "            max_val = c\n",
    "\n",
    "    return max_val\n",
    "\n",
    "print max_of_three(3, 4, 1)"
   ]
  },
  {
   "cell_type": "markdown",
   "metadata": {},
   "source": [
    "Outra solução:"
   ]
  },
  {
   "cell_type": "code",
   "execution_count": 17,
   "metadata": {},
   "outputs": [
    {
     "name": "stdout",
     "output_type": "stream",
     "text": [
      "4\n"
     ]
    }
   ],
   "source": [
    "def max_of_three(a, b, c):\n",
    "    if (a > b) and (a > c):\n",
    "        max_val = a\n",
    "    elif (b > a) and (b > c):\n",
    "        max_val = b\n",
    "    elif (c > a) and (c > b):\n",
    "        max_val = c\n",
    "    \n",
    "    return max_val\n",
    "\n",
    "print max_of_three(3, 4, 1)"
   ]
  },
  {
   "cell_type": "markdown",
   "metadata": {},
   "source": [
    "Ou mais simples ainda ..."
   ]
  },
  {
   "cell_type": "code",
   "execution_count": 18,
   "metadata": {},
   "outputs": [
    {
     "data": {
      "text/plain": [
       "4"
      ]
     },
     "execution_count": 18,
     "metadata": {},
     "output_type": "execute_result"
    }
   ],
   "source": [
    "max(3, 4, 1)"
   ]
  }
 ],
 "metadata": {
  "kernelspec": {
   "display_name": "Python 2",
   "language": "python",
   "name": "python2"
  },
  "language_info": {
   "codemirror_mode": {
    "name": "ipython",
    "version": 2
   },
   "file_extension": ".py",
   "mimetype": "text/x-python",
   "name": "python",
   "nbconvert_exporter": "python",
   "pygments_lexer": "ipython2",
   "version": "2.7.13"
  }
 },
 "nbformat": 4,
 "nbformat_minor": 2
}
