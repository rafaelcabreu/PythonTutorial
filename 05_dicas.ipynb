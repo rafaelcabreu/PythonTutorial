{
 "cells": [
  {
   "cell_type": "markdown",
   "metadata": {},
   "source": [
    "# Dicas\n",
    "\n",
    "Esse notebook tem a intenção de ensinar algumas dicas básicas que podem ser úteis no dia a dia de quem usa python para manipular os dados meteorológicos. Aqui vamos falar um pouco de:\n",
    "- Organização de scripts\n",
    "- Instalação de pacotes\n",
    "- Ferramentas para a edição de código\n",
    "- Outros pacotes que possam ser úteis para aplicações específicas"
   ]
  },
  {
   "cell_type": "markdown",
   "metadata": {},
   "source": [
    "## Organização de scripts"
   ]
  },
  {
   "cell_type": "markdown",
   "metadata": {},
   "source": [
    "```python\n",
    "import numpy as np\n",
    "import pandas as pd\n",
    "\n",
    "from glob import glob\n",
    "\n",
    "from model.lib.model import AttributionModel\n",
    "\n",
    "def speco(C):\n",
    "    \"\"\"\n",
    "    This function computes eigenvalues and eigenvectors, in descending order\n",
    "    :param C: numpy.ndarray\n",
    "        A p x p symetric real matrix\n",
    "    :return:\n",
    "    P: numpy.ndarray\n",
    "        The eigenvectors (P[:, i] is the ist eigenvector)\n",
    "    D: numpy.ndarray\n",
    "        The eigenvalues as a diagonal matrix\n",
    "    \"\"\"\n",
    "\n",
    "    # Compute eigenvalues and eigenvectors (the eigenvectors are non unique so\n",
    "    # the values may change from one software to another e.g. python, matlab,\n",
    "    # scilab)\n",
    "    D0, P0 = np.linalg.eig(C)\n",
    "\n",
    "    # Take real part (to avoid numeric noise, eg small complex numbers)\n",
    "    if np.max(np.imag(D0)) / np.max(np.real(D0)) > 1e-12:\n",
    "        raise ValueError(\"Matrix is not symmetric\")   \n",
    "\n",
    "    # Check that C is symetric (<=> real eigen-values/-vectors)\n",
    "    P1 = np.real(P0)\n",
    "    D1 = np.real(D0)\n",
    "\n",
    "    # sort eigenvalues in descending order and\n",
    "    # get their indices to order the eigenvector\n",
    "    Do = np.sort(D1)[::-1]\n",
    "    o = np.argsort(D1)[::-1]\n",
    "\n",
    "    P = P1[:, o]\n",
    "    D = np.diag(Do)\n",
    "\n",
    "    return P, D\n",
    "\n",
    "\n",
    "# <adicionar código depois de definir as funções>\n",
    "\n",
    "\n",
    "```"
   ]
  },
  {
   "cell_type": "markdown",
   "metadata": {},
   "source": [
    "<div class=\"alert alert-block alert-info\">\n",
    "<b>Importante</b>\n",
    "\n",
    "<li> Importar primeiro funções básicas em seguida \"subfunções\" e por fim as funções definidas pelo usuário. Cada bloco deve ser separado por um espaço e deve respeitar a ordem alfabética.\n",
    "<li> Documentação! Sempre que escrever uma função escreva que tipos de argumento ela recebe, de que tipo elas são e o que é retornado pela função.\n",
    "<li> Não se esqueça de comentar o código. Isso será útil para você no futuro e para alguma pessoa que possa vir a uar o seu código. Um ponto importante é que comentários não devem ser óbvios!\n",
    "<li> Tente escrever os comentários e documentação em inglês. Isso torna o código universal. Escreva apenas em português se você tem certeza que mais ninguém que não seja do seu país vai usar\n",
    "<br>\n",
    "<br>\n",
    "Muitas informações a mais sobre como deixar seu código padronizado são descritas em: https://pep8.org/\n",
    "</div>"
   ]
  },
  {
   "cell_type": "markdown",
   "metadata": {},
   "source": [
    "## Instalação de pacotes"
   ]
  },
  {
   "cell_type": "markdown",
   "metadata": {},
   "source": [
    "A ferramenta anaconda é útil para a instalação de pacotes já que possui várias bibliotecas pré compiladas que podem ser instaladas apenas com o comando `conda install`. https://www.anaconda.com/\n",
    "\n",
    "Com o anaconda instalado você pode instalar pacotes com o comando:\n",
    "\n",
    "`conda install cartopy`\n",
    "\n",
    "Caso você queira especificar um canal para instalar os pacotes:\n",
    "\n",
    "`conda install -c conda-forge cartopy`\n",
    "\n",
    "Caso o pacote que você tentou instalar não seja encontrado você pode procurar algum canal que possua:\n",
    "\n",
    "```\n",
    "anaconda search -t conda metpy\n",
    "\n",
    "Using Anaconda API: https://api.anaconda.org\n",
    "Run 'anaconda show <USER/PACKAGE>' to get more details:\n",
    "Packages:\n",
    "     Name                      |  Version | Package Types   | Platforms      \n",
    "     ------------------------- |   ------ | --------------- | ---------------\n",
    "     Unidata/MetPy             |    0.8.0 | conda           | linux-64, win-32, win-64, linux-32, osx-64\n",
    "                                          : MetPy is a collection of tools in Python for reading, visualizing and performing calculations with weather data.\n",
    "     conda-forge/metpy         |   0.10.0 | conda           | linux-64, win-32, win-64, osx-64\n",
    "                                          : MetPy is a collection of tools in Python for reading, visualizing and performing calculations with weather data.\n",
    "     scw/metpy                 |   0.10.0 | conda           | win-64         \n",
    "                                          : A collection of tools for reading, visualizing and analyzing weather data.\n",
    "Found 3 packages\n",
    "\n",
    "```\n",
    "\n",
    "E então instalar selecionando o canal que você quer:\n",
    "\n",
    "`conda install -c conda-forge metpy`\n",
    "\n",
    "Para remover um pacote:\n",
    "\n",
    "`conda remove metpy`"
   ]
  },
  {
   "cell_type": "markdown",
   "metadata": {},
   "source": [
    "A criação de ambientes de desenvolvimento também é interessante:\n",
    "\n",
    "`conda create --name myenv python=2.7`\n",
    "\n",
    "Para criar um ambiente vazio (sem nenhum pacote) ou para criar um ambiente com todos os pacotes do anaconda:\n",
    "\n",
    "`conda create --name myenv anaconda python=2.7`\n",
    "\n",
    "Para ativar um ambiente:\n",
    "\n",
    "`source activate myenv`\n",
    "\n",
    "Para desativar:\n",
    "\n",
    "`source deactivate myenv`"
   ]
  },
  {
   "cell_type": "markdown",
   "metadata": {},
   "source": [
    "<div class=\"alert alert-block alert-info\">\n",
    "<b>Importante</b>\n",
    "<br>\n",
    "A criação de ambientes é interessante para organizar projetos que dependam de um conjunto de bibliotecas diferentes. Outra utilidade é instalar pacotes que possam ser incompatíveis com outros de um determinado ambiente, evitando que esse ambiente seja modificado (pacotes atualizados ou desatualizados).\n",
    "</div>"
   ]
  },
  {
   "cell_type": "markdown",
   "metadata": {},
   "source": [
    "## Ferramentas para edição de código\n",
    "\n",
    "- PyCharm https://www.jetbrains.com/pycharm/\n",
    "- Spyder https://www.spyder-ide.org/\n",
    "- Sublime https://www.sublimetext.com/\n",
    "- Jupyter Notebook"
   ]
  },
  {
   "cell_type": "markdown",
   "metadata": {},
   "source": [
    "## Outros pacotes\n",
    "\n",
    "- Keras (machine learning) https://keras.io/\n",
    "- Scikit-Learn (machine learning) https://scikit-learn.org/\n",
    "- Statsmodel (estatística e análise de séries temporais) https://www.statsmodels.org/stable/index.html\n",
    "- Seaborn (visualização) https://seaborn.pydata.org/\n",
    "- F2PY (híbrido Fortran/Python) https://docs.scipy.org/doc/numpy/f2py/"
   ]
  }
 ],
 "metadata": {
  "kernelspec": {
   "display_name": "Python 2",
   "language": "python",
   "name": "python2"
  },
  "language_info": {
   "codemirror_mode": {
    "name": "ipython",
    "version": 2
   },
   "file_extension": ".py",
   "mimetype": "text/x-python",
   "name": "python",
   "nbconvert_exporter": "python",
   "pygments_lexer": "ipython2",
   "version": "2.7.15"
  }
 },
 "nbformat": 4,
 "nbformat_minor": 2
}
