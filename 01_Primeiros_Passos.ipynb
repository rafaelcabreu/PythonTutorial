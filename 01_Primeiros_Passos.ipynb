{
 "cells": [
  {
   "cell_type": "markdown",
   "metadata": {},
   "source": [
    "![logo](https://www.python.org/static/community_logos/python-logo-master-v3-TM-flattened.png)\n",
    "\n",
    "\n",
    "# O que é?\n",
    "\n",
    "\"Python é uma linguagem de programação **interpretada, orientada a objetos** de alto nível. Sua construção em alto nível de estrutura de dados, combinado com tipografia dinâmica faz com que seja extremamente atraente para **desenvolvimento rápido de aplicações**, assim como para usar como linguagem para scripts ou para **conectar aplicações já existente**. Python é **simples, fácil de aprender com uma sintaxe que focada na legibilidade** e portanto **reduz o custo de manutenção do programa**. Python suporta módulos e pacotes que **encorajam a modularidade dos programas e reusabilidade**. O interpretador do Python e as bibliotecas padrões estão disponíveis **sem custo nenhum** em todas as principais plataformas.\n",
    "\n",
    "Geralmente programadores se apaixonam pelo Python pela aumento da produtividade que ele propícia. Já que não é um passo de compilação o **ciclo de edição-teste-debug se torna incrivelmente rápido**. **Debugar programas em Python é fácil**: um bug ou input ruim não causa segmenttation fault. Ao invés disso, quando o interpretador descobre um erro ele levanta uma exceção. Quando o programa não captura a exceção, o interpretador imprime a origem do erro (...). On the other hand, often the quickest way to debug a program is to add a few print statements to the source: the fast edit-test-debug cycle makes this simple approach very effective.\" \n",
    "(https://www.python.org/doc/essays/blurb/)"
   ]
  },
  {
   "cell_type": "markdown",
   "metadata": {},
   "source": [
    "# Aplicações\n",
    "\n",
    "### Desenvolvimento Web\n",
    "\n",
    "### Científico e numérico\n",
    "\n",
    "1. Numpy para matrizes\n",
    "2. Pandas para séries temporais\n",
    "3. Scipy possui funções estatísticas, interpolações entre outros\n",
    "4. Matplotlib para fazer gráficos unidimensionais entre outros\n",
    "5. Scikit-learn para técnicas de _machine learning_\n",
    "\n",
    "### Interfaces gráficas\n",
    "\n",
    "### Desenvolvimento de software"
   ]
  },
  {
   "cell_type": "markdown",
   "metadata": {},
   "source": [
    "# Jupyter Notebook (Básico)"
   ]
  },
  {
   "cell_type": "markdown",
   "metadata": {},
   "source": [
    "- Entrar no modo de edição: `Enter`\n",
    "- Sair do modo edição: `Esc`\n",
    "- Rodar uma célula e ir para a seguinte: `Shift + Enter`\n",
    "- Rodar uma célula e ir continuar na célula: `Ctrl + Enter`\n",
    "- Rodar uma célula e criar uma nova: `Alt + Enter`\n",
    "- Deletar célula: `X`\n",
    "- Mudar para markdown: `M`\n",
    "- Mudar célula para modo código: `Y`\n",
    "\n",
    "Os atalhos na barra de cima também podem ser usados, assim como os guias para mais informações."
   ]
  },
  {
   "cell_type": "markdown",
   "metadata": {},
   "source": [
    "# Comandos básicos"
   ]
  },
  {
   "cell_type": "code",
   "execution_count": 1,
   "metadata": {},
   "outputs": [
    {
     "name": "stdout",
     "output_type": "stream",
     "text": [
      "Hello world!\n"
     ]
    }
   ],
   "source": [
    "print 'Hello world!' # python 3 em diante print('Hello world!')"
   ]
  },
  {
   "cell_type": "markdown",
   "metadata": {},
   "source": [
    "Ele pode ser usado como uma calculadora"
   ]
  },
  {
   "cell_type": "code",
   "execution_count": 2,
   "metadata": {},
   "outputs": [
    {
     "data": {
      "text/plain": [
       "4"
      ]
     },
     "execution_count": 2,
     "metadata": {},
     "output_type": "execute_result"
    }
   ],
   "source": [
    "2 + 2"
   ]
  },
  {
   "cell_type": "code",
   "execution_count": 3,
   "metadata": {},
   "outputs": [
    {
     "data": {
      "text/plain": [
       "6"
      ]
     },
     "execution_count": 3,
     "metadata": {},
     "output_type": "execute_result"
    }
   ],
   "source": [
    "2 * 3"
   ]
  },
  {
   "cell_type": "code",
   "execution_count": 17,
   "metadata": {},
   "outputs": [
    {
     "data": {
      "text/plain": [
       "36"
      ]
     },
     "execution_count": 17,
     "metadata": {},
     "output_type": "execute_result"
    }
   ],
   "source": [
    "6 ** 2"
   ]
  },
  {
   "cell_type": "code",
   "execution_count": 4,
   "metadata": {},
   "outputs": [
    {
     "data": {
      "text/plain": [
       "3"
      ]
     },
     "execution_count": 4,
     "metadata": {},
     "output_type": "execute_result"
    }
   ],
   "source": [
    "6 / 2"
   ]
  },
  {
   "cell_type": "markdown",
   "metadata": {},
   "source": [
    "<div class=\"alert alert-block alert-info\">\n",
    "Caso você tenha duas variáveis inteiras o resultado é um inteiro\n",
    "</div>"
   ]
  },
  {
   "cell_type": "code",
   "execution_count": 5,
   "metadata": {},
   "outputs": [
    {
     "data": {
      "text/plain": [
       "1"
      ]
     },
     "execution_count": 5,
     "metadata": {},
     "output_type": "execute_result"
    }
   ],
   "source": [
    "6 / 5"
   ]
  },
  {
   "cell_type": "markdown",
   "metadata": {
    "collapsed": true
   },
   "source": [
    "basta adicionar o '.' para que o resultado seja na forma decimal"
   ]
  },
  {
   "cell_type": "code",
   "execution_count": 6,
   "metadata": {},
   "outputs": [
    {
     "data": {
      "text/plain": [
       "1.2"
      ]
     },
     "execution_count": 6,
     "metadata": {},
     "output_type": "execute_result"
    }
   ],
   "source": [
    "6. / 5"
   ]
  },
  {
   "cell_type": "markdown",
   "metadata": {
    "collapsed": true
   },
   "source": [
    "## Variáveis\n",
    "\n",
    "Para definir as variáveis, como Python é uma linguagem interpretada, você não precisa definir o tipo dela (float, int, string, etc)"
   ]
  },
  {
   "cell_type": "code",
   "execution_count": 2,
   "metadata": {},
   "outputs": [
    {
     "name": "stdout",
     "output_type": "stream",
     "text": [
      "4 <type 'int'>\n"
     ]
    }
   ],
   "source": [
    "x = 4\n",
    "\n",
    "print x, type(x)"
   ]
  },
  {
   "cell_type": "code",
   "execution_count": 3,
   "metadata": {},
   "outputs": [
    {
     "name": "stdout",
     "output_type": "stream",
     "text": [
      "4.0 <type 'float'>\n"
     ]
    }
   ],
   "source": [
    "x = 4.\n",
    "\n",
    "print x, type(x)"
   ]
  },
  {
   "cell_type": "code",
   "execution_count": 6,
   "metadata": {},
   "outputs": [
    {
     "name": "stdout",
     "output_type": "stream",
     "text": [
      "x <type 'str'>\n"
     ]
    }
   ],
   "source": [
    "x = 'x'\n",
    "\n",
    "print x, type(x)"
   ]
  },
  {
   "cell_type": "markdown",
   "metadata": {},
   "source": [
    "## Loops\n",
    "\n",
    "Existem dois tipos de loops no python, assim como em muitas linguagens de programação, o `while` e `for`. O `for` geralmente é utilizado quando você quer repetir um bloco de código um número fixo de vezes."
   ]
  },
  {
   "cell_type": "code",
   "execution_count": 7,
   "metadata": {},
   "outputs": [
    {
     "name": "stdout",
     "output_type": "stream",
     "text": [
      "i =  0\n",
      "i =  1\n",
      "i =  2\n",
      "i =  3\n",
      "i =  4\n",
      "i =  5\n",
      "i =  6\n",
      "i =  7\n",
      "i =  8\n",
      "i =  9\n"
     ]
    }
   ],
   "source": [
    "for i in range(10):\n",
    "    print 'i = ',i"
   ]
  },
  {
   "cell_type": "markdown",
   "metadata": {},
   "source": [
    "<div class=\"alert alert-block alert-info\">\n",
    "Importante notar que o loop nesse caso é em 10 valores, indo de 0 a 9, e não de 1 a 10\n",
    "</div>"
   ]
  },
  {
   "cell_type": "markdown",
   "metadata": {},
   "source": [
    "Para fazer um loop de 1 a 10, a cada 2, por exemplo, a sintaxe fica a seguinte"
   ]
  },
  {
   "cell_type": "code",
   "execution_count": 8,
   "metadata": {},
   "outputs": [
    {
     "name": "stdout",
     "output_type": "stream",
     "text": [
      "i =  1\n",
      "i =  3\n",
      "i =  5\n",
      "i =  7\n",
      "i =  9\n"
     ]
    }
   ],
   "source": [
    "for i in range(1, 10, 2): # start, stop, step\n",
    "    print 'i = ',i"
   ]
  },
  {
   "cell_type": "markdown",
   "metadata": {},
   "source": [
    "É interessante introduzirmos nesse ponto as listas, que são basicamente vetores"
   ]
  },
  {
   "cell_type": "code",
   "execution_count": 12,
   "metadata": {},
   "outputs": [
    {
     "name": "stdout",
     "output_type": "stream",
     "text": [
      "[5, 9, 12, 5, 2] <type 'list'>\n"
     ]
    }
   ],
   "source": [
    "x = [5, 9, 12, 5, 2]\n",
    "\n",
    "print x, type(x)"
   ]
  },
  {
   "cell_type": "markdown",
   "metadata": {},
   "source": [
    "Os valores de `x` podem ser indexados"
   ]
  },
  {
   "cell_type": "code",
   "execution_count": 17,
   "metadata": {},
   "outputs": [
    {
     "name": "stdout",
     "output_type": "stream",
     "text": [
      "5\n",
      "9\n",
      "2\n",
      "[5, 9]\n"
     ]
    }
   ],
   "source": [
    "print x[0]\n",
    "print x[1]\n",
    "print x[-1]\n",
    "print x[:2]"
   ]
  },
  {
   "cell_type": "markdown",
   "metadata": {},
   "source": [
    "As listas não precisam ser de um tipo definido, logo:"
   ]
  },
  {
   "cell_type": "code",
   "execution_count": 18,
   "metadata": {},
   "outputs": [
    {
     "name": "stdout",
     "output_type": "stream",
     "text": [
      "[1, 'abc', 7.2]\n"
     ]
    }
   ],
   "source": [
    "x = [1, 'abc', 7.2]\n",
    "\n",
    "print x"
   ]
  },
  {
   "cell_type": "markdown",
   "metadata": {},
   "source": [
    "Podemos utilizar o `for` com relação aos elementos de uma lista, por exemplo:"
   ]
  },
  {
   "cell_type": "code",
   "execution_count": 24,
   "metadata": {},
   "outputs": [
    {
     "name": "stdout",
     "output_type": "stream",
     "text": [
      "i = 5\n",
      "i = 9\n",
      "i = 12\n",
      "i = 5\n",
      "i = 2\n"
     ]
    }
   ],
   "source": [
    "x = [5, 9, 12, 5, 2]\n",
    "\n",
    "for i in x:\n",
    "    print('i = %d' % i)"
   ]
  },
  {
   "cell_type": "markdown",
   "metadata": {},
   "source": [
    "Analogamente, podemos utilizar o índice da lista para realizar o `for`"
   ]
  },
  {
   "cell_type": "code",
   "execution_count": 25,
   "metadata": {},
   "outputs": [
    {
     "name": "stdout",
     "output_type": "stream",
     "text": [
      "i = 5\n",
      "i = 9\n",
      "i = 12\n",
      "i = 5\n",
      "i = 2\n",
      "O tamanho de x é:  5\n"
     ]
    }
   ],
   "source": [
    "x = [5, 9, 12, 5, 2]\n",
    "\n",
    "for i in range(len(x)):\n",
    "    print('i = %d' % x[i])\n",
    "    \n",
    "print 'O tamanho de x é: ', len(x)"
   ]
  },
  {
   "cell_type": "markdown",
   "metadata": {},
   "source": [
    "O `while`, diferente do `for`, geralmente é utilizado para reproduzir um bloco de código até que uma determinada condição não seja satisfeita"
   ]
  },
  {
   "cell_type": "code",
   "execution_count": 19,
   "metadata": {},
   "outputs": [
    {
     "name": "stdout",
     "output_type": "stream",
     "text": [
      "i =  1\n",
      "i =  2\n",
      "i =  3\n",
      "i =  4\n",
      "i =  5\n",
      "i =  6\n",
      "i =  7\n",
      "i =  8\n",
      "i =  9\n"
     ]
    }
   ],
   "source": [
    "i = 1\n",
    "\n",
    "while i < 10:\n",
    "    print 'i = ',i\n",
    "    i += 1 # versão curta de i = i + 1"
   ]
  },
  {
   "cell_type": "markdown",
   "metadata": {},
   "source": [
    "## If / Else / Elif\n",
    "\n",
    "É um dos tipos mais comuns de verificação de condições em linguagens de programação. A ideia é verificar se dada condições é satisfeita e assim aplicar um bloco de código"
   ]
  },
  {
   "cell_type": "code",
   "execution_count": 8,
   "metadata": {},
   "outputs": [
    {
     "name": "stdout",
     "output_type": "stream",
     "text": [
      "More\n"
     ]
    }
   ],
   "source": [
    "x = 50\n",
    "\n",
    "if x < 0:\n",
    "    x = 0\n",
    "    print('Negative changed to zero')\n",
    "elif x == 0: # igual a else if\n",
    "    print('Zero')\n",
    "elif x == 1:\n",
    "    print('Single')\n",
    "else:\n",
    "    print('More')"
   ]
  },
  {
   "cell_type": "markdown",
   "metadata": {},
   "source": [
    "Podemos usar em conjunto com loops, como por exemplo:"
   ]
  },
  {
   "cell_type": "code",
   "execution_count": 1,
   "metadata": {},
   "outputs": [
    {
     "name": "stdout",
     "output_type": "stream",
     "text": [
      "Esse valor não é igual a 12\n",
      "Esse valor não é igual a 12\n",
      "Esse valor é igual a 12\n",
      "Esse valor não é igual a 12\n",
      "Esse valor não é igual a 12\n"
     ]
    }
   ],
   "source": [
    "x = [5, 9, 12, 5, 2]\n",
    "\n",
    "for i in x:\n",
    "    if i == 12:\n",
    "        print 'Esse valor é igual a 12'\n",
    "    else:\n",
    "        print 'Esse valor não é igual a 12'"
   ]
  },
  {
   "cell_type": "markdown",
   "metadata": {},
   "source": [
    "## Dicionários\n",
    "\n",
    "Dicionários são coleções com nomes, ou labels, não ordenada, geralmente são escritas usando `{}`"
   ]
  },
  {
   "cell_type": "code",
   "execution_count": 3,
   "metadata": {},
   "outputs": [
    {
     "name": "stdout",
     "output_type": "stream",
     "text": [
      "{'key3': 'foo', 'key2': 9.5, 'key1': [5, 7, 8]}\n"
     ]
    }
   ],
   "source": [
    "my_dict = {\n",
    "    'key1': [5, 7, 8],\n",
    "    'key2': 9.5,\n",
    "    'key3': 'foo',\n",
    "}\n",
    "\n",
    "print my_dict"
   ]
  },
  {
   "cell_type": "markdown",
   "metadata": {},
   "source": [
    "Você também pode selecionar elementos específicos pelas labels"
   ]
  },
  {
   "cell_type": "code",
   "execution_count": 4,
   "metadata": {},
   "outputs": [
    {
     "name": "stdout",
     "output_type": "stream",
     "text": [
      "9.5\n"
     ]
    }
   ],
   "source": [
    "print my_dict['key2']"
   ]
  },
  {
   "cell_type": "markdown",
   "metadata": {},
   "source": [
    "Ou fazer um loop:"
   ]
  },
  {
   "cell_type": "code",
   "execution_count": 6,
   "metadata": {},
   "outputs": [
    {
     "name": "stdout",
     "output_type": "stream",
     "text": [
      "key3 => foo\n",
      "key2 => 9.5\n",
      "key1 => [5, 7, 8]\n"
     ]
    }
   ],
   "source": [
    "for key, val in my_dict.iteritems():\n",
    "    print key, '=>', val"
   ]
  },
  {
   "cell_type": "markdown",
   "metadata": {},
   "source": [
    "<div class=\"alert alert-block alert-info\">\n",
    "Esse objeto será importante no terceiro notebook para entender melhor a biblioteca pandas.\n",
    "</div>"
   ]
  },
  {
   "cell_type": "markdown",
   "metadata": {},
   "source": [
    "## Funções\n",
    "\n",
    "A ideia das funções é criar um bloco de código que recebe parâmetros e será utilizado (possivelmente) mais de uma vez ao longo do código, ou então será utilizado apenas uma vez, mas deixa o código mais legível. As funções não precisam de nenhum parâmetro de entrada. Além disso, não precisam retornar nenhum valor, ou podem retorna múltiplos valores"
   ]
  },
  {
   "cell_type": "code",
   "execution_count": 10,
   "metadata": {
    "collapsed": true
   },
   "outputs": [],
   "source": [
    "def hello_world():\n",
    "    print 'Hello world!'"
   ]
  },
  {
   "cell_type": "code",
   "execution_count": 12,
   "metadata": {},
   "outputs": [
    {
     "name": "stdout",
     "output_type": "stream",
     "text": [
      "Hello world!\n"
     ]
    }
   ],
   "source": [
    "hello_world()"
   ]
  },
  {
   "cell_type": "markdown",
   "metadata": {},
   "source": [
    "Um exemplo que podemos usar é a sequência de fibonacci, dada por:\n",
    "\n",
    "$F_n = F_{n-1} + F_{n-2}$\n",
    "\n",
    "Considerando $F_1 = 1$ e $F_2 = 1$ temos:"
   ]
  },
  {
   "cell_type": "code",
   "execution_count": 13,
   "metadata": {
    "collapsed": true
   },
   "outputs": [],
   "source": [
    "def fib(n):\n",
    "    a,b = 1,1\n",
    "    for i in range(n-1):\n",
    "        c = a+b\n",
    "        a = b\n",
    "        b = c\n",
    "    return a"
   ]
  },
  {
   "cell_type": "code",
   "execution_count": 14,
   "metadata": {},
   "outputs": [
    {
     "data": {
      "text/plain": [
       "55"
      ]
     },
     "execution_count": 14,
     "metadata": {},
     "output_type": "execute_result"
    }
   ],
   "source": [
    "fib(10)"
   ]
  },
  {
   "cell_type": "code",
   "execution_count": 15,
   "metadata": {
    "collapsed": true
   },
   "outputs": [],
   "source": [
    "def fib(n):\n",
    "    a,b = 1,1\n",
    "    series = []\n",
    "    series.append(a)\n",
    "    for i in range(n-1):\n",
    "        c = a+b\n",
    "        a = b\n",
    "        b = c\n",
    "        series.append(a)\n",
    "    return series"
   ]
  },
  {
   "cell_type": "code",
   "execution_count": 17,
   "metadata": {},
   "outputs": [
    {
     "data": {
      "text/plain": [
       "[1, 1, 2, 3, 5, 8, 13, 21, 34, 55]"
      ]
     },
     "execution_count": 17,
     "metadata": {},
     "output_type": "execute_result"
    }
   ],
   "source": [
    "fib(10)"
   ]
  },
  {
   "cell_type": "markdown",
   "metadata": {},
   "source": [
    "Argumentos opcionais também podem ser fornecidos."
   ]
  },
  {
   "cell_type": "code",
   "execution_count": 19,
   "metadata": {
    "collapsed": true
   },
   "outputs": [],
   "source": [
    "def dog(name, breed='vira-lata'):\n",
    "    print 'Meu cachorro se chama: %s da raça: %s' % (name, breed)"
   ]
  },
  {
   "cell_type": "code",
   "execution_count": 20,
   "metadata": {},
   "outputs": [
    {
     "name": "stdout",
     "output_type": "stream",
     "text": [
      "Meu cachorro se chama: Thor da raça: vira-lata\n"
     ]
    }
   ],
   "source": [
    "dog('Thor')"
   ]
  },
  {
   "cell_type": "code",
   "execution_count": 21,
   "metadata": {},
   "outputs": [
    {
     "name": "stdout",
     "output_type": "stream",
     "text": [
      "Meu cachorro se chama: Thor da raça: Pug\n"
     ]
    }
   ],
   "source": [
    "dog('Thor', breed='Pug')"
   ]
  },
  {
   "cell_type": "markdown",
   "metadata": {},
   "source": [
    "## Classes\n",
    "\n",
    "As classes é que ajudam a entender o termo \"linguagem orientada a objeto\". Uma classe, associa dados (atributos) a operações (métodos) em uma única estrutura. Um objeto é uma variável cujo o tipo é uma classe. A estrutura básica é da seguinte forma."
   ]
  },
  {
   "cell_type": "code",
   "execution_count": 22,
   "metadata": {
    "collapsed": true
   },
   "outputs": [],
   "source": [
    "class MyClass:\n",
    "    i = 12345\n",
    "\n",
    "    def f(self):\n",
    "        return 'Hello world!'"
   ]
  },
  {
   "cell_type": "markdown",
   "metadata": {},
   "source": [
    "Criamos o objeto `MyClass` e atribuimos a variável `x`"
   ]
  },
  {
   "cell_type": "code",
   "execution_count": 23,
   "metadata": {},
   "outputs": [
    {
     "name": "stdout",
     "output_type": "stream",
     "text": [
      "<type 'instance'>\n"
     ]
    }
   ],
   "source": [
    "x = MyClass()\n",
    "\n",
    "print type(x)"
   ]
  },
  {
   "cell_type": "markdown",
   "metadata": {},
   "source": [
    "Essa variável x ou, esse objeto x, possui um atributo i e um método (função) f. O parâmetro self é comunmente utilizado para se refirir ao próprio objeto, logo, temos:"
   ]
  },
  {
   "cell_type": "code",
   "execution_count": 26,
   "metadata": {},
   "outputs": [
    {
     "data": {
      "text/plain": [
       "12345"
      ]
     },
     "execution_count": 26,
     "metadata": {},
     "output_type": "execute_result"
    }
   ],
   "source": [
    "x.i"
   ]
  },
  {
   "cell_type": "code",
   "execution_count": 27,
   "metadata": {},
   "outputs": [
    {
     "data": {
      "text/plain": [
       "'Hello world!'"
      ]
     },
     "execution_count": 27,
     "metadata": {},
     "output_type": "execute_result"
    }
   ],
   "source": [
    "x.f()"
   ]
  },
  {
   "cell_type": "markdown",
   "metadata": {},
   "source": [
    "Caso não utilizássemos o parâmetro self teríamos o seguinte:"
   ]
  },
  {
   "cell_type": "code",
   "execution_count": 28,
   "metadata": {
    "collapsed": true
   },
   "outputs": [],
   "source": [
    "class MyClass:\n",
    "    i = 12345\n",
    "\n",
    "    def f():\n",
    "        return 'Hello world!'"
   ]
  },
  {
   "cell_type": "code",
   "execution_count": 29,
   "metadata": {
    "collapsed": true
   },
   "outputs": [],
   "source": [
    "x = MyClass()"
   ]
  },
  {
   "cell_type": "code",
   "execution_count": 30,
   "metadata": {},
   "outputs": [
    {
     "data": {
      "text/plain": [
       "12345"
      ]
     },
     "execution_count": 30,
     "metadata": {},
     "output_type": "execute_result"
    }
   ],
   "source": [
    "x.i"
   ]
  },
  {
   "cell_type": "code",
   "execution_count": 31,
   "metadata": {},
   "outputs": [
    {
     "ename": "TypeError",
     "evalue": "f() takes no arguments (1 given)",
     "output_type": "error",
     "traceback": [
      "\u001b[0;31m---------------------------------------------------------------------------\u001b[0m",
      "\u001b[0;31mTypeError\u001b[0m                                 Traceback (most recent call last)",
      "\u001b[0;32m<ipython-input-31-9cdd69494efb>\u001b[0m in \u001b[0;36m<module>\u001b[0;34m()\u001b[0m\n\u001b[0;32m----> 1\u001b[0;31m \u001b[0mx\u001b[0m\u001b[0;34m.\u001b[0m\u001b[0mf\u001b[0m\u001b[0;34m(\u001b[0m\u001b[0;34m)\u001b[0m\u001b[0;34m\u001b[0m\u001b[0m\n\u001b[0m",
      "\u001b[0;31mTypeError\u001b[0m: f() takes no arguments (1 given)"
     ]
    }
   ],
   "source": [
    "x.f()"
   ]
  },
  {
   "cell_type": "markdown",
   "metadata": {},
   "source": [
    "Ele acusa que a função f não necessita de nenhum argumento e mesmo assim passamos um argumento (o objeto x)"
   ]
  },
  {
   "cell_type": "markdown",
   "metadata": {},
   "source": [
    "A função `__init__` é utilizada para que a classe chame essa função assim que o objeto é criado. Claro, ele pode receber parâmetros além do self. No caso abaixo ele recebe o nome do cachorro."
   ]
  },
  {
   "cell_type": "code",
   "execution_count": 32,
   "metadata": {
    "collapsed": true
   },
   "outputs": [],
   "source": [
    "class Dog:\n",
    "    kind = 'canine'\n",
    "\n",
    "    def __init__(self, name):\n",
    "        self.name = name\n",
    "        self.tricks = [] # cria uma lista vazia para cada cachorro\n",
    "\n",
    "    def add_trick(self, trick):\n",
    "        self.tricks.append(trick)"
   ]
  },
  {
   "cell_type": "code",
   "execution_count": 33,
   "metadata": {
    "collapsed": true
   },
   "outputs": [],
   "source": [
    "my_dog = Dog('Lassie')"
   ]
  },
  {
   "cell_type": "code",
   "execution_count": 34,
   "metadata": {},
   "outputs": [
    {
     "name": "stdout",
     "output_type": "stream",
     "text": [
      "canine\n",
      "Lassie\n",
      "[]\n"
     ]
    }
   ],
   "source": [
    "print my_dog.kind\n",
    "print my_dog.name\n",
    "print my_dog.tricks"
   ]
  },
  {
   "cell_type": "code",
   "execution_count": 35,
   "metadata": {
    "collapsed": true
   },
   "outputs": [],
   "source": [
    "my_dog.add_trick('play dead')"
   ]
  },
  {
   "cell_type": "code",
   "execution_count": 111,
   "metadata": {},
   "outputs": [
    {
     "name": "stdout",
     "output_type": "stream",
     "text": [
      "['play dead']\n"
     ]
    }
   ],
   "source": [
    "print my_dog.tricks"
   ]
  },
  {
   "cell_type": "code",
   "execution_count": 112,
   "metadata": {
    "collapsed": true
   },
   "outputs": [],
   "source": [
    "my_dog.add_trick('roll')"
   ]
  },
  {
   "cell_type": "code",
   "execution_count": 113,
   "metadata": {},
   "outputs": [
    {
     "name": "stdout",
     "output_type": "stream",
     "text": [
      "['play dead', 'roll']\n"
     ]
    }
   ],
   "source": [
    "print my_dog.tricks"
   ]
  }
 ],
 "metadata": {
  "kernelspec": {
   "display_name": "Python 2",
   "language": "python",
   "name": "python2"
  },
  "language_info": {
   "codemirror_mode": {
    "name": "ipython",
    "version": 2
   },
   "file_extension": ".py",
   "mimetype": "text/x-python",
   "name": "python",
   "nbconvert_exporter": "python",
   "pygments_lexer": "ipython2",
   "version": "2.7.14"
  }
 },
 "nbformat": 4,
 "nbformat_minor": 1
}
