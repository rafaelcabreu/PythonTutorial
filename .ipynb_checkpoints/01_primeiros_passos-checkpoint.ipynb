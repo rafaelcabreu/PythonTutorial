{
 "cells": [
  {
   "cell_type": "markdown",
   "metadata": {},
   "source": [
    "![logo](https://www.python.org/static/community_logos/python-logo-master-v3-TM-flattened.png)\n",
    "\n",
    "\n",
    "# O que é?\n",
    "\n",
    "\"Python é uma linguagem de programação **interpretada, orientada a objetos** de alto nível. Sua construção em alto nível de estrutura de dados, combinado com tipografia dinâmica faz com que seja extremamente atraente para **desenvolvimento rápido de aplicações**, assim como para usar como linguagem para scripts ou para **conectar aplicações já existente**. Python é **simples, fácil de aprender com uma sintaxe que focada na legibilidade** e portanto **reduz o custo de manutenção do programa**. Python suporta módulos e pacotes que **encorajam a modularidade dos programas e reusabilidade**. O interpretador do Python e as bibliotecas padrões estão disponíveis **sem custo nenhum** em todas as principais plataformas.\n",
    "\n",
    "Geralmente programadores se apaixonam pelo Python pela aumento da produtividade que ele propícia. Já que não há um passo de compilação o **ciclo de edição-teste-debug se torna incrivelmente rápido**. **Debugar programas em Python é fácil**: um bug ou input ruim não causa segmentation fault. Ao invés disso, quando o interpretador descobre um erro ele levanta uma exceção. Quando o programa não captura a exceção, o interpretador imprime a origem do erro (...). Por outro lado, é sempre mais rápido adicionar alguns `print` no programa para debugar ele de forma mais rápida\" \n",
    "(https://www.python.org/doc/essays/blurb/)"
   ]
  },
  {
   "cell_type": "markdown",
   "metadata": {},
   "source": [
    "# Aplicações\n",
    "\n",
    "### Desenvolvimento Web\n",
    "\n",
    "### Científico e numérico\n",
    "\n",
    "1. Numpy para matrizes\n",
    "2. Pandas para séries temporais\n",
    "3. Scipy possui funções estatísticas, interpolações entre outros\n",
    "4. Matplotlib para fazer gráficos unidimensionais entre outros\n",
    "5. Scikit-learn para técnicas de _machine learning_\n",
    "\n",
    "### Interfaces gráficas\n",
    "\n",
    "### Desenvolvimento de software"
   ]
  },
  {
   "cell_type": "markdown",
   "metadata": {},
   "source": [
    "# Jupyter Notebook (Básico)"
   ]
  },
  {
   "cell_type": "markdown",
   "metadata": {},
   "source": [
    "- Entrar no modo de edição: `Enter`\n",
    "- Sair do modo edição: `Esc`\n",
    "- Rodar uma célula e ir para a seguinte: `Shift + Enter`\n",
    "- Rodar uma célula e ir continuar na célula: `Ctrl + Enter`\n",
    "- Rodar uma célula e criar uma nova: `Alt + Enter`\n",
    "- Deletar célula: `X`\n",
    "- Mudar para markdown: `M`\n",
    "- Mudar célula para modo código: `Y`\n",
    "\n",
    "Os atalhos na barra de cima também podem ser usados, assim como os guias para mais informações."
   ]
  },
  {
   "cell_type": "markdown",
   "metadata": {},
   "source": [
    "# Comandos básicos"
   ]
  },
  {
   "cell_type": "code",
   "execution_count": null,
   "metadata": {},
   "outputs": [],
   "source": [
    "print 'Hello world!' # python 3 em diante print('Hello world!')"
   ]
  },
  {
   "cell_type": "markdown",
   "metadata": {},
   "source": [
    "Ele pode ser usado como uma calculadora"
   ]
  },
  {
   "cell_type": "code",
   "execution_count": null,
   "metadata": {},
   "outputs": [],
   "source": [
    "2 + 2"
   ]
  },
  {
   "cell_type": "code",
   "execution_count": null,
   "metadata": {},
   "outputs": [],
   "source": [
    "2 * 3"
   ]
  },
  {
   "cell_type": "code",
   "execution_count": null,
   "metadata": {},
   "outputs": [],
   "source": [
    "6 ** 2"
   ]
  },
  {
   "cell_type": "code",
   "execution_count": null,
   "metadata": {},
   "outputs": [],
   "source": [
    "6 / 2"
   ]
  },
  {
   "cell_type": "code",
   "execution_count": null,
   "metadata": {},
   "outputs": [],
   "source": [
    "6 % 4"
   ]
  },
  {
   "cell_type": "markdown",
   "metadata": {},
   "source": [
    "<div class=\"alert alert-block alert-info\">\n",
    "Caso você tenha duas variáveis inteiras o resultado é um inteiro\n",
    "</div>"
   ]
  },
  {
   "cell_type": "code",
   "execution_count": null,
   "metadata": {},
   "outputs": [],
   "source": [
    "6 / 5"
   ]
  },
  {
   "cell_type": "markdown",
   "metadata": {
    "collapsed": true
   },
   "source": [
    "basta adicionar o '.' para que o resultado seja na forma decimal"
   ]
  },
  {
   "cell_type": "code",
   "execution_count": null,
   "metadata": {},
   "outputs": [],
   "source": [
    "6. / 5"
   ]
  },
  {
   "cell_type": "markdown",
   "metadata": {
    "collapsed": true
   },
   "source": [
    "## Variáveis\n",
    "\n",
    "Para definir as variáveis, como Python é uma linguagem interpretada, você não precisa definir o tipo dela (float, int, string, etc)"
   ]
  },
  {
   "cell_type": "code",
   "execution_count": null,
   "metadata": {},
   "outputs": [],
   "source": [
    "x = 4\n",
    "\n",
    "print x, type(x)"
   ]
  },
  {
   "cell_type": "code",
   "execution_count": null,
   "metadata": {},
   "outputs": [],
   "source": [
    "x = 4.\n",
    "\n",
    "print x, type(x)"
   ]
  },
  {
   "cell_type": "code",
   "execution_count": null,
   "metadata": {},
   "outputs": [],
   "source": [
    "x = 'x'\n",
    "\n",
    "print x, type(x)"
   ]
  },
  {
   "cell_type": "markdown",
   "metadata": {},
   "source": [
    "## Loops\n",
    "\n",
    "Existem dois tipos de loops no python, assim como em muitas linguagens de programação, o `while` e `for`. O `for` geralmente é utilizado quando você quer repetir um bloco de código um número fixo de vezes."
   ]
  },
  {
   "cell_type": "code",
   "execution_count": null,
   "metadata": {},
   "outputs": [],
   "source": [
    "for i in range(10):\n",
    "        print 'i = ',i"
   ]
  },
  {
   "cell_type": "markdown",
   "metadata": {},
   "source": [
    "<div class=\"alert alert-block alert-info\">\n",
    "Importante notar que o loop nesse caso é em 10 valores, indo de 0 a 9, e não de 1 a 10\n",
    "</div>"
   ]
  },
  {
   "cell_type": "markdown",
   "metadata": {},
   "source": [
    "Para fazer um loop de 1 a 10, a cada 2, por exemplo, a sintaxe fica a seguinte"
   ]
  },
  {
   "cell_type": "code",
   "execution_count": null,
   "metadata": {},
   "outputs": [],
   "source": [
    "for i in range(1, 10, 2): # start, stop, step\n",
    "    print 'i = ',i"
   ]
  },
  {
   "cell_type": "markdown",
   "metadata": {},
   "source": [
    "É interessante introduzirmos nesse ponto as listas, que são basicamente vetores"
   ]
  },
  {
   "cell_type": "code",
   "execution_count": null,
   "metadata": {},
   "outputs": [],
   "source": [
    "x = [5, 9, 12, 5, 2]\n",
    "\n",
    "print x, type(x)"
   ]
  },
  {
   "cell_type": "markdown",
   "metadata": {},
   "source": [
    "Os valores de `x` podem ser indexados"
   ]
  },
  {
   "cell_type": "code",
   "execution_count": null,
   "metadata": {},
   "outputs": [],
   "source": [
    "print x[0]\n",
    "print x[1]\n",
    "print x[-1]\n",
    "print x[:2]"
   ]
  },
  {
   "cell_type": "code",
   "execution_count": null,
   "metadata": {},
   "outputs": [],
   "source": [
    "x[3:-1]"
   ]
  },
  {
   "cell_type": "markdown",
   "metadata": {},
   "source": [
    "Para adicionar um elemento ao final da lista basta usar o comando `append` nela"
   ]
  },
  {
   "cell_type": "code",
   "execution_count": null,
   "metadata": {},
   "outputs": [],
   "source": [
    "x.append(15)\n",
    "\n",
    "print x"
   ]
  },
  {
   "cell_type": "markdown",
   "metadata": {},
   "source": [
    "Para inserir um elemento em uma posição arbitrária"
   ]
  },
  {
   "cell_type": "code",
   "execution_count": null,
   "metadata": {},
   "outputs": [],
   "source": [
    "x.insert(0, 9)\n",
    "\n",
    "print x"
   ]
  },
  {
   "cell_type": "markdown",
   "metadata": {},
   "source": [
    "Para remover um elemento dado a sua posição"
   ]
  },
  {
   "cell_type": "code",
   "execution_count": null,
   "metadata": {},
   "outputs": [],
   "source": [
    "x.pop(3)\n",
    "\n",
    "print x"
   ]
  },
  {
   "cell_type": "markdown",
   "metadata": {},
   "source": [
    "As listas não precisam ser de um tipo definido, logo:"
   ]
  },
  {
   "cell_type": "code",
   "execution_count": null,
   "metadata": {},
   "outputs": [],
   "source": [
    "x = [1, 'abc', 7.2]\n",
    "\n",
    "print x"
   ]
  },
  {
   "cell_type": "markdown",
   "metadata": {},
   "source": [
    "Para verificar os métodos associados a cada objeto podemos usar a função `dir`:"
   ]
  },
  {
   "cell_type": "code",
   "execution_count": null,
   "metadata": {},
   "outputs": [],
   "source": [
    "dir(x)"
   ]
  },
  {
   "cell_type": "code",
   "execution_count": null,
   "metadata": {},
   "outputs": [],
   "source": [
    "x = [5, 9, 12, 5, 2]\n",
    "y = x\n",
    "x[0] = -10\n",
    "\n",
    "print 'y = ', y\n",
    "print 'x = ', x"
   ]
  },
  {
   "cell_type": "markdown",
   "metadata": {},
   "source": [
    "<div class=\"alert alert-block alert-danger\">\n",
    "<b>Atenção:</b> `y = x` não copia a lista `x` para a variável `y`, na verdade ele está falando que o mesmo objeto (a lista) deve ser referenciada nas variáveis `x` e `y`\n",
    "</div>"
   ]
  },
  {
   "cell_type": "code",
   "execution_count": null,
   "metadata": {},
   "outputs": [],
   "source": [
    "x = [5, 9, 12, 5, 2]\n",
    "y = list(x) # x.copy() para Python >= 3.3\n",
    "x[0] = -10\n",
    "\n",
    "print 'y = ', y\n",
    "print 'x = ', x"
   ]
  },
  {
   "cell_type": "markdown",
   "metadata": {},
   "source": [
    "Podemos utilizar o `for` com relação aos elementos de uma lista, por exemplo:"
   ]
  },
  {
   "cell_type": "code",
   "execution_count": null,
   "metadata": {},
   "outputs": [],
   "source": [
    "x = [5, 9, 12, 5, 2]\n",
    "\n",
    "for i in x:\n",
    "    print('i = %d' % i)"
   ]
  },
  {
   "cell_type": "markdown",
   "metadata": {},
   "source": [
    "A formatação dos valores em formatação de strings pode ser feito da seguinte forma:"
   ]
  },
  {
   "cell_type": "code",
   "execution_count": null,
   "metadata": {},
   "outputs": [],
   "source": [
    "x = [5, 9, 12, 5, 2]\n",
    "\n",
    "for i in x:\n",
    "    print('i = %f %03d %2.2f' % (i, i, i))"
   ]
  },
  {
   "cell_type": "markdown",
   "metadata": {},
   "source": [
    "Como seu objeto é uma lista, os inteiros da lista não podem ser convertidos da seguinte forma:"
   ]
  },
  {
   "cell_type": "code",
   "execution_count": null,
   "metadata": {},
   "outputs": [],
   "source": [
    "float(x)"
   ]
  },
  {
   "cell_type": "markdown",
   "metadata": {},
   "source": [
    "Analogamente, podemos utilizar o índice da lista para realizar o `for`"
   ]
  },
  {
   "cell_type": "code",
   "execution_count": null,
   "metadata": {},
   "outputs": [],
   "source": [
    "x = [5, 9, 12, 5, 2]\n",
    "\n",
    "for i in range(len(x)):\n",
    "    print('i = %d' % x[i])\n",
    "    \n",
    "print 'O tamanho de x é: ', len(x)"
   ]
  },
  {
   "cell_type": "markdown",
   "metadata": {},
   "source": [
    "O `while`, diferente do `for`, geralmente é utilizado para reproduzir um bloco de código até que uma determinada condição não seja satisfeita"
   ]
  },
  {
   "cell_type": "code",
   "execution_count": null,
   "metadata": {},
   "outputs": [],
   "source": [
    "i = 1\n",
    "\n",
    "while i < 10:\n",
    "    print 'i = ',i\n",
    "    i += 1 # versão curta de i = i + 1"
   ]
  },
  {
   "cell_type": "markdown",
   "metadata": {},
   "source": [
    "## If / Else / Elif\n",
    "\n",
    "É um dos tipos mais comuns de verificação de condições em linguagens de programação. A ideia é verificar se dada condições é satisfeita e assim aplicar um bloco de código"
   ]
  },
  {
   "cell_type": "code",
   "execution_count": null,
   "metadata": {},
   "outputs": [],
   "source": [
    "x = -10\n",
    "\n",
    "if x < 0:\n",
    "    x = 0\n",
    "    print('Negative changed to zero')\n",
    "elif x == 0: # igual a else if\n",
    "    print('Zero')\n",
    "elif x == 1:\n",
    "    print('Single')\n",
    "else:\n",
    "    print('More')"
   ]
  },
  {
   "cell_type": "markdown",
   "metadata": {},
   "source": [
    "Podemos usar em conjunto com loops, como por exemplo:"
   ]
  },
  {
   "cell_type": "code",
   "execution_count": null,
   "metadata": {},
   "outputs": [],
   "source": [
    "x = [5, 9, 12, 5, 2]\n",
    "\n",
    "for i in x:\n",
    "    if i == 12:\n",
    "        print 'Esse valor é igual a 12'\n",
    "    else:\n",
    "        print 'Esse valor não é igual a 12'"
   ]
  },
  {
   "cell_type": "markdown",
   "metadata": {},
   "source": [
    "## Exercício 1\n",
    "\n",
    "Dada uma lista `a = [1, 4, 9, 16, 25, 36, 49, 64, 81, 100]` use o que você aprendeu até agora (lista e loop) para criar uma lista apenas com os elementos pares (Dica, para criar uma lista vazia basta defini-la como `x = []`)"
   ]
  },
  {
   "cell_type": "markdown",
   "metadata": {},
   "source": [
    "## Dicionários\n",
    "\n",
    "Dicionários são coleções com nomes, ou labels, não ordenada, geralmente são escritas usando `{}`"
   ]
  },
  {
   "cell_type": "code",
   "execution_count": null,
   "metadata": {},
   "outputs": [],
   "source": [
    "my_dict = {\n",
    "    'key1': [5, 7, 8],\n",
    "    'key2': 9.5,\n",
    "    'key3': 'foo',\n",
    "}\n",
    "\n",
    "print my_dict"
   ]
  },
  {
   "cell_type": "markdown",
   "metadata": {},
   "source": [
    "Você também pode selecionar elementos específicos pelas labels"
   ]
  },
  {
   "cell_type": "code",
   "execution_count": null,
   "metadata": {},
   "outputs": [],
   "source": [
    "print my_dict['key2']"
   ]
  },
  {
   "cell_type": "markdown",
   "metadata": {},
   "source": [
    "Ou fazer um loop:"
   ]
  },
  {
   "cell_type": "code",
   "execution_count": null,
   "metadata": {},
   "outputs": [],
   "source": [
    "for key, val in my_dict.iteritems():\n",
    "    print key, '=>', val"
   ]
  },
  {
   "cell_type": "code",
   "execution_count": null,
   "metadata": {},
   "outputs": [],
   "source": [
    "my_dict.keys()"
   ]
  },
  {
   "cell_type": "code",
   "execution_count": null,
   "metadata": {},
   "outputs": [],
   "source": [
    "my_dict.values()"
   ]
  },
  {
   "cell_type": "markdown",
   "metadata": {},
   "source": [
    "<div class=\"alert alert-block alert-info\">\n",
    "Esse objeto será importante no terceiro notebook para entender melhor a biblioteca pandas.\n",
    "</div>"
   ]
  },
  {
   "cell_type": "markdown",
   "metadata": {},
   "source": [
    "## Funções\n",
    "\n",
    "A ideia das funções é criar um bloco de código que recebe parâmetros e será utilizado (possivelmente) mais de uma vez ao longo do código, ou então será utilizado apenas uma vez, mas deixa o código mais legível. As funções não precisam de nenhum parâmetro de entrada. Além disso, não precisam retornar nenhum valor, ou podem retorna múltiplos valores"
   ]
  },
  {
   "cell_type": "code",
   "execution_count": null,
   "metadata": {
    "collapsed": true
   },
   "outputs": [],
   "source": [
    "def hello_world():\n",
    "    print 'Hello world!'"
   ]
  },
  {
   "cell_type": "code",
   "execution_count": null,
   "metadata": {},
   "outputs": [],
   "source": [
    "hello_world()"
   ]
  },
  {
   "cell_type": "markdown",
   "metadata": {},
   "source": [
    "Um exemplo que podemos usar é a sequência de fibonacci, dada por:\n",
    "\n",
    "$F_n = F_{n-1} + F_{n-2}$\n",
    "\n",
    "Considerando $F_1 = 1$ e $F_2 = 1$ temos:"
   ]
  },
  {
   "cell_type": "code",
   "execution_count": null,
   "metadata": {
    "collapsed": true
   },
   "outputs": [],
   "source": [
    "def fib(n):\n",
    "    a,b = 1,1\n",
    "    for i in range(n-1):\n",
    "        c = a+b\n",
    "        a = b\n",
    "        b = c\n",
    "    return a"
   ]
  },
  {
   "cell_type": "code",
   "execution_count": null,
   "metadata": {},
   "outputs": [],
   "source": [
    "fib(10)"
   ]
  },
  {
   "cell_type": "code",
   "execution_count": null,
   "metadata": {
    "collapsed": true
   },
   "outputs": [],
   "source": [
    "def fib(n):\n",
    "    a,b = 1,1\n",
    "    series = []\n",
    "    series.append(a)\n",
    "    for i in range(n-1):\n",
    "        c = a+b\n",
    "        a = b\n",
    "        b = c\n",
    "        series.append(a)\n",
    "    return series"
   ]
  },
  {
   "cell_type": "code",
   "execution_count": null,
   "metadata": {},
   "outputs": [],
   "source": [
    "fib(10)"
   ]
  },
  {
   "cell_type": "markdown",
   "metadata": {},
   "source": [
    "Argumentos opcionais também podem ser fornecidos."
   ]
  },
  {
   "cell_type": "code",
   "execution_count": null,
   "metadata": {
    "collapsed": true
   },
   "outputs": [],
   "source": [
    "def dog(name, breed='vira-lata'):\n",
    "    print 'Meu cachorro se chama: %s da raça: %s' % (name, breed)"
   ]
  },
  {
   "cell_type": "code",
   "execution_count": null,
   "metadata": {},
   "outputs": [],
   "source": [
    "dog('Thor')"
   ]
  },
  {
   "cell_type": "code",
   "execution_count": null,
   "metadata": {},
   "outputs": [],
   "source": [
    "dog('Thor', breed='Pug')"
   ]
  },
  {
   "cell_type": "markdown",
   "metadata": {},
   "source": [
    "Existem ainda as funções anônimas `lambda` que são funções definidas sem um nome, geralmente dentro do código principal e são de utilização rápida. "
   ]
  },
  {
   "cell_type": "code",
   "execution_count": null,
   "metadata": {
    "collapsed": true
   },
   "outputs": [],
   "source": [
    "def double(x):\n",
    "    return x ** 2"
   ]
  },
  {
   "cell_type": "code",
   "execution_count": null,
   "metadata": {},
   "outputs": [],
   "source": [
    "print '27 ao quadrado = ', double(27)"
   ]
  },
  {
   "cell_type": "code",
   "execution_count": null,
   "metadata": {
    "collapsed": true
   },
   "outputs": [],
   "source": [
    "double = lambda x: x ** 2"
   ]
  },
  {
   "cell_type": "code",
   "execution_count": null,
   "metadata": {},
   "outputs": [],
   "source": [
    "print '27 ao quadrado = ', double(27)"
   ]
  },
  {
   "cell_type": "markdown",
   "metadata": {},
   "source": [
    "## Exercício 2\n",
    "\n",
    "Dados três valores escreva uma função `max_of_three` que retorna o maior valor dos três."
   ]
  },
  {
   "cell_type": "markdown",
   "metadata": {},
   "source": [
    "## Classes\n",
    "\n",
    "As classes é que ajudam a entender o termo \"linguagem orientada a objeto\". Uma classe, associa dados (atributos) a operações (métodos) em uma única estrutura. Um objeto é uma variável cujo o tipo é uma classe. A estrutura básica é da seguinte forma."
   ]
  },
  {
   "cell_type": "code",
   "execution_count": null,
   "metadata": {
    "collapsed": true
   },
   "outputs": [],
   "source": [
    "class MyClass:\n",
    "    i = 12345\n",
    "\n",
    "    def f(self):\n",
    "        return 'Hello world!'"
   ]
  },
  {
   "cell_type": "markdown",
   "metadata": {},
   "source": [
    "Criamos o objeto `MyClass` e atribuimos a variável `x`"
   ]
  },
  {
   "cell_type": "code",
   "execution_count": null,
   "metadata": {},
   "outputs": [],
   "source": [
    "x = MyClass()\n",
    "\n",
    "print type(x)"
   ]
  },
  {
   "cell_type": "markdown",
   "metadata": {},
   "source": [
    "Essa variável `x` ou, esse objeto `x`, possui um atributo `i` e um método (função) `f`. O parâmetro `self` é comunmente utilizado para se refirir ao próprio objeto, logo, temos:"
   ]
  },
  {
   "cell_type": "code",
   "execution_count": null,
   "metadata": {},
   "outputs": [],
   "source": [
    "x.i"
   ]
  },
  {
   "cell_type": "code",
   "execution_count": null,
   "metadata": {},
   "outputs": [],
   "source": [
    "x.f()"
   ]
  },
  {
   "cell_type": "markdown",
   "metadata": {},
   "source": [
    "Caso não utilizássemos o parâmetro self teríamos o seguinte:"
   ]
  },
  {
   "cell_type": "code",
   "execution_count": null,
   "metadata": {
    "collapsed": true
   },
   "outputs": [],
   "source": [
    "class MyClass:\n",
    "    i = 12345\n",
    "\n",
    "    def f():\n",
    "        return 'Hello world!'"
   ]
  },
  {
   "cell_type": "code",
   "execution_count": null,
   "metadata": {
    "collapsed": true
   },
   "outputs": [],
   "source": [
    "x = MyClass()"
   ]
  },
  {
   "cell_type": "code",
   "execution_count": null,
   "metadata": {},
   "outputs": [],
   "source": [
    "x.i"
   ]
  },
  {
   "cell_type": "code",
   "execution_count": null,
   "metadata": {},
   "outputs": [],
   "source": [
    "x.f()"
   ]
  },
  {
   "cell_type": "markdown",
   "metadata": {},
   "source": [
    "Ele acusa que a função f não necessita de nenhum argumento e mesmo assim passamos um argumento (o objeto `x`)"
   ]
  },
  {
   "cell_type": "markdown",
   "metadata": {},
   "source": [
    "A função `__init__` é utilizada para que a classe chame essa função assim que o objeto é criado. Claro, ele pode receber parâmetros além do `self`. No caso abaixo ele recebe o nome do cachorro."
   ]
  },
  {
   "cell_type": "code",
   "execution_count": null,
   "metadata": {
    "collapsed": true
   },
   "outputs": [],
   "source": [
    "class Dog:\n",
    "    kind = 'canine'\n",
    "\n",
    "    def __init__(self, name):\n",
    "        self.name = name\n",
    "        self.tricks = [] # cria uma lista vazia para cada cachorro\n",
    "\n",
    "    def add_trick(self, trick):\n",
    "        self.tricks.append(trick)"
   ]
  },
  {
   "cell_type": "code",
   "execution_count": null,
   "metadata": {
    "collapsed": true
   },
   "outputs": [],
   "source": [
    "my_dog = Dog('Lassie')"
   ]
  },
  {
   "cell_type": "code",
   "execution_count": null,
   "metadata": {},
   "outputs": [],
   "source": [
    "print my_dog.kind\n",
    "print my_dog.name\n",
    "print my_dog.tricks"
   ]
  },
  {
   "cell_type": "code",
   "execution_count": null,
   "metadata": {
    "collapsed": true
   },
   "outputs": [],
   "source": [
    "my_dog.add_trick('play dead')"
   ]
  },
  {
   "cell_type": "code",
   "execution_count": null,
   "metadata": {},
   "outputs": [],
   "source": [
    "print my_dog.tricks"
   ]
  },
  {
   "cell_type": "code",
   "execution_count": null,
   "metadata": {
    "collapsed": true
   },
   "outputs": [],
   "source": [
    "my_dog.add_trick('roll')"
   ]
  },
  {
   "cell_type": "code",
   "execution_count": null,
   "metadata": {},
   "outputs": [],
   "source": [
    "print my_dog.tricks"
   ]
  },
  {
   "cell_type": "markdown",
   "metadata": {},
   "source": [
    "## Exercício 3\n",
    "\n",
    "Faça uma classe `ConvertTemp` que dado um valor de temperatura ele pode ser convertido entre os três sistema de medidas (Farenheit, Kelvins e Celsius).\n",
    "\n",
    "Lembre-se que:\n",
    "\n",
    "$T_{C} = (T_{F} - 32.) \\times 5/9$\n",
    "\n",
    "$T_{F} = (T_{C} \\times 5/9) + 32$\n",
    "\n",
    "$T_{C} = T_{K} - 273.15$"
   ]
  },
  {
   "cell_type": "code",
   "execution_count": null,
   "metadata": {
    "collapsed": true
   },
   "outputs": [],
   "source": []
  }
 ],
 "metadata": {
  "kernelspec": {
   "display_name": "Python 2",
   "language": "python",
   "name": "python2"
  },
  "language_info": {
   "codemirror_mode": {
    "name": "ipython",
    "version": 2
   },
   "file_extension": ".py",
   "mimetype": "text/x-python",
   "name": "python",
   "nbconvert_exporter": "python",
   "pygments_lexer": "ipython2",
   "version": "2.7.15"
  }
 },
 "nbformat": 4,
 "nbformat_minor": 1
}
