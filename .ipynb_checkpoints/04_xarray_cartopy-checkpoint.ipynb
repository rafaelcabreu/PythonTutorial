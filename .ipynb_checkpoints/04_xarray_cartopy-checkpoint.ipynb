{
 "cells": [
  {
   "cell_type": "markdown",
   "metadata": {},
   "source": [
    "# Xarray\n",
    "\n",
    "![logo](http://xarray.pydata.org/en/stable/_images/dataset-diagram.png)\n",
    "\n",
    "`xarray` (antigamente conhecido como xray) é um pacote Python que faz trabalhar com arrays multi-dimensionais simples, efficente e divertido!\n",
    "\n",
    "Arrays multi-dimensionais são uma parte essencial em computação científica. Eles são encontrados em uma grande variedade de áreas como física, astronômia, geociências, e etc. No Python, NumPy proporciona a estrutura fundamental para trabalhar com arrays multi-dimensionais. No entanto, geralmente os conjuntos de dados são mais do que números puros; eles possuem nomes (labels) que encorporam como o array é mapeado no espaço, tempo, etc.\n",
    "\n",
    "Introduzindo dimensões, coordenadas e atributos em cima de arrays NumPy, xarray é capaz de entender esses labels e usa-lo para proporcionar uma experiência mais intuitiva, concisa e menos proícia para erros. Xarray também proporciona uma variedade de funções para análise de dados e visualização. Xarray foi inspirado e usa muito do que foi desenvolvido para o pandas. Xarray pode ler e escrever dados dos formatos mais comuns e é particularmente feito para funcionar bem com arquivos netCDF."
   ]
  },
  {
   "cell_type": "code",
   "execution_count": null,
   "metadata": {
    "collapsed": true
   },
   "outputs": [],
   "source": [
    "import numpy as np\n",
    "import pandas as pd\n",
    "import xarray as xr\n",
    "\n",
    "import matplotlib.pyplot as plt\n",
    "%matplotlib inline"
   ]
  },
  {
   "cell_type": "markdown",
   "metadata": {},
   "source": [
    "## Estrutura Básica\n",
    "\n",
    "`xarray.DataArray` possue as seguintes propriedades:\n",
    "- `values`: Um numpy.ndarray com os valores do array\n",
    "- `dims`: Nome das dimensões para cada eixo (e.g., ('x', 'y', 'z'))\n",
    "- `coords`: Um dicionário com as coordenadas para cada eixo (e.g., Array unidimensional, objeto tipo datetime ou strings)\n",
    "- `attrs`: Dicionário para os metadados arbitrários."
   ]
  },
  {
   "cell_type": "code",
   "execution_count": null,
   "metadata": {},
   "outputs": [],
   "source": [
    "data = np.random.rand(4, 3)\n",
    "\n",
    "data"
   ]
  },
  {
   "cell_type": "code",
   "execution_count": null,
   "metadata": {},
   "outputs": [],
   "source": [
    "locs = ['IA', 'IL', 'IN']\n",
    "\n",
    "times = pd.date_range('2000-01-01', periods=4)\n",
    "\n",
    "foo = xr.DataArray(data, coords=[times, locs], dims=['time', 'space'])\n",
    "\n",
    "foo"
   ]
  },
  {
   "cell_type": "markdown",
   "metadata": {},
   "source": [
    "Também pode ser criado da seguinte maneira:"
   ]
  },
  {
   "cell_type": "code",
   "execution_count": null,
   "metadata": {},
   "outputs": [],
   "source": [
    "xr.DataArray(data, coords=[('time', times), ('space', locs)])"
   ]
  },
  {
   "cell_type": "code",
   "execution_count": null,
   "metadata": {},
   "outputs": [],
   "source": [
    "foo.values"
   ]
  },
  {
   "cell_type": "code",
   "execution_count": null,
   "metadata": {},
   "outputs": [],
   "source": [
    "foo.dims"
   ]
  },
  {
   "cell_type": "code",
   "execution_count": null,
   "metadata": {},
   "outputs": [],
   "source": [
    "foo.coords"
   ]
  },
  {
   "cell_type": "code",
   "execution_count": null,
   "metadata": {},
   "outputs": [],
   "source": [
    "foo.attrs"
   ]
  },
  {
   "cell_type": "code",
   "execution_count": null,
   "metadata": {
    "collapsed": true
   },
   "outputs": [],
   "source": [
    "foo.name = 'foo'\n",
    "\n",
    "foo.attrs = {'created_by': 'Batman'}"
   ]
  },
  {
   "cell_type": "code",
   "execution_count": null,
   "metadata": {},
   "outputs": [],
   "source": [
    "foo"
   ]
  },
  {
   "cell_type": "markdown",
   "metadata": {},
   "source": [
    "`xarray.Dataset` é o equivalente do pandas DataFrame. Possui as seguintes propriedades:\n",
    "\n",
    "- `dims`: Um dicionário mapeando as coordenadas e o tamanho de cada coordenada (e.g., {'x': 6, 'y': 6, 'time': 8})\n",
    "- `data_vars`: Um dicionário com variáveis em DataArrays\n",
    "- `coords`: Um dicionário com as coordenadas para cada eixo (e.g., Array unidimensional, objeto tipo datetime ou strings)\n",
    "- `attrs`: Dicionário para os metadados arbitrários."
   ]
  },
  {
   "cell_type": "code",
   "execution_count": null,
   "metadata": {},
   "outputs": [],
   "source": [
    "temp = 15 + 8 * np.random.randn(2, 2, 3)\n",
    "\n",
    "precip = 10 * np.random.rand(2, 2, 3)\n",
    "\n",
    "lon = [[-99.83, -99.32], [-99.79, -99.23]]\n",
    "\n",
    "lat = [[42.25, 42.21], [42.63, 42.59]]\n",
    "\n",
    "ds = xr.Dataset({'temperature': (['x', 'y', 'time'],  temp),\n",
    "                 'precipitation': (['x', 'y', 'time'], precip)},\n",
    "                 coords={'lon': (['x', 'y'], lon),\n",
    "                         'lat': (['x', 'y'], lat),\n",
    "                         'time': pd.date_range('2014-09-06', periods=3)})\n",
    "\n",
    "ds"
   ]
  },
  {
   "cell_type": "code",
   "execution_count": null,
   "metadata": {},
   "outputs": [],
   "source": [
    "xr.Dataset({'bar': foo})"
   ]
  },
  {
   "cell_type": "code",
   "execution_count": null,
   "metadata": {},
   "outputs": [],
   "source": [
    "ds['temperature']"
   ]
  },
  {
   "cell_type": "code",
   "execution_count": null,
   "metadata": {},
   "outputs": [],
   "source": [
    "ds.data_vars"
   ]
  },
  {
   "cell_type": "markdown",
   "metadata": {},
   "source": [
    "## Trabalhando com um netCDF\n",
    "\n",
    "Vamos abrir agora um arquivo netCDF de exemplo para mostrar como tirar proveito das facilidades do `xarray`."
   ]
  },
  {
   "cell_type": "code",
   "execution_count": null,
   "metadata": {},
   "outputs": [],
   "source": [
    "ds = xr.open_dataset('data/xarray_teste.nc')\n",
    "\n",
    "ds"
   ]
  },
  {
   "cell_type": "code",
   "execution_count": null,
   "metadata": {},
   "outputs": [],
   "source": [
    "ds.time"
   ]
  },
  {
   "cell_type": "code",
   "execution_count": null,
   "metadata": {},
   "outputs": [],
   "source": [
    "ds.sel(time=slice('2019-01-01', '2019-01-05'))"
   ]
  },
  {
   "cell_type": "code",
   "execution_count": null,
   "metadata": {},
   "outputs": [],
   "source": [
    "ds.isel(time=0)"
   ]
  },
  {
   "cell_type": "code",
   "execution_count": null,
   "metadata": {},
   "outputs": [],
   "source": [
    "ds.sel(lat=-23.6821604, lon=-46.8755003) # São Paulo"
   ]
  },
  {
   "cell_type": "code",
   "execution_count": null,
   "metadata": {},
   "outputs": [],
   "source": [
    "ds.sel(lat=-23.6821604, lon=-46.8755003, method='nearest')"
   ]
  },
  {
   "cell_type": "markdown",
   "metadata": {},
   "source": [
    "<div class=\"alert alert-block alert-success\">\n",
    "<b>Em que situação isso pode ser usado?</b> Para filtrar seus dados apenas na área ou no tempo que você quer para fazer uma análise ou comparação. O último caso, por exemplo, pode ser usado para selecionar o ponto de grade do modelo mais próximo de uma dada estação para comparação.\n",
    "</div>"
   ]
  },
  {
   "cell_type": "code",
   "execution_count": null,
   "metadata": {},
   "outputs": [],
   "source": [
    "ds_ts = ds.sel(lat=-23.6821604, lon=-46.8755003, method='nearest')\n",
    "\n",
    "df = ds_ts.to_dataframe()\n",
    "df.head()"
   ]
  },
  {
   "cell_type": "markdown",
   "metadata": {},
   "source": [
    "Os dados também podem ser mascarados conforme uma condição que você quer:"
   ]
  },
  {
   "cell_type": "code",
   "execution_count": null,
   "metadata": {},
   "outputs": [],
   "source": [
    "ds"
   ]
  },
  {
   "cell_type": "code",
   "execution_count": null,
   "metadata": {},
   "outputs": [],
   "source": [
    "ds.where(ds['10u'] > 3)"
   ]
  },
  {
   "cell_type": "markdown",
   "metadata": {},
   "source": [
    "## Resampling dos dados\n",
    "\n",
    "Como o `xarray` foi construído em cima do `pandas` temos as mesmas funções de resample para séries temporais. A utilidade de usar o `xarray` é que você pode fazer isso em séries 3D ou 4D."
   ]
  },
  {
   "cell_type": "code",
   "execution_count": null,
   "metadata": {},
   "outputs": [],
   "source": [
    "ds_day = ds['prec'].resample('D', how='sum', dim='time')\n",
    "\n",
    "ds_day"
   ]
  },
  {
   "cell_type": "markdown",
   "metadata": {},
   "source": [
    "Você pode aplicar funções como `max`, `min` e `mean` usando os nomes das coordenadas em vez do eixo do array"
   ]
  },
  {
   "cell_type": "code",
   "execution_count": null,
   "metadata": {},
   "outputs": [],
   "source": [
    "ds['tmax'].mean(dim=['time'])"
   ]
  },
  {
   "cell_type": "code",
   "execution_count": null,
   "metadata": {},
   "outputs": [],
   "source": [
    "ds['tmax'].mean(dim=['lat', 'lon'])"
   ]
  },
  {
   "cell_type": "markdown",
   "metadata": {},
   "source": [
    "A função `groupby` também pode ser usada:"
   ]
  },
  {
   "cell_type": "code",
   "execution_count": null,
   "metadata": {},
   "outputs": [],
   "source": [
    "ds['tmin'].groupby('time.month').mean(dim=['time'])"
   ]
  },
  {
   "cell_type": "markdown",
   "metadata": {},
   "source": [
    "## Facilidades para fazer plots com o xarray"
   ]
  },
  {
   "cell_type": "code",
   "execution_count": null,
   "metadata": {},
   "outputs": [],
   "source": [
    "ds_ts = ds.sel(lat=-23.6821604, lon=-46.8755003, method='nearest')\n",
    "\n",
    "(ds_ts['tmax'] - 273.15).plot(marker='o')"
   ]
  },
  {
   "cell_type": "code",
   "execution_count": null,
   "metadata": {},
   "outputs": [],
   "source": [
    "ds['tmax'].isel(time=0).plot(cmap='Spectral_r')"
   ]
  },
  {
   "cell_type": "code",
   "execution_count": null,
   "metadata": {},
   "outputs": [],
   "source": [
    "fig, [ax1, ax2] = plt.subplots(1, 2, figsize=(14,5))\n",
    "\n",
    "ds['tmax'].isel(time=0).plot.contourf(ax=ax1, cmap='Spectral_r')\n",
    "ds['tmax'].isel(time=0).plot.contourf(ax=ax2, cmap='Spectral_r', robust=True)"
   ]
  },
  {
   "cell_type": "code",
   "execution_count": null,
   "metadata": {},
   "outputs": [],
   "source": [
    "ds['tmax'].isel(time=slice(0,6)).plot(x='lon', y='lat', col='time', col_wrap=3)"
   ]
  },
  {
   "cell_type": "markdown",
   "metadata": {},
   "source": [
    "# Cartopy\n",
    "\n",
    "Cartopy é um pacote Python desenhada para processamento de dados geoespaciais para produzir mapas e outras análises. Ele faz uso das bibliotecas PROJ.4, NumPy e Shapely e foi construído em cima do Matplotlib. Algumas dos atrativos do cartopy são sua definição de projeções orientada a objetos, e sua habilidade de transformar pontos, linhas, vetores, polígonos e imagens entre essas projeções."
   ]
  },
  {
   "cell_type": "code",
   "execution_count": null,
   "metadata": {
    "collapsed": true
   },
   "outputs": [],
   "source": [
    "import cartopy.crs as ccrs"
   ]
  },
  {
   "cell_type": "code",
   "execution_count": null,
   "metadata": {},
   "outputs": [],
   "source": [
    "ax = plt.subplot(111, projection=ccrs.PlateCarree())\n",
    "ax.coastlines()"
   ]
  },
  {
   "cell_type": "code",
   "execution_count": null,
   "metadata": {},
   "outputs": [],
   "source": [
    "fig = plt.figure(figsize=(14,10))\n",
    "ax1 = fig.add_subplot(221, projection=ccrs.LambertConformal())\n",
    "ax2 = fig.add_subplot(222, projection=ccrs.Mercator())\n",
    "ax3 = fig.add_subplot(223, projection=ccrs.Orthographic(central_latitude=-23.5, central_longitude=-47.5))\n",
    "ax4 = fig.add_subplot(224, projection=ccrs.Mollweide())\n",
    "\n",
    "axarr = [ax1, ax2, ax3, ax4]\n",
    "titles = ['Lambert Conformal', 'Mercator', 'Orthographic', 'Mollweide']\n",
    "\n",
    "for ax, title in zip(axarr, titles):\n",
    "    ax.coastlines()\n",
    "    ax.set_title(title)"
   ]
  },
  {
   "cell_type": "markdown",
   "metadata": {},
   "source": [
    "## Melhorando os plots com a interface `feature`"
   ]
  },
  {
   "cell_type": "code",
   "execution_count": null,
   "metadata": {
    "collapsed": true
   },
   "outputs": [],
   "source": [
    "import cartopy.feature as cfeature"
   ]
  },
  {
   "cell_type": "code",
   "execution_count": null,
   "metadata": {},
   "outputs": [],
   "source": [
    "fig, ax = plt.subplots(figsize=(5,5), subplot_kw={'projection': ccrs.PlateCarree()})\n",
    "\n",
    "# focando em uma região específica \n",
    "subset = [-85, -30, -35, 15]\n",
    "\n",
    "ax.set_extent(subset)\n",
    "ax.coastlines()"
   ]
  },
  {
   "cell_type": "code",
   "execution_count": null,
   "metadata": {},
   "outputs": [],
   "source": [
    "fig, ax = plt.subplots(figsize=(5,5), subplot_kw={'projection': ccrs.PlateCarree()})\n",
    "\n",
    "# focando em uma região específica \n",
    "ax.set_extent(subset)\n",
    "ax.coastlines('50m') # aumentando a resolução da linha de costa"
   ]
  },
  {
   "cell_type": "code",
   "execution_count": null,
   "metadata": {},
   "outputs": [],
   "source": [
    "fig, ax = plt.subplots(figsize=(5,5), subplot_kw={'projection': ccrs.PlateCarree()})\n",
    "\n",
    "# focando em uma região específica \n",
    "ax.set_extent(subset)\n",
    "ax.coastlines('50m') # aumentando a resolução da linha de costa\n",
    "ax.add_feature(cfeature.BORDERS) # adicionado a divisão de países"
   ]
  },
  {
   "cell_type": "code",
   "execution_count": null,
   "metadata": {},
   "outputs": [],
   "source": [
    "fig, ax = plt.subplots(figsize=(5,5), subplot_kw={'projection': ccrs.PlateCarree()})\n",
    "\n",
    "# focando em uma região específica \n",
    "ax.set_extent(subset)\n",
    "ax.coastlines('50m') # aumentando a resolução da linha de costa\n",
    "ax.add_feature(cfeature.BORDERS) # adicionado a divisão de países\n",
    "\n",
    "states_provinces = cfeature.NaturalEarthFeature( # https://www.naturalearthdata.com/downloads/\n",
    "        category='cultural',\n",
    "        name='admin_1_states_provinces_lines',\n",
    "        scale='50m',\n",
    "        facecolor='none')\n",
    "\n",
    "ax.add_feature(states_provinces, edgecolor='gray') # adiciona os estados"
   ]
  },
  {
   "cell_type": "code",
   "execution_count": null,
   "metadata": {
    "collapsed": true
   },
   "outputs": [],
   "source": [
    "def my_features(ax, subset, res):\n",
    "    # focando em uma região específica \n",
    "    ax.set_extent(subset)\n",
    "    ax.coastlines(res) # aumentando a resolução da linha de costa\n",
    "    \n",
    "    cfeature.BORDERS.scale = res\n",
    "    ax.add_feature(cfeature.BORDERS) # adicionado a divisão de países\n",
    "\n",
    "    states_provinces = cfeature.NaturalEarthFeature( # https://www.naturalearthdata.com/downloads/\n",
    "            category='cultural',\n",
    "            name='admin_1_states_provinces_lines',\n",
    "            scale=res,\n",
    "            facecolor='none')\n",
    "\n",
    "    ax.add_feature(states_provinces, edgecolor='k') # adiciona os estados"
   ]
  },
  {
   "cell_type": "code",
   "execution_count": null,
   "metadata": {},
   "outputs": [],
   "source": [
    "fig, [ax1, ax2, ax3] = plt.subplots(1, 3, figsize=(16,5), subplot_kw={'projection': ccrs.PlateCarree()})\n",
    "\n",
    "my_features(ax1, [-49, -45, -25, -22], '110m')\n",
    "my_features(ax2, [-49, -45, -25, -22], '50m')\n",
    "my_features(ax3, [-49, -45, -25, -22], '10m')\n",
    "\n",
    "axarr = [ax1, ax2, ax3]\n",
    "titles = ['110m', '50m', '10m']\n",
    "\n",
    "for ax, title in zip(axarr, titles):\n",
    "    ax.set_title(title)"
   ]
  },
  {
   "cell_type": "markdown",
   "metadata": {},
   "source": [
    "## Adicionando shapefiles no mapa"
   ]
  },
  {
   "cell_type": "code",
   "execution_count": null,
   "metadata": {
    "collapsed": true
   },
   "outputs": [],
   "source": [
    "from cartopy.io.shapereader import Reader"
   ]
  },
  {
   "cell_type": "code",
   "execution_count": null,
   "metadata": {},
   "outputs": [],
   "source": [
    "fig, ax = plt.subplots(figsize=(5,5), subplot_kw={'projection': ccrs.PlateCarree()})\n",
    "\n",
    "shpname = 'shapefiles/Uruguai-Basin-BAU.shp'\n",
    "shp = Reader(shpname).geometries()\n",
    "\n",
    "my_features(ax, [-60, -46, -35, -25], '10m')\n",
    "ax.add_geometries(shp, ccrs.PlateCarree(), edgecolor='k', facecolor='red', alpha=0.8)"
   ]
  },
  {
   "cell_type": "markdown",
   "metadata": {
    "collapsed": true
   },
   "source": [
    "## Plotando dados em mapas"
   ]
  },
  {
   "cell_type": "code",
   "execution_count": null,
   "metadata": {},
   "outputs": [],
   "source": [
    "fig, ax = plt.subplots(figsize=(6,6), subplot_kw={'projection': ccrs.PlateCarree()})\n",
    "\n",
    "lons, lats = np.meshgrid(ds['lon'], ds['lat'])\n",
    "\n",
    "cf = ax.contourf(lons, lats, ds['tmax'].isel(time=0), cmap='Spectral_r')\n",
    "\n",
    "my_features(ax, [-75, -35, -32, 5], '50m')\n",
    "plt.colorbar(cf, ax=ax)"
   ]
  },
  {
   "cell_type": "markdown",
   "metadata": {},
   "source": [
    "Vamos incluir nesse mapa o campo de vento a 10 metros..."
   ]
  },
  {
   "cell_type": "code",
   "execution_count": null,
   "metadata": {},
   "outputs": [],
   "source": [
    "fig, ax = plt.subplots(figsize=(6,6), subplot_kw={'projection': ccrs.PlateCarree()})\n",
    "\n",
    "lons, lats = np.meshgrid(ds['lon'], ds['lat'])\n",
    "\n",
    "cf = ax.contourf(lons, lats, ds['tmax'].isel(time=0), cmap='Spectral_r')\n",
    "qv = ax.quiver(lons, lats, ds['10u'].isel(time=0), ds['10v'].isel(time=0))\n",
    "\n",
    "my_features(ax, [-75, -35, -32, 5], '50m')\n",
    "plt.colorbar(cf, ax=ax)"
   ]
  },
  {
   "cell_type": "code",
   "execution_count": null,
   "metadata": {},
   "outputs": [],
   "source": [
    "fig, ax = plt.subplots(figsize=(6,6), subplot_kw={'projection': ccrs.PlateCarree()})\n",
    "\n",
    "lons, lats = np.meshgrid(ds['lon'], ds['lat'])\n",
    "\n",
    "skip = 10\n",
    "\n",
    "cf = ax.contourf(lons, lats, ds['tmax'].isel(time=0), cmap='Spectral_r')\n",
    "qv = ax.quiver(lons[::skip, ::skip], lats[::skip, ::skip], \n",
    "               ds['10u'].isel(time=0)[::skip, ::skip], ds['10v'].isel(time=0)[::skip, ::skip])\n",
    "ax.quiverkey(qv, X=0.3, Y=1.1, U=10, label='Quiver key, length = 10 m/s', labelpos='E')\n",
    "\n",
    "my_features(ax, [-75, -35, -32, 5], '50m')\n",
    "plt.colorbar(cf, ax=ax)"
   ]
  },
  {
   "cell_type": "code",
   "execution_count": null,
   "metadata": {},
   "outputs": [],
   "source": [
    "fig, ax = plt.subplots(figsize=(6,6), subplot_kw={'projection': ccrs.PlateCarree()})\n",
    "\n",
    "lons, lats = np.meshgrid(ds['lon'], ds['lat'])\n",
    "\n",
    "cf = ax.contourf(lons, lats, ds['tmax'].isel(time=0), cmap='Spectral_r')\n",
    "ax.streamplot(ds['lon'], ds['lat'], ds['10u'].isel(time=0).values, ds['10v'].isel(time=0).values, color='k')\n",
    "\n",
    "my_features(ax, [-75, -35, -32, 5], '50m')\n",
    "plt.colorbar(cf, ax=ax)"
   ]
  },
  {
   "cell_type": "code",
   "execution_count": null,
   "metadata": {},
   "outputs": [],
   "source": [
    "fig, ax = plt.subplots(figsize=(6,6), subplot_kw={'projection': ccrs.PlateCarree()})\n",
    "\n",
    "lons, lats = np.meshgrid(ds['lon'], ds['lat'])\n",
    "\n",
    "# magnitude\n",
    "magnitude = np.sqrt(ds['10u'] ** 2. + ds['10v'] ** 2.)\n",
    "\n",
    "cf = ax.contourf(lons, lats, ds['tmax'].isel(time=0), cmap='Spectral_r')\n",
    "ax.streamplot(ds['lon'], ds['lat'], ds['10u'].isel(time=0).values, ds['10v'].isel(time=0).values, \n",
    "              color=mag.isel(time=0).values, cmap='Greys')\n",
    "\n",
    "my_features(ax, [-75, -35, -32, 5], '50m')\n",
    "plt.colorbar(cf, ax=ax)"
   ]
  },
  {
   "cell_type": "markdown",
   "metadata": {},
   "source": [
    "## Usando xarray e cartopy para fazer plots"
   ]
  },
  {
   "cell_type": "code",
   "execution_count": null,
   "metadata": {},
   "outputs": [],
   "source": [
    "ds['tmax'].isel(time=slice(0,6)).plot(x='lon', y='lat', col='time', col_wrap=3)"
   ]
  },
  {
   "cell_type": "code",
   "execution_count": null,
   "metadata": {},
   "outputs": [],
   "source": [
    "p = ds['tmax'].isel(time=slice(0,6)).plot(x='lon', y='lat', col='time', col_wrap=3, \n",
    "                                          subplot_kws={'projection': ccrs.PlateCarree()}, \n",
    "                                          cmap='Spectral')\n",
    "\n",
    "for ax in p.axes.flat:\n",
    "    my_features(ax, [-75, -35, -32, 5], '50m')"
   ]
  }
 ],
 "metadata": {
  "kernelspec": {
   "display_name": "Python 2",
   "language": "python",
   "name": "python2"
  },
  "language_info": {
   "codemirror_mode": {
    "name": "ipython",
    "version": 2
   },
   "file_extension": ".py",
   "mimetype": "text/x-python",
   "name": "python",
   "nbconvert_exporter": "python",
   "pygments_lexer": "ipython2",
   "version": "2.7.15"
  }
 },
 "nbformat": 4,
 "nbformat_minor": 2
}
