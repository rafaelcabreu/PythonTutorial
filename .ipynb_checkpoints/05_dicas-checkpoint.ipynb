{
 "cells": [
  {
   "cell_type": "markdown",
   "metadata": {},
   "source": [
    "# Dicas\n",
    "\n",
    "Esse notebook tem a intenção de ensinar algumas dicas básicas que podem ser úteis no dia a dia de quem usa python para manipular os dados meteorológicos. Aqui vamos falar um pouco de:\n",
    "- Organização de scripts\n",
    "- Instalação de pacotes\n",
    "- Ferramentas para a edição de código\n",
    "- Outros pacotes que possam ser úteis para aplicações específicas"
   ]
  },
  {
   "cell_type": "markdown",
   "metadata": {},
   "source": [
    "## Organização de scripts"
   ]
  },
  {
   "cell_type": "markdown",
   "metadata": {},
   "source": [
    "```python\n",
    "import numpy as np\n",
    "import pandas as pd\n",
    "\n",
    "from glob import glob\n",
    "\n",
    "from model.lib.model import AttributionModel\n",
    "\n",
    "def speco(C):\n",
    "    \"\"\"\n",
    "    This function computes eigenvalues and eigenvectors, in descending order\n",
    "    :param C: numpy.ndarray\n",
    "        A p x p symetric real matrix\n",
    "    :return:\n",
    "    P: numpy.ndarray\n",
    "        The eigenvectors (P[:, i] is the ist eigenvector)\n",
    "    D: numpy.ndarray\n",
    "        The eigenvalues as a diagonal matrix\n",
    "    \"\"\"\n",
    "\n",
    "    # Compute eigenvalues and eigenvectors (the eigenvectors are non unique so\n",
    "    # the values may change from one software to another e.g. python, matlab,\n",
    "    # scilab)\n",
    "    D0, P0 = np.linalg.eig(C)\n",
    "\n",
    "    # Take real part (to avoid numeric noise, eg small complex numbers)\n",
    "    if np.max(np.imag(D0)) / np.max(np.real(D0)) > 1e-12:\n",
    "        raise ValueError(\"Matrix is not symmetric\")   \n",
    "\n",
    "    # Check that C is symetric (<=> real eigen-values/-vectors)\n",
    "    P1 = np.real(P0)\n",
    "    D1 = np.real(D0)\n",
    "\n",
    "    # sort eigenvalues in descending order and\n",
    "    # get their indices to order the eigenvector\n",
    "    Do = np.sort(D1)[::-1]\n",
    "    o = np.argsort(D1)[::-1]\n",
    "\n",
    "    P = P1[:, o]\n",
    "    D = np.diag(Do)\n",
    "\n",
    "    return P, D\n",
    "\n",
    "\n",
    "# <adicionar código depois de definir as funções>\n",
    "\n",
    "\n",
    "```"
   ]
  },
  {
   "cell_type": "markdown",
   "metadata": {},
   "source": [
    "<div class=\"alert alert-block alert-info\">\n",
    "<b>Importante</b>\n",
    "\n",
    "<li> Importar primeiro funções básicas em seguida \"subfunções\" e por fim as funções definidas pelo usuário. Cada bloco deve ser separado por um espaço e deve respeitar a ordem alfabética.\n",
    "<li> Documentação! Sempre que escrever uma função escreva que tipos de argumento ela recebe, de que tipo elas são e o que é retornado pela função.\n",
    "<li> Não se esqueça de comentar o código. Isso será útil para você no futuro e para alguma pessoa que possa vir a uar o seu código. Um ponto importante é que comentários não devem ser óbvios!\n",
    "<li> Tente escrever os comentários e documentação em inglês. Isso torna o código universal. Escreva apenas em português se você tem certeza que mais ninguém que não seja do seu país vai usar\n",
    "<br>\n",
    "<br>\n",
    "Muitas informações a mais sobre como deixar seu código padronizado são descritas em: https://pep8.org/\n",
    "</div>"
   ]
  },
  {
   "cell_type": "markdown",
   "metadata": {},
   "source": [
    "## Instalação de pacotes"
   ]
  },
  {
   "cell_type": "markdown",
   "metadata": {},
   "source": [
    "A ferramenta anaconda é útil para a instalação de pacotes já que possui várias bibliotecas pré compiladas que podem ser instaladas apenas com o comando `conda install`. https://www.anaconda.com/\n",
    "\n",
    "Com o anaconda instalado você pode instalar pacotes com o comando:\n",
    "\n",
    "`conda install cartopy`\n",
    "\n",
    "Caso você queira especificar um canal para instalar os pacotes:\n",
    "\n",
    "`conda install -c conda-forge cartopy`\n",
    "\n",
    "Caso o pacote que você tentou instalar não seja encontrado você pode procurar algum canal que possua:\n",
    "\n",
    "```\n",
    "anaconda search -t conda metpy\n",
    "\n",
    "Using Anaconda API: https://api.anaconda.org\n",
    "Run 'anaconda show <USER/PACKAGE>' to get more details:\n",
    "Packages:\n",
    "     Name                      |  Version | Package Types   | Platforms      \n",
    "     ------------------------- |   ------ | --------------- | ---------------\n",
    "     Unidata/MetPy             |    0.8.0 | conda           | linux-64, win-32, win-64, linux-32, osx-64\n",
    "                                          : MetPy is a collection of tools in Python for reading, visualizing and performing calculations with weather data.\n",
    "     conda-forge/metpy         |   0.10.0 | conda           | linux-64, win-32, win-64, osx-64\n",
    "                                          : MetPy is a collection of tools in Python for reading, visualizing and performing calculations with weather data.\n",
    "     scw/metpy                 |   0.10.0 | conda           | win-64         \n",
    "                                          : A collection of tools for reading, visualizing and analyzing weather data.\n",
    "Found 3 packages\n",
    "\n",
    "```\n",
    "\n",
    "E então instalar selecionando o canal que você quer:\n",
    "\n",
    "`conda install -c conda-forge metpy`\n",
    "\n",
    "Para remover um pacote:\n",
    "\n",
    "`conda remove metpy`"
   ]
  },
  {
   "cell_type": "markdown",
   "metadata": {},
   "source": [
    "A criação de ambientes de desenvolvimento também é interessante:\n",
    "\n",
    "`conda create --name myenv python=2.7`\n",
    "\n",
    "Para criar um ambiente vazio (sem nenhum pacote) ou para criar um ambiente com todos os pacotes do anaconda:\n",
    "\n",
    "`conda create --name myenv anaconda python=2.7`\n",
    "\n",
    "Para ativar um ambiente:\n",
    "\n",
    "`source activate myenv`\n",
    "\n",
    "Para desativar:\n",
    "\n",
    "`source deactivate myenv`"
   ]
  },
  {
   "cell_type": "markdown",
   "metadata": {},
   "source": [
    "<div class=\"alert alert-block alert-info\">\n",
    "<b>Importante</b>\n",
    "<br>\n",
    "A criação de ambientes é interessante para organizar projetos que dependam de um conjunto de bibliotecas diferentes. Outra utilidade é instalar pacotes que possam ser incompatíveis com outros de um determinado ambiente, evitando que esse ambiente seja modificado (pacotes atualizados ou desatualizados).\n",
    "</div>"
   ]
  },
  {
   "cell_type": "markdown",
   "metadata": {},
   "source": [
    "## Ferramentas para edição de código\n",
    "\n",
    "- PyCharm https://www.jetbrains.com/pycharm/\n",
    "- Spyder https://www.spyder-ide.org/\n",
    "- Sublime https://www.sublimetext.com/\n",
    "- Jupyter Notebook"
   ]
  },
  {
   "cell_type": "markdown",
   "metadata": {},
   "source": [
    "## Outros pacotes\n",
    "\n",
    "- multiprocessing (processamento em paralelo) https://docs.python.org/2/library/multiprocessing.html\n",
    "- Keras (machine learning) https://keras.io/\n",
    "- Scikit-Learn (machine learning) https://scikit-learn.org/\n",
    "- Statsmodels (estatística e análise de séries temporais) https://www.statsmodels.org/stable/index.html\n",
    "- Seaborn (visualização) https://seaborn.pydata.org/\n",
    "- F2PY (híbrido Fortran/Python) https://docs.scipy.org/doc/numpy/f2py/\n",
    "- Metpy (funções meteorológicas úteis) https://unidata.github.io/MetPy/latest/index.html\n",
    "- wrf-python (funções úteis para lidar com saída do modelo WRF) https://wrf-python.readthedocs.io/en/latest/\n",
    "- Salem (Plotar mapas - possui algumas funções interessantes para lidar com shapefiles e para ler dados do WRF) https://salem.readthedocs.io/en/v0.2.3/\n",
    "- Luigi/Airflow (Gerenciamento de pipelines de atividades) https://luigi.readthedocs.io/en/stable/ e https://airflow.apache.org/\n",
    "\n",
    "Muitos outros..."
   ]
  },
  {
   "cell_type": "markdown",
   "metadata": {},
   "source": [
    "## Vídeos úteis\n",
    "\n",
    "Transforming Code into Scientific Contributions | SciPy Japan 2019\n",
    "\n",
    "[![IMAGE ALT TEXT](http://img.youtube.com/vi/8HnvYTvjDXM/0.jpg)](https://www.youtube.com/watch?v=8HnvYTvjDXM \"Transforming Code into Scientific Contributions | SciPy Japan 2019\")\n",
    "\n",
    "MetPy Mondays\n",
    "\n",
    "[![IMAGE ALT TEXT](http://img.youtube.com/vi/i_P98aBiTsg/0.jpg)](https://www.youtube.com/watch?v=i_P98aBiTsg \"MetPy Mondays #82 - Multiprocessing\")\n"
   ]
  },
  {
   "cell_type": "markdown",
   "metadata": {
    "collapsed": true
   },
   "source": [
    "Dica final, use e abuse do Stack Overflow! Se você teve uma dúvida há grande chances de ela já ter sido perguntada no site\n",
    "\n",
    "![logo](data:image/png;base64,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)"
   ]
  }
 ],
 "metadata": {
  "kernelspec": {
   "display_name": "Python 2",
   "language": "python",
   "name": "python2"
  },
  "language_info": {
   "codemirror_mode": {
    "name": "ipython",
    "version": 2
   },
   "file_extension": ".py",
   "mimetype": "text/x-python",
   "name": "python",
   "nbconvert_exporter": "python",
   "pygments_lexer": "ipython2",
   "version": "2.7.15"
  }
 },
 "nbformat": 4,
 "nbformat_minor": 2
}
