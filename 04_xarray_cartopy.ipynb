{
 "cells": [
  {
   "cell_type": "markdown",
   "metadata": {},
   "source": [
    "# Xarray\n",
    "\n",
    "`xarray` (antigamente conhecido como xray) é um pacote Python que faz trabalhar com arrays multi-dimensionais simples, efficente e divertido!\n",
    "\n",
    "Arrays multi-dimensionais são uma parte essencial em computação científica. Eles são encontrados em uma grande variedade de áreas como física, astronômia, geociências, e etc. No Python, NumPy proporciona a estrutura fundamental para trabalhar com arrays multi-dimensionais. No entanto, geralmente os conjuntos de dados são mais do que números puros; eles possuem nomes (labels) que encorporam como o array é mapeado no espaço, tempo, etc.\n",
    "\n",
    "Introduzindo dimensões, coordenadas e atributos em cima de arrays NumPy, xarray é capaz de entender esses labels e usa-lo para proporcionar uma experiência mais intuitiva, concisa e menos proícia para erros. Xarray também proporciona uma variedade de funções para análise de dados e visualização. Xarray foi inspirado e usa muito do que foi desenvolvido para o pandas. Xarray pode ler e escrever dados dos formatos mais comuns e é particularmente feito para funcionar bem com arquivos netCDF."
   ]
  },
  {
   "cell_type": "code",
   "execution_count": 4,
   "metadata": {
    "collapsed": true
   },
   "outputs": [],
   "source": [
    "import numpy as np\n",
    "import pandas as pd\n",
    "import xarray as xr\n",
    "\n",
    "import matplotlib.pyplot as plt\n",
    "%matplotlib inline"
   ]
  },
  {
   "cell_type": "markdown",
   "metadata": {},
   "source": [
    "## Estrutura Básica\n",
    "\n",
    "`xarray.DataArray` possue as seguintes propriedades:\n",
    "- `values`: Um numpy.ndarray com os valores do array\n",
    "- `dims`: Nome das dimensões para cada eixo (e.g., ('x', 'y', 'z'))\n",
    "- `coords`: Um dicionário com as coordenadas para cada eixo (e.g., Array unidimensional, objeto tipo datetime ou strings)\n",
    "- `attrs`: Dicionário para os metadados arbitrários."
   ]
  },
  {
   "cell_type": "code",
   "execution_count": 5,
   "metadata": {},
   "outputs": [
    {
     "data": {
      "text/plain": [
       "array([[0.97291296, 0.27082253, 0.60137037],\n",
       "       [0.17137246, 0.01354465, 0.74579837],\n",
       "       [0.18750216, 0.57824891, 0.73751957],\n",
       "       [0.80271047, 0.38039223, 0.44806883]])"
      ]
     },
     "execution_count": 5,
     "metadata": {},
     "output_type": "execute_result"
    }
   ],
   "source": [
    "data = np.random.rand(4, 3)\n",
    "\n",
    "data"
   ]
  },
  {
   "cell_type": "code",
   "execution_count": 18,
   "metadata": {},
   "outputs": [
    {
     "data": {
      "text/plain": [
       "<xarray.DataArray (time: 4, space: 3)>\n",
       "array([[0.972913, 0.270823, 0.60137 ],\n",
       "       [0.171372, 0.013545, 0.745798],\n",
       "       [0.187502, 0.578249, 0.73752 ],\n",
       "       [0.80271 , 0.380392, 0.448069]])\n",
       "Coordinates:\n",
       "  * time     (time) datetime64[ns] 2000-01-01 2000-01-02 2000-01-03 2000-01-04\n",
       "  * space    (space) |S2 'IA' 'IL' 'IN'"
      ]
     },
     "execution_count": 18,
     "metadata": {},
     "output_type": "execute_result"
    }
   ],
   "source": [
    "locs = ['IA', 'IL', 'IN']\n",
    "\n",
    "times = pd.date_range('2000-01-01', periods=4)\n",
    "\n",
    "foo = xr.DataArray(data, coords=[times, locs], dims=['time', 'space'])\n",
    "\n",
    "foo"
   ]
  },
  {
   "cell_type": "markdown",
   "metadata": {},
   "source": [
    "Também pode ser criado da seguinte maneira:"
   ]
  },
  {
   "cell_type": "code",
   "execution_count": 19,
   "metadata": {},
   "outputs": [
    {
     "data": {
      "text/plain": [
       "<xarray.DataArray (time: 4, space: 3)>\n",
       "array([[0.972913, 0.270823, 0.60137 ],\n",
       "       [0.171372, 0.013545, 0.745798],\n",
       "       [0.187502, 0.578249, 0.73752 ],\n",
       "       [0.80271 , 0.380392, 0.448069]])\n",
       "Coordinates:\n",
       "  * time     (time) datetime64[ns] 2000-01-01 2000-01-02 2000-01-03 2000-01-04\n",
       "  * space    (space) |S2 'IA' 'IL' 'IN'"
      ]
     },
     "execution_count": 19,
     "metadata": {},
     "output_type": "execute_result"
    }
   ],
   "source": [
    "xr.DataArray(data, coords=[('time', times), ('space', locs)])"
   ]
  },
  {
   "cell_type": "code",
   "execution_count": 20,
   "metadata": {},
   "outputs": [
    {
     "data": {
      "text/plain": [
       "array([[0.97291296, 0.27082253, 0.60137037],\n",
       "       [0.17137246, 0.01354465, 0.74579837],\n",
       "       [0.18750216, 0.57824891, 0.73751957],\n",
       "       [0.80271047, 0.38039223, 0.44806883]])"
      ]
     },
     "execution_count": 20,
     "metadata": {},
     "output_type": "execute_result"
    }
   ],
   "source": [
    "foo.values"
   ]
  },
  {
   "cell_type": "code",
   "execution_count": 21,
   "metadata": {},
   "outputs": [
    {
     "data": {
      "text/plain": [
       "('time', 'space')"
      ]
     },
     "execution_count": 21,
     "metadata": {},
     "output_type": "execute_result"
    }
   ],
   "source": [
    "foo.dims"
   ]
  },
  {
   "cell_type": "code",
   "execution_count": 22,
   "metadata": {},
   "outputs": [
    {
     "data": {
      "text/plain": [
       "Coordinates:\n",
       "  * time     (time) datetime64[ns] 2000-01-01 2000-01-02 2000-01-03 2000-01-04\n",
       "  * space    (space) |S2 'IA' 'IL' 'IN'"
      ]
     },
     "execution_count": 22,
     "metadata": {},
     "output_type": "execute_result"
    }
   ],
   "source": [
    "foo.coords"
   ]
  },
  {
   "cell_type": "code",
   "execution_count": 23,
   "metadata": {},
   "outputs": [
    {
     "data": {
      "text/plain": [
       "OrderedDict()"
      ]
     },
     "execution_count": 23,
     "metadata": {},
     "output_type": "execute_result"
    }
   ],
   "source": [
    "foo.attrs"
   ]
  },
  {
   "cell_type": "code",
   "execution_count": 24,
   "metadata": {
    "collapsed": true
   },
   "outputs": [],
   "source": [
    "foo.name = 'foo'\n",
    "\n",
    "foo.attrs = {'created_by': 'Batman'}"
   ]
  },
  {
   "cell_type": "code",
   "execution_count": 25,
   "metadata": {},
   "outputs": [
    {
     "data": {
      "text/plain": [
       "<xarray.DataArray 'foo' (time: 4, space: 3)>\n",
       "array([[0.972913, 0.270823, 0.60137 ],\n",
       "       [0.171372, 0.013545, 0.745798],\n",
       "       [0.187502, 0.578249, 0.73752 ],\n",
       "       [0.80271 , 0.380392, 0.448069]])\n",
       "Coordinates:\n",
       "  * time     (time) datetime64[ns] 2000-01-01 2000-01-02 2000-01-03 2000-01-04\n",
       "  * space    (space) |S2 'IA' 'IL' 'IN'\n",
       "Attributes:\n",
       "    created_by:  Batman"
      ]
     },
     "execution_count": 25,
     "metadata": {},
     "output_type": "execute_result"
    }
   ],
   "source": [
    "foo"
   ]
  },
  {
   "attachments": {},
   "cell_type": "markdown",
   "metadata": {},
   "source": [
    "`xarray.Dataset` é o equivalente do pandas DataFrame. Possui as seguintes propriedades:\n",
    "\n",
    "- `dims`: Um dicionário mapeando as coordenadas e o tamanho de cada coordenada (e.g., {'x': 6, 'y': 6, 'time': 8})\n",
    "- `data_vars`: Um dicionário com variáveis em DataArrays\n",
    "- `coords`: Um dicionário com as coordenadas para cada eixo (e.g., Array unidimensional, objeto tipo datetime ou strings)\n",
    "- `attrs`: Dicionário para os metadados arbitrários.\n",
    "\n",
    "![logo](http://xarray.pydata.org/en/stable/_images/dataset-diagram.png)"
   ]
  },
  {
   "cell_type": "code",
   "execution_count": 31,
   "metadata": {},
   "outputs": [
    {
     "data": {
      "text/plain": [
       "<xarray.Dataset>\n",
       "Dimensions:        (time: 3, x: 2, y: 2)\n",
       "Coordinates:\n",
       "    lat            (x, y) float64 42.25 42.21 42.63 42.59\n",
       "    lon            (x, y) float64 -99.83 -99.32 -99.79 -99.23\n",
       "  * time           (time) datetime64[ns] 2014-09-06 2014-09-07 2014-09-08\n",
       "Dimensions without coordinates: x, y\n",
       "Data variables:\n",
       "    precipitation  (x, y, time) float64 1.237 7.113 6.219 0.9706 0.454 8.65 ...\n",
       "    temperature    (x, y, time) float64 3.798 34.16 3.082 11.81 15.36 14.59 ..."
      ]
     },
     "execution_count": 31,
     "metadata": {},
     "output_type": "execute_result"
    }
   ],
   "source": [
    "temp = 15 + 8 * np.random.randn(2, 2, 3)\n",
    "\n",
    "precip = 10 * np.random.rand(2, 2, 3)\n",
    "\n",
    "lon = [[-99.83, -99.32], [-99.79, -99.23]]\n",
    "\n",
    "lat = [[42.25, 42.21], [42.63, 42.59]]\n",
    "\n",
    "ds = xr.Dataset({'temperature': (['x', 'y', 'time'],  temp),\n",
    "                 'precipitation': (['x', 'y', 'time'], precip)},\n",
    "                 coords={'lon': (['x', 'y'], lon),\n",
    "                         'lat': (['x', 'y'], lat),\n",
    "                         'time': pd.date_range('2014-09-06', periods=3)})\n",
    "\n",
    "ds"
   ]
  },
  {
   "cell_type": "code",
   "execution_count": 32,
   "metadata": {},
   "outputs": [
    {
     "data": {
      "text/plain": [
       "<xarray.Dataset>\n",
       "Dimensions:  (space: 3, time: 4)\n",
       "Coordinates:\n",
       "  * time     (time) datetime64[ns] 2000-01-01 2000-01-02 2000-01-03 2000-01-04\n",
       "  * space    (space) |S2 'IA' 'IL' 'IN'\n",
       "Data variables:\n",
       "    bar      (time, space) float64 0.9729 0.2708 0.6014 0.1714 0.01354 ..."
      ]
     },
     "execution_count": 32,
     "metadata": {},
     "output_type": "execute_result"
    }
   ],
   "source": [
    "xr.Dataset({'bar': foo})"
   ]
  },
  {
   "cell_type": "code",
   "execution_count": 33,
   "metadata": {},
   "outputs": [
    {
     "data": {
      "text/plain": [
       "<xarray.DataArray 'temperature' (x: 2, y: 2, time: 3)>\n",
       "array([[[ 3.798121, 34.155227,  3.082153],\n",
       "        [11.806305, 15.360989, 14.591938]],\n",
       "\n",
       "       [[19.976821, 31.92528 , 25.196079],\n",
       "        [18.497746, 14.410664, 12.797386]]])\n",
       "Coordinates:\n",
       "    lat      (x, y) float64 42.25 42.21 42.63 42.59\n",
       "    lon      (x, y) float64 -99.83 -99.32 -99.79 -99.23\n",
       "  * time     (time) datetime64[ns] 2014-09-06 2014-09-07 2014-09-08\n",
       "Dimensions without coordinates: x, y"
      ]
     },
     "execution_count": 33,
     "metadata": {},
     "output_type": "execute_result"
    }
   ],
   "source": [
    "ds['temperature']"
   ]
  },
  {
   "cell_type": "code",
   "execution_count": 34,
   "metadata": {},
   "outputs": [
    {
     "data": {
      "text/plain": [
       "Data variables:\n",
       "    precipitation  (x, y, time) float64 1.237 7.113 6.219 0.9706 0.454 8.65 ...\n",
       "    temperature    (x, y, time) float64 3.798 34.16 3.082 11.81 15.36 14.59 ..."
      ]
     },
     "execution_count": 34,
     "metadata": {},
     "output_type": "execute_result"
    }
   ],
   "source": [
    "ds.data_vars"
   ]
  },
  {
   "cell_type": "markdown",
   "metadata": {},
   "source": [
    "## Trabalhando com um netCDF\n",
    "\n",
    "Vamos abrir agora um arquivo netCDF de exemplo para mostrar como tirar proveito das facilidades do `xarray`."
   ]
  },
  {
   "cell_type": "code",
   "execution_count": 35,
   "metadata": {},
   "outputs": [
    {
     "data": {
      "text/plain": [
       "<xarray.Dataset>\n",
       "Dimensions:  (lat: 165, lon: 161, time: 92)\n",
       "Coordinates:\n",
       "  * time     (time) datetime64[ns] 2018-12-27T21:00:00 2018-12-28 ...\n",
       "  * lat      (lat) float64 -35.0 -34.75 -34.5 -34.25 -34.0 -33.75 -33.5 ...\n",
       "  * lon      (lon) float64 -75.0 -74.75 -74.5 -74.25 -74.0 -73.75 -73.5 ...\n",
       "Data variables:\n",
       "    prec     (time, lat, lon) float64 0.0 0.0 0.0 0.0 0.0 0.0 0.0 0.0 0.0 ...\n",
       "    tmax     (time, lat, lon) float64 289.4 289.3 289.3 289.3 289.2 289.2 ...\n",
       "    tmin     (time, lat, lon) float64 289.2 289.2 289.3 289.2 289.2 289.2 ...\n",
       "    10u      (time, lat, lon) float64 2.438 2.748 2.998 3.248 3.658 4.308 ...\n",
       "    10v      (time, lat, lon) float64 9.484 9.574 9.624 9.734 9.954 10.12 ..."
      ]
     },
     "execution_count": 35,
     "metadata": {},
     "output_type": "execute_result"
    }
   ],
   "source": [
    "ds = xr.open_dataset('data/xarray_teste.nc')\n",
    "\n",
    "ds"
   ]
  },
  {
   "cell_type": "code",
   "execution_count": 38,
   "metadata": {},
   "outputs": [
    {
     "data": {
      "text/plain": [
       "<xarray.DataArray 'time' (time: 92)>\n",
       "array(['2018-12-27T21:00:00.000000000', '2018-12-28T00:00:00.000000000',\n",
       "       '2018-12-28T03:00:00.000000000', '2018-12-28T06:00:00.000000000',\n",
       "       '2018-12-28T09:00:00.000000000', '2018-12-28T12:00:00.000000000',\n",
       "       '2018-12-28T15:00:00.000000000', '2018-12-28T18:00:00.000000000',\n",
       "       '2018-12-28T21:00:00.000000000', '2018-12-29T00:00:00.000000000',\n",
       "       '2018-12-29T03:00:00.000000000', '2018-12-29T06:00:00.000000000',\n",
       "       '2018-12-29T09:00:00.000000000', '2018-12-29T12:00:00.000000000',\n",
       "       '2018-12-29T15:00:00.000000000', '2018-12-29T18:00:00.000000000',\n",
       "       '2018-12-29T21:00:00.000000000', '2018-12-30T00:00:00.000000000',\n",
       "       '2018-12-30T03:00:00.000000000', '2018-12-30T06:00:00.000000000',\n",
       "       '2018-12-30T09:00:00.000000000', '2018-12-30T12:00:00.000000000',\n",
       "       '2018-12-30T15:00:00.000000000', '2018-12-30T18:00:00.000000000',\n",
       "       '2018-12-30T21:00:00.000000000', '2018-12-31T00:00:00.000000000',\n",
       "       '2018-12-31T03:00:00.000000000', '2018-12-31T06:00:00.000000000',\n",
       "       '2018-12-31T09:00:00.000000000', '2018-12-31T12:00:00.000000000',\n",
       "       '2018-12-31T15:00:00.000000000', '2018-12-31T18:00:00.000000000',\n",
       "       '2018-12-31T21:00:00.000000000', '2019-01-01T00:00:00.000000000',\n",
       "       '2019-01-01T03:00:00.000000000', '2019-01-01T06:00:00.000000000',\n",
       "       '2019-01-01T09:00:00.000000000', '2019-01-01T12:00:00.000000000',\n",
       "       '2019-01-01T15:00:00.000000000', '2019-01-01T18:00:00.000000000',\n",
       "       '2019-01-01T21:00:00.000000000', '2019-01-02T00:00:00.000000000',\n",
       "       '2019-01-02T03:00:00.000000000', '2019-01-02T06:00:00.000000000',\n",
       "       '2019-01-02T09:00:00.000000000', '2019-01-02T12:00:00.000000000',\n",
       "       '2019-01-02T15:00:00.000000000', '2019-01-02T18:00:00.000000000',\n",
       "       '2019-01-02T21:00:00.000000000', '2019-01-03T00:00:00.000000000',\n",
       "       '2019-01-03T03:00:00.000000000', '2019-01-03T06:00:00.000000000',\n",
       "       '2019-01-03T09:00:00.000000000', '2019-01-03T12:00:00.000000000',\n",
       "       '2019-01-03T15:00:00.000000000', '2019-01-03T18:00:00.000000000',\n",
       "       '2019-01-03T21:00:00.000000000', '2019-01-04T00:00:00.000000000',\n",
       "       '2019-01-04T03:00:00.000000000', '2019-01-04T06:00:00.000000000',\n",
       "       '2019-01-04T09:00:00.000000000', '2019-01-04T12:00:00.000000000',\n",
       "       '2019-01-04T15:00:00.000000000', '2019-01-04T18:00:00.000000000',\n",
       "       '2019-01-04T21:00:00.000000000', '2019-01-05T00:00:00.000000000',\n",
       "       '2019-01-05T03:00:00.000000000', '2019-01-05T06:00:00.000000000',\n",
       "       '2019-01-05T09:00:00.000000000', '2019-01-05T12:00:00.000000000',\n",
       "       '2019-01-05T15:00:00.000000000', '2019-01-05T18:00:00.000000000',\n",
       "       '2019-01-05T21:00:00.000000000', '2019-01-06T00:00:00.000000000',\n",
       "       '2019-01-06T03:00:00.000000000', '2019-01-06T06:00:00.000000000',\n",
       "       '2019-01-06T09:00:00.000000000', '2019-01-06T12:00:00.000000000',\n",
       "       '2019-01-06T15:00:00.000000000', '2019-01-06T18:00:00.000000000',\n",
       "       '2019-01-07T06:00:00.000000000', '2019-01-07T18:00:00.000000000',\n",
       "       '2019-01-08T06:00:00.000000000', '2019-01-08T18:00:00.000000000',\n",
       "       '2019-01-09T06:00:00.000000000', '2019-01-09T18:00:00.000000000',\n",
       "       '2019-01-10T06:00:00.000000000', '2019-01-10T18:00:00.000000000',\n",
       "       '2019-01-11T06:00:00.000000000', '2019-01-11T18:00:00.000000000',\n",
       "       '2019-01-12T06:00:00.000000000', '2019-01-12T18:00:00.000000000'],\n",
       "      dtype='datetime64[ns]')\n",
       "Coordinates:\n",
       "  * time     (time) datetime64[ns] 2018-12-27T21:00:00 2018-12-28 ...\n",
       "Attributes:\n",
       "    standard_name:  time\n",
       "    axis:           T"
      ]
     },
     "execution_count": 38,
     "metadata": {},
     "output_type": "execute_result"
    }
   ],
   "source": [
    "ds.time"
   ]
  },
  {
   "cell_type": "code",
   "execution_count": 45,
   "metadata": {},
   "outputs": [
    {
     "data": {
      "text/plain": [
       "<xarray.Dataset>\n",
       "Dimensions:  (lat: 165, lon: 161, time: 40)\n",
       "Coordinates:\n",
       "  * time     (time) datetime64[ns] 2019-01-01 2019-01-01T03:00:00 ...\n",
       "  * lat      (lat) float64 -35.0 -34.75 -34.5 -34.25 -34.0 -33.75 -33.5 ...\n",
       "  * lon      (lon) float64 -75.0 -74.75 -74.5 -74.25 -74.0 -73.75 -73.5 ...\n",
       "Data variables:\n",
       "    prec     (time, lat, lon) float64 0.0 0.0 0.0 0.0 0.0 0.0 0.0 0.0 0.0 ...\n",
       "    tmax     (time, lat, lon) float64 290.0 290.0 290.0 290.0 290.0 290.0 ...\n",
       "    tmin     (time, lat, lon) float64 289.9 289.9 289.9 289.9 289.9 289.8 ...\n",
       "    10u      (time, lat, lon) float64 2.99 3.13 3.29 3.44 3.59 3.72 3.71 ...\n",
       "    10v      (time, lat, lon) float64 7.711 8.161 8.651 9.221 9.771 10.1 ..."
      ]
     },
     "execution_count": 45,
     "metadata": {},
     "output_type": "execute_result"
    }
   ],
   "source": [
    "ds.sel(time=slice('2019-01-01', '2019-01-05'))"
   ]
  },
  {
   "cell_type": "code",
   "execution_count": 46,
   "metadata": {},
   "outputs": [
    {
     "data": {
      "text/plain": [
       "<xarray.Dataset>\n",
       "Dimensions:  (lat: 165, lon: 161)\n",
       "Coordinates:\n",
       "    time     datetime64[ns] 2018-12-27T21:00:00\n",
       "  * lat      (lat) float64 -35.0 -34.75 -34.5 -34.25 -34.0 -33.75 -33.5 ...\n",
       "  * lon      (lon) float64 -75.0 -74.75 -74.5 -74.25 -74.0 -73.75 -73.5 ...\n",
       "Data variables:\n",
       "    prec     (lat, lon) float64 0.0 0.0 0.0 0.0 0.0 0.0 0.0 0.0 0.0 0.0 0.0 ...\n",
       "    tmax     (lat, lon) float64 289.4 289.3 289.3 289.3 289.2 289.2 289.4 ...\n",
       "    tmin     (lat, lon) float64 289.2 289.2 289.3 289.2 289.2 289.2 289.3 ...\n",
       "    10u      (lat, lon) float64 2.438 2.748 2.998 3.248 3.658 4.308 4.878 ...\n",
       "    10v      (lat, lon) float64 9.484 9.574 9.624 9.734 9.954 10.12 10.05 ..."
      ]
     },
     "execution_count": 46,
     "metadata": {},
     "output_type": "execute_result"
    }
   ],
   "source": [
    "ds.isel(time=0)"
   ]
  },
  {
   "cell_type": "code",
   "execution_count": 49,
   "metadata": {},
   "outputs": [
    {
     "ename": "KeyError",
     "evalue": "-23.6821604",
     "output_type": "error",
     "traceback": [
      "\u001b[0;31m---------------------------------------------------------------------------\u001b[0m",
      "\u001b[0;31mKeyError\u001b[0m                                  Traceback (most recent call last)",
      "\u001b[0;32m<ipython-input-49-2afd8b196ed2>\u001b[0m in \u001b[0;36m<module>\u001b[0;34m()\u001b[0m\n\u001b[0;32m----> 1\u001b[0;31m \u001b[0mds\u001b[0m\u001b[0;34m.\u001b[0m\u001b[0msel\u001b[0m\u001b[0;34m(\u001b[0m\u001b[0mlat\u001b[0m\u001b[0;34m=\u001b[0m\u001b[0;34m-\u001b[0m\u001b[0;36m23.6821604\u001b[0m\u001b[0;34m,\u001b[0m \u001b[0mlon\u001b[0m\u001b[0;34m=\u001b[0m\u001b[0;34m-\u001b[0m\u001b[0;36m46.8755003\u001b[0m\u001b[0;34m)\u001b[0m \u001b[0;31m# São Paulo\u001b[0m\u001b[0;34m\u001b[0m\u001b[0m\n\u001b[0m",
      "\u001b[0;32m/home/rafael/anaconda/envs/middleearth/lib/python2.7/site-packages/xarray/core/dataset.pyc\u001b[0m in \u001b[0;36msel\u001b[0;34m(self, method, tolerance, drop, **indexers)\u001b[0m\n\u001b[1;32m   1204\u001b[0m         \"\"\"\n\u001b[1;32m   1205\u001b[0m         pos_indexers, new_indexes = indexing.remap_label_indexers(\n\u001b[0;32m-> 1206\u001b[0;31m             \u001b[0mself\u001b[0m\u001b[0;34m,\u001b[0m \u001b[0mindexers\u001b[0m\u001b[0;34m,\u001b[0m \u001b[0mmethod\u001b[0m\u001b[0;34m=\u001b[0m\u001b[0mmethod\u001b[0m\u001b[0;34m,\u001b[0m \u001b[0mtolerance\u001b[0m\u001b[0;34m=\u001b[0m\u001b[0mtolerance\u001b[0m\u001b[0;34m\u001b[0m\u001b[0m\n\u001b[0m\u001b[1;32m   1207\u001b[0m         )\n\u001b[1;32m   1208\u001b[0m         \u001b[0mresult\u001b[0m \u001b[0;34m=\u001b[0m \u001b[0mself\u001b[0m\u001b[0;34m.\u001b[0m\u001b[0misel\u001b[0m\u001b[0;34m(\u001b[0m\u001b[0mdrop\u001b[0m\u001b[0;34m=\u001b[0m\u001b[0mdrop\u001b[0m\u001b[0;34m,\u001b[0m \u001b[0;34m**\u001b[0m\u001b[0mpos_indexers\u001b[0m\u001b[0;34m)\u001b[0m\u001b[0;34m\u001b[0m\u001b[0m\n",
      "\u001b[0;32m/home/rafael/anaconda/envs/middleearth/lib/python2.7/site-packages/xarray/core/indexing.pyc\u001b[0m in \u001b[0;36mremap_label_indexers\u001b[0;34m(data_obj, indexers, method, tolerance)\u001b[0m\n\u001b[1;32m    288\u001b[0m         \u001b[0;32melse\u001b[0m\u001b[0;34m:\u001b[0m\u001b[0;34m\u001b[0m\u001b[0m\n\u001b[1;32m    289\u001b[0m             idxr, new_idx = convert_label_indexer(index, label,\n\u001b[0;32m--> 290\u001b[0;31m                                                   dim, method, tolerance)\n\u001b[0m\u001b[1;32m    291\u001b[0m             \u001b[0mpos_indexers\u001b[0m\u001b[0;34m[\u001b[0m\u001b[0mdim\u001b[0m\u001b[0;34m]\u001b[0m \u001b[0;34m=\u001b[0m \u001b[0midxr\u001b[0m\u001b[0;34m\u001b[0m\u001b[0m\n\u001b[1;32m    292\u001b[0m             \u001b[0;32mif\u001b[0m \u001b[0mnew_idx\u001b[0m \u001b[0;32mis\u001b[0m \u001b[0;32mnot\u001b[0m \u001b[0mNone\u001b[0m\u001b[0;34m:\u001b[0m\u001b[0;34m\u001b[0m\u001b[0m\n",
      "\u001b[0;32m/home/rafael/anaconda/envs/middleearth/lib/python2.7/site-packages/xarray/core/indexing.pyc\u001b[0m in \u001b[0;36mconvert_label_indexer\u001b[0;34m(index, label, index_name, method, tolerance)\u001b[0m\n\u001b[1;32m    220\u001b[0m                 \u001b[0mindexer\u001b[0m\u001b[0;34m,\u001b[0m \u001b[0mnew_index\u001b[0m \u001b[0;34m=\u001b[0m \u001b[0mindex\u001b[0m\u001b[0;34m.\u001b[0m\u001b[0mget_loc_level\u001b[0m\u001b[0;34m(\u001b[0m\u001b[0mlabel\u001b[0m\u001b[0;34m.\u001b[0m\u001b[0mitem\u001b[0m\u001b[0;34m(\u001b[0m\u001b[0;34m)\u001b[0m\u001b[0;34m,\u001b[0m \u001b[0mlevel\u001b[0m\u001b[0;34m=\u001b[0m\u001b[0;36m0\u001b[0m\u001b[0;34m)\u001b[0m\u001b[0;34m\u001b[0m\u001b[0m\n\u001b[1;32m    221\u001b[0m             \u001b[0;32melse\u001b[0m\u001b[0;34m:\u001b[0m\u001b[0;34m\u001b[0m\u001b[0m\n\u001b[0;32m--> 222\u001b[0;31m                 \u001b[0mindexer\u001b[0m \u001b[0;34m=\u001b[0m \u001b[0mget_loc\u001b[0m\u001b[0;34m(\u001b[0m\u001b[0mindex\u001b[0m\u001b[0;34m,\u001b[0m \u001b[0mlabel\u001b[0m\u001b[0;34m.\u001b[0m\u001b[0mitem\u001b[0m\u001b[0;34m(\u001b[0m\u001b[0;34m)\u001b[0m\u001b[0;34m,\u001b[0m \u001b[0mmethod\u001b[0m\u001b[0;34m,\u001b[0m \u001b[0mtolerance\u001b[0m\u001b[0;34m)\u001b[0m\u001b[0;34m\u001b[0m\u001b[0m\n\u001b[0m\u001b[1;32m    223\u001b[0m         \u001b[0;32melif\u001b[0m \u001b[0mlabel\u001b[0m\u001b[0;34m.\u001b[0m\u001b[0mdtype\u001b[0m\u001b[0;34m.\u001b[0m\u001b[0mkind\u001b[0m \u001b[0;34m==\u001b[0m \u001b[0;34m'b'\u001b[0m\u001b[0;34m:\u001b[0m\u001b[0;34m\u001b[0m\u001b[0m\n\u001b[1;32m    224\u001b[0m             \u001b[0mindexer\u001b[0m\u001b[0;34m,\u001b[0m \u001b[0;34m=\u001b[0m \u001b[0mnp\u001b[0m\u001b[0;34m.\u001b[0m\u001b[0mnonzero\u001b[0m\u001b[0;34m(\u001b[0m\u001b[0mlabel\u001b[0m\u001b[0;34m)\u001b[0m\u001b[0;34m\u001b[0m\u001b[0m\n",
      "\u001b[0;32m/home/rafael/anaconda/envs/middleearth/lib/python2.7/site-packages/xarray/core/indexing.pyc\u001b[0m in \u001b[0;36mget_loc\u001b[0;34m(index, label, method, tolerance)\u001b[0m\n\u001b[1;32m    161\u001b[0m \u001b[0;32mdef\u001b[0m \u001b[0mget_loc\u001b[0m\u001b[0;34m(\u001b[0m\u001b[0mindex\u001b[0m\u001b[0;34m,\u001b[0m \u001b[0mlabel\u001b[0m\u001b[0;34m,\u001b[0m \u001b[0mmethod\u001b[0m\u001b[0;34m=\u001b[0m\u001b[0mNone\u001b[0m\u001b[0;34m,\u001b[0m \u001b[0mtolerance\u001b[0m\u001b[0;34m=\u001b[0m\u001b[0mNone\u001b[0m\u001b[0;34m)\u001b[0m\u001b[0;34m:\u001b[0m\u001b[0;34m\u001b[0m\u001b[0m\n\u001b[1;32m    162\u001b[0m     \u001b[0mkwargs\u001b[0m \u001b[0;34m=\u001b[0m \u001b[0m_index_method_kwargs\u001b[0m\u001b[0;34m(\u001b[0m\u001b[0mmethod\u001b[0m\u001b[0;34m,\u001b[0m \u001b[0mtolerance\u001b[0m\u001b[0;34m)\u001b[0m\u001b[0;34m\u001b[0m\u001b[0m\n\u001b[0;32m--> 163\u001b[0;31m     \u001b[0;32mreturn\u001b[0m \u001b[0mindex\u001b[0m\u001b[0;34m.\u001b[0m\u001b[0mget_loc\u001b[0m\u001b[0;34m(\u001b[0m\u001b[0mlabel\u001b[0m\u001b[0;34m,\u001b[0m \u001b[0;34m**\u001b[0m\u001b[0mkwargs\u001b[0m\u001b[0;34m)\u001b[0m\u001b[0;34m\u001b[0m\u001b[0m\n\u001b[0m\u001b[1;32m    164\u001b[0m \u001b[0;34m\u001b[0m\u001b[0m\n\u001b[1;32m    165\u001b[0m \u001b[0;34m\u001b[0m\u001b[0m\n",
      "\u001b[0;32m/home/rafael/anaconda/envs/middleearth/lib/python2.7/site-packages/pandas/core/indexes/numeric.pyc\u001b[0m in \u001b[0;36mget_loc\u001b[0;34m(self, key, method, tolerance)\u001b[0m\n\u001b[1;32m    417\u001b[0m             \u001b[0;32mpass\u001b[0m\u001b[0;34m\u001b[0m\u001b[0m\n\u001b[1;32m    418\u001b[0m         return super(Float64Index, self).get_loc(key, method=method,\n\u001b[0;32m--> 419\u001b[0;31m                                                  tolerance=tolerance)\n\u001b[0m\u001b[1;32m    420\u001b[0m \u001b[0;34m\u001b[0m\u001b[0m\n\u001b[1;32m    421\u001b[0m     \u001b[0;34m@\u001b[0m\u001b[0mcache_readonly\u001b[0m\u001b[0;34m\u001b[0m\u001b[0m\n",
      "\u001b[0;32m/home/rafael/anaconda/envs/middleearth/lib/python2.7/site-packages/pandas/core/indexes/base.pyc\u001b[0m in \u001b[0;36mget_loc\u001b[0;34m(self, key, method, tolerance)\u001b[0m\n\u001b[1;32m   3078\u001b[0m                 \u001b[0;32mreturn\u001b[0m \u001b[0mself\u001b[0m\u001b[0;34m.\u001b[0m\u001b[0m_engine\u001b[0m\u001b[0;34m.\u001b[0m\u001b[0mget_loc\u001b[0m\u001b[0;34m(\u001b[0m\u001b[0mkey\u001b[0m\u001b[0;34m)\u001b[0m\u001b[0;34m\u001b[0m\u001b[0m\n\u001b[1;32m   3079\u001b[0m             \u001b[0;32mexcept\u001b[0m \u001b[0mKeyError\u001b[0m\u001b[0;34m:\u001b[0m\u001b[0;34m\u001b[0m\u001b[0m\n\u001b[0;32m-> 3080\u001b[0;31m                 \u001b[0;32mreturn\u001b[0m \u001b[0mself\u001b[0m\u001b[0;34m.\u001b[0m\u001b[0m_engine\u001b[0m\u001b[0;34m.\u001b[0m\u001b[0mget_loc\u001b[0m\u001b[0;34m(\u001b[0m\u001b[0mself\u001b[0m\u001b[0;34m.\u001b[0m\u001b[0m_maybe_cast_indexer\u001b[0m\u001b[0;34m(\u001b[0m\u001b[0mkey\u001b[0m\u001b[0;34m)\u001b[0m\u001b[0;34m)\u001b[0m\u001b[0;34m\u001b[0m\u001b[0m\n\u001b[0m\u001b[1;32m   3081\u001b[0m \u001b[0;34m\u001b[0m\u001b[0m\n\u001b[1;32m   3082\u001b[0m         \u001b[0mindexer\u001b[0m \u001b[0;34m=\u001b[0m \u001b[0mself\u001b[0m\u001b[0;34m.\u001b[0m\u001b[0mget_indexer\u001b[0m\u001b[0;34m(\u001b[0m\u001b[0;34m[\u001b[0m\u001b[0mkey\u001b[0m\u001b[0;34m]\u001b[0m\u001b[0;34m,\u001b[0m \u001b[0mmethod\u001b[0m\u001b[0;34m=\u001b[0m\u001b[0mmethod\u001b[0m\u001b[0;34m,\u001b[0m \u001b[0mtolerance\u001b[0m\u001b[0;34m=\u001b[0m\u001b[0mtolerance\u001b[0m\u001b[0;34m)\u001b[0m\u001b[0;34m\u001b[0m\u001b[0m\n",
      "\u001b[0;32mpandas/_libs/index.pyx\u001b[0m in \u001b[0;36mpandas._libs.index.IndexEngine.get_loc\u001b[0;34m()\u001b[0m\n",
      "\u001b[0;32mpandas/_libs/index.pyx\u001b[0m in \u001b[0;36mpandas._libs.index.IndexEngine.get_loc\u001b[0;34m()\u001b[0m\n",
      "\u001b[0;32mpandas/_libs/hashtable_class_helper.pxi\u001b[0m in \u001b[0;36mpandas._libs.hashtable.Float64HashTable.get_item\u001b[0;34m()\u001b[0m\n",
      "\u001b[0;32mpandas/_libs/hashtable_class_helper.pxi\u001b[0m in \u001b[0;36mpandas._libs.hashtable.Float64HashTable.get_item\u001b[0;34m()\u001b[0m\n",
      "\u001b[0;31mKeyError\u001b[0m: -23.6821604"
     ]
    }
   ],
   "source": [
    "ds.sel(lat=-23.6821604, lon=-46.8755003) # São Paulo"
   ]
  },
  {
   "cell_type": "code",
   "execution_count": 50,
   "metadata": {},
   "outputs": [
    {
     "data": {
      "text/plain": [
       "<xarray.Dataset>\n",
       "Dimensions:  (time: 92)\n",
       "Coordinates:\n",
       "  * time     (time) datetime64[ns] 2018-12-27T21:00:00 2018-12-28 ...\n",
       "    lat      float64 -23.75\n",
       "    lon      float64 -47.0\n",
       "Data variables:\n",
       "    prec     (time) float64 1.272e-14 1.272e-14 0.0 0.0 0.0 0.0 0.4375 5.375 ...\n",
       "    tmax     (time) float64 296.4 296.4 290.7 290.7 290.0 297.8 300.0 300.8 ...\n",
       "    tmin     (time) float64 293.9 290.6 289.6 289.4 289.3 289.3 296.7 296.7 ...\n",
       "    10u      (time) float64 -2.162 -1.668 -1.295 -1.02 -0.7769 -0.5604 ...\n",
       "    10v      (time) float64 2.564 1.319 0.4281 -0.1145 0.05091 -1.107 1.058 ..."
      ]
     },
     "execution_count": 50,
     "metadata": {},
     "output_type": "execute_result"
    }
   ],
   "source": [
    "ds.sel(lat=-23.6821604, lon=-46.8755003, method='nearest')"
   ]
  },
  {
   "cell_type": "markdown",
   "metadata": {},
   "source": [
    "<div class=\"alert alert-block alert-success\">\n",
    "<b>Em que situação isso pode ser usado?</b> Para filtrar seus dados apenas na área ou no tempo que você quer para fazer uma análise ou comparação. O último caso, por exemplo, pode ser usado para selecionar o ponto de grade do modelo mais próximo de uma dada estação para comparação.\n",
    "</div>"
   ]
  },
  {
   "cell_type": "code",
   "execution_count": null,
   "metadata": {
    "collapsed": true
   },
   "outputs": [],
   "source": []
  }
 ],
 "metadata": {
  "kernelspec": {
   "display_name": "Python 2",
   "language": "python",
   "name": "python2"
  },
  "language_info": {
   "codemirror_mode": {
    "name": "ipython",
    "version": 2
   },
   "file_extension": ".py",
   "mimetype": "text/x-python",
   "name": "python",
   "nbconvert_exporter": "python",
   "pygments_lexer": "ipython2",
   "version": "2.7.15"
  }
 },
 "nbformat": 4,
 "nbformat_minor": 2
}
